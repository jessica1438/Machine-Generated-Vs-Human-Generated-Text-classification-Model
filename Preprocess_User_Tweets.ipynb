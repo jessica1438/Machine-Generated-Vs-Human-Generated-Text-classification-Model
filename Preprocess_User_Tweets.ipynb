{
  "cells": [
    {
      "cell_type": "markdown",
      "id": "85306768",
      "metadata": {
        "id": "85306768"
      },
      "source": [
        "# Preprocess and make dataset"
      ]
    },
    {
      "cell_type": "code",
      "execution_count": null,
      "id": "da90328f",
      "metadata": {
        "id": "da90328f"
      },
      "outputs": [],
      "source": [
        "# pip install emoji"
      ]
    },
    {
      "cell_type": "code",
      "execution_count": null,
      "id": "e08be676",
      "metadata": {
        "id": "e08be676"
      },
      "outputs": [],
      "source": [
        "# pip install spacy"
      ]
    },
    {
      "cell_type": "code",
      "execution_count": null,
      "id": "64b8c245",
      "metadata": {
        "id": "64b8c245"
      },
      "outputs": [],
      "source": [
        "# pip install langdetect"
      ]
    },
    {
      "cell_type": "code",
      "execution_count": null,
      "id": "6d210860",
      "metadata": {
        "id": "6d210860"
      },
      "outputs": [],
      "source": [
        "# pip install --upgrade fasttext"
      ]
    },
    {
      "cell_type": "code",
      "execution_count": null,
      "id": "a97522fe",
      "metadata": {
        "id": "a97522fe"
      },
      "outputs": [],
      "source": [
        "# !python -m spacy download en_core_web_sm"
      ]
    },
    {
      "cell_type": "code",
      "execution_count": null,
      "id": "201c2d63",
      "metadata": {
        "id": "201c2d63"
      },
      "outputs": [],
      "source": [
        "import pandas as pd\n",
        "import re\n",
        "import emoji\n",
        "from keras.preprocessing.text import text_to_word_sequence\n",
        "import nltk\n",
        "from nltk.corpus import stopwords\n",
        "from nltk.tokenize import word_tokenize\n",
        "from nltk.stem import WordNetLemmatizer\n",
        "import spacy\n",
        "from langdetect import detect\n",
        "from sklearn.feature_extraction.text import TfidfVectorizer\n",
        "import fasttext\n",
        "\n",
        "from sklearn.feature_extraction.text import ENGLISH_STOP_WORDS\n",
        "from gensim.parsing.preprocessing import STOPWORDS as gensim_stopwords"
      ]
    },
    {
      "cell_type": "code",
      "execution_count": null,
      "id": "a4b82404",
      "metadata": {
        "id": "a4b82404"
      },
      "outputs": [],
      "source": [
        "# nltk.download('averaged_perceptron_tagger')"
      ]
    },
    {
      "cell_type": "markdown",
      "id": "9bf77f41",
      "metadata": {
        "id": "9bf77f41"
      },
      "source": [
        "## Dataset"
      ]
    },
    {
      "cell_type": "code",
      "execution_count": null,
      "id": "ea175547",
      "metadata": {
        "id": "ea175547"
      },
      "outputs": [],
      "source": [
        "fifa = 'tweets/fifa_world_cup_2022_tweets.csv'\n",
        "g_of_t = 'tweets/GameofThronesS8.csv'\n",
        "trump = 'tweets/hashtag_donaldtrump.csv'\n",
        "biden = 'tweets/hashtag_joebiden.csv'"
      ]
    },
    {
      "cell_type": "markdown",
      "id": "94c0175d",
      "metadata": {
        "id": "94c0175d"
      },
      "source": [
        "### FIFA"
      ]
    },
    {
      "cell_type": "code",
      "execution_count": null,
      "id": "c08c2711",
      "metadata": {
        "id": "c08c2711",
        "outputId": "c55768a5-8100-406d-82ef-58b48bd3b206"
      },
      "outputs": [
        {
          "data": {
            "text/html": [
              "<div>\n",
              "<style scoped>\n",
              "    .dataframe tbody tr th:only-of-type {\n",
              "        vertical-align: middle;\n",
              "    }\n",
              "\n",
              "    .dataframe tbody tr th {\n",
              "        vertical-align: top;\n",
              "    }\n",
              "\n",
              "    .dataframe thead th {\n",
              "        text-align: right;\n",
              "    }\n",
              "</style>\n",
              "<table border=\"1\" class=\"dataframe\">\n",
              "  <thead>\n",
              "    <tr style=\"text-align: right;\">\n",
              "      <th></th>\n",
              "      <th>Unnamed: 0</th>\n",
              "      <th>Date Created</th>\n",
              "      <th>Number of Likes</th>\n",
              "      <th>Source of Tweet</th>\n",
              "      <th>Tweet</th>\n",
              "      <th>Sentiment</th>\n",
              "    </tr>\n",
              "  </thead>\n",
              "  <tbody>\n",
              "    <tr>\n",
              "      <th>0</th>\n",
              "      <td>0</td>\n",
              "      <td>2022-11-20 23:59:21+00:00</td>\n",
              "      <td>4</td>\n",
              "      <td>Twitter Web App</td>\n",
              "      <td>What are we drinking today @TucanTribe \\n@MadB...</td>\n",
              "      <td>neutral</td>\n",
              "    </tr>\n",
              "    <tr>\n",
              "      <th>1</th>\n",
              "      <td>1</td>\n",
              "      <td>2022-11-20 23:59:01+00:00</td>\n",
              "      <td>3</td>\n",
              "      <td>Twitter for iPhone</td>\n",
              "      <td>Amazing @CanadaSoccerEN  #WorldCup2022 launch ...</td>\n",
              "      <td>positive</td>\n",
              "    </tr>\n",
              "    <tr>\n",
              "      <th>2</th>\n",
              "      <td>2</td>\n",
              "      <td>2022-11-20 23:58:41+00:00</td>\n",
              "      <td>1</td>\n",
              "      <td>Twitter for iPhone</td>\n",
              "      <td>Worth reading while watching #WorldCup2022 htt...</td>\n",
              "      <td>positive</td>\n",
              "    </tr>\n",
              "    <tr>\n",
              "      <th>3</th>\n",
              "      <td>3</td>\n",
              "      <td>2022-11-20 23:58:33+00:00</td>\n",
              "      <td>1</td>\n",
              "      <td>Twitter Web App</td>\n",
              "      <td>Golden Maknae shinning bright\\n\\nhttps://t.co/...</td>\n",
              "      <td>positive</td>\n",
              "    </tr>\n",
              "    <tr>\n",
              "      <th>4</th>\n",
              "      <td>4</td>\n",
              "      <td>2022-11-20 23:58:28+00:00</td>\n",
              "      <td>0</td>\n",
              "      <td>Twitter for Android</td>\n",
              "      <td>If the BBC cares so much about human rights, h...</td>\n",
              "      <td>negative</td>\n",
              "    </tr>\n",
              "  </tbody>\n",
              "</table>\n",
              "</div>"
            ],
            "text/plain": [
              "   Unnamed: 0               Date Created  Number of Likes  \\\n",
              "0           0  2022-11-20 23:59:21+00:00                4   \n",
              "1           1  2022-11-20 23:59:01+00:00                3   \n",
              "2           2  2022-11-20 23:58:41+00:00                1   \n",
              "3           3  2022-11-20 23:58:33+00:00                1   \n",
              "4           4  2022-11-20 23:58:28+00:00                0   \n",
              "\n",
              "       Source of Tweet                                              Tweet  \\\n",
              "0      Twitter Web App  What are we drinking today @TucanTribe \\n@MadB...   \n",
              "1   Twitter for iPhone  Amazing @CanadaSoccerEN  #WorldCup2022 launch ...   \n",
              "2   Twitter for iPhone  Worth reading while watching #WorldCup2022 htt...   \n",
              "3      Twitter Web App  Golden Maknae shinning bright\\n\\nhttps://t.co/...   \n",
              "4  Twitter for Android  If the BBC cares so much about human rights, h...   \n",
              "\n",
              "  Sentiment  \n",
              "0   neutral  \n",
              "1  positive  \n",
              "2  positive  \n",
              "3  positive  \n",
              "4  negative  "
            ]
          },
          "execution_count": 232,
          "metadata": {},
          "output_type": "execute_result"
        }
      ],
      "source": [
        "# read as dataframe\n",
        "fifa = pd.read_csv(fifa)\n",
        "fifa.head()"
      ]
    },
    {
      "cell_type": "markdown",
      "id": "b36f417d",
      "metadata": {
        "id": "b36f417d"
      },
      "source": [
        "#### Make df columns to be ['Tweet', 'Topics', 'Human_generated']"
      ]
    },
    {
      "cell_type": "code",
      "execution_count": null,
      "id": "886b1aea",
      "metadata": {
        "id": "886b1aea",
        "outputId": "77087726-dcfd-49f7-d4c6-6649fec7a3a0"
      },
      "outputs": [
        {
          "data": {
            "text/html": [
              "<div>\n",
              "<style scoped>\n",
              "    .dataframe tbody tr th:only-of-type {\n",
              "        vertical-align: middle;\n",
              "    }\n",
              "\n",
              "    .dataframe tbody tr th {\n",
              "        vertical-align: top;\n",
              "    }\n",
              "\n",
              "    .dataframe thead th {\n",
              "        text-align: right;\n",
              "    }\n",
              "</style>\n",
              "<table border=\"1\" class=\"dataframe\">\n",
              "  <thead>\n",
              "    <tr style=\"text-align: right;\">\n",
              "      <th></th>\n",
              "      <th>Tweet</th>\n",
              "      <th>Topics</th>\n",
              "      <th>Human_generated</th>\n",
              "    </tr>\n",
              "  </thead>\n",
              "  <tbody>\n",
              "    <tr>\n",
              "      <th>0</th>\n",
              "      <td>What are we drinking today @TucanTribe \\n@MadB...</td>\n",
              "      <td>Fifa</td>\n",
              "      <td>1</td>\n",
              "    </tr>\n",
              "    <tr>\n",
              "      <th>1</th>\n",
              "      <td>Amazing @CanadaSoccerEN  #WorldCup2022 launch ...</td>\n",
              "      <td>Fifa</td>\n",
              "      <td>1</td>\n",
              "    </tr>\n",
              "    <tr>\n",
              "      <th>2</th>\n",
              "      <td>Worth reading while watching #WorldCup2022 htt...</td>\n",
              "      <td>Fifa</td>\n",
              "      <td>1</td>\n",
              "    </tr>\n",
              "    <tr>\n",
              "      <th>3</th>\n",
              "      <td>Golden Maknae shinning bright\\n\\nhttps://t.co/...</td>\n",
              "      <td>Fifa</td>\n",
              "      <td>1</td>\n",
              "    </tr>\n",
              "    <tr>\n",
              "      <th>4</th>\n",
              "      <td>If the BBC cares so much about human rights, h...</td>\n",
              "      <td>Fifa</td>\n",
              "      <td>1</td>\n",
              "    </tr>\n",
              "  </tbody>\n",
              "</table>\n",
              "</div>"
            ],
            "text/plain": [
              "                                               Tweet Topics  Human_generated\n",
              "0  What are we drinking today @TucanTribe \\n@MadB...   Fifa                1\n",
              "1  Amazing @CanadaSoccerEN  #WorldCup2022 launch ...   Fifa                1\n",
              "2  Worth reading while watching #WorldCup2022 htt...   Fifa                1\n",
              "3  Golden Maknae shinning bright\\n\\nhttps://t.co/...   Fifa                1\n",
              "4  If the BBC cares so much about human rights, h...   Fifa                1"
            ]
          },
          "execution_count": 233,
          "metadata": {},
          "output_type": "execute_result"
        }
      ],
      "source": [
        "fifa_df = fifa[['Tweet']].copy()\n",
        "fifa_df.loc[:, 'Topics'] = 'Fifa'\n",
        "fifa_df.loc[:, 'Human_generated'] = 1\n",
        "\n",
        "fifa_df.head()"
      ]
    },
    {
      "cell_type": "code",
      "execution_count": null,
      "id": "d25cbce8",
      "metadata": {
        "id": "d25cbce8",
        "outputId": "511637be-ed1b-42e1-de02-6db05f2b96d7"
      },
      "outputs": [
        {
          "data": {
            "text/plain": [
              "Tweet              0\n",
              "Topics             0\n",
              "Human_generated    0\n",
              "dtype: int64"
            ]
          },
          "execution_count": 234,
          "metadata": {},
          "output_type": "execute_result"
        }
      ],
      "source": [
        "fifa_df.isnull().sum()"
      ]
    },
    {
      "cell_type": "markdown",
      "id": "62488e5a",
      "metadata": {
        "id": "62488e5a"
      },
      "source": [
        "### Game of ThronesS8"
      ]
    },
    {
      "cell_type": "code",
      "execution_count": null,
      "id": "3ad129b2",
      "metadata": {
        "id": "3ad129b2",
        "outputId": "28caf23b-2704-4c9e-8ef1-59da26778141"
      },
      "outputs": [
        {
          "name": "stderr",
          "output_type": "stream",
          "text": [
            "/var/folders/3y/45kdydws3r36_58_j4drldhm0000gn/T/ipykernel_5784/3428197056.py:1: DtypeWarning: Columns (15) have mixed types. Specify dtype option on import or set low_memory=False.\n",
            "  game = pd.read_csv(g_of_t)\n"
          ]
        }
      ],
      "source": [
        "game = pd.read_csv(g_of_t)"
      ]
    },
    {
      "cell_type": "code",
      "execution_count": null,
      "id": "710754eb",
      "metadata": {
        "id": "710754eb",
        "outputId": "6b36cd5b-ceb6-474c-9691-e0ad99ca1ca7"
      },
      "outputs": [
        {
          "data": {
            "text/plain": [
              "Index(['user_id', 'status_id', 'created_at', 'screen_name', 'text', 'source',\n",
              "       'display_text_width', 'reply_to_status_id', 'reply_to_user_id',\n",
              "       'reply_to_screen_name', 'is_quote', 'is_retweet', 'favorite_count',\n",
              "       'retweet_count', 'hashtags', 'symbols', 'urls_url', 'urls_t.co',\n",
              "       'urls_expanded_url', 'media_url', 'media_t.co', 'media_expanded_url',\n",
              "       'media_type', 'ext_media_url', 'ext_media_t.co',\n",
              "       'ext_media_expanded_url', 'ext_media_type', 'mentions_user_id',\n",
              "       'mentions_screen_name', 'lang', 'quoted_status_id', 'quoted_text',\n",
              "       'quoted_created_at', 'quoted_source', 'quoted_favorite_count',\n",
              "       'quoted_retweet_count', 'quoted_user_id', 'quoted_screen_name',\n",
              "       'quoted_name', 'quoted_followers_count', 'quoted_friends_count',\n",
              "       'quoted_statuses_count', 'quoted_location', 'quoted_description',\n",
              "       'quoted_verified', 'retweet_status_id', 'retweet_text',\n",
              "       'retweet_created_at', 'retweet_source', 'retweet_favorite_count',\n",
              "       'retweet_retweet_count', 'retweet_user_id', 'retweet_screen_name',\n",
              "       'retweet_name', 'retweet_followers_count', 'retweet_friends_count',\n",
              "       'retweet_statuses_count', 'retweet_location', 'retweet_description',\n",
              "       'retweet_verified', 'place_url', 'place_name', 'place_full_name',\n",
              "       'place_type', 'country', 'country_code', 'geo_coords', 'coords_coords',\n",
              "       'bbox_coords', 'status_url', 'name', 'location', 'description', 'url',\n",
              "       'protected', 'followers_count', 'friends_count', 'listed_count',\n",
              "       'statuses_count', 'favourites_count', 'account_created_at', 'verified',\n",
              "       'profile_url', 'profile_expanded_url', 'account_lang',\n",
              "       'profile_banner_url', 'profile_background_url', 'profile_image_url'],\n",
              "      dtype='object')"
            ]
          },
          "execution_count": 236,
          "metadata": {},
          "output_type": "execute_result"
        }
      ],
      "source": [
        "game.columns"
      ]
    },
    {
      "cell_type": "markdown",
      "id": "91ea145a",
      "metadata": {
        "id": "91ea145a"
      },
      "source": [
        "#### Make df columns to be ['Tweet', 'Topics', 'Human_generated']¶"
      ]
    },
    {
      "cell_type": "code",
      "execution_count": null,
      "id": "f476b27e",
      "metadata": {
        "id": "f476b27e",
        "outputId": "d463e249-5e26-43dd-b53d-154a913e01d1"
      },
      "outputs": [
        {
          "data": {
            "text/html": [
              "<div>\n",
              "<style scoped>\n",
              "    .dataframe tbody tr th:only-of-type {\n",
              "        vertical-align: middle;\n",
              "    }\n",
              "\n",
              "    .dataframe tbody tr th {\n",
              "        vertical-align: top;\n",
              "    }\n",
              "\n",
              "    .dataframe thead th {\n",
              "        text-align: right;\n",
              "    }\n",
              "</style>\n",
              "<table border=\"1\" class=\"dataframe\">\n",
              "  <thead>\n",
              "    <tr style=\"text-align: right;\">\n",
              "      <th></th>\n",
              "      <th>Tweet</th>\n",
              "      <th>Topics</th>\n",
              "      <th>Human_generated</th>\n",
              "    </tr>\n",
              "  </thead>\n",
              "  <tbody>\n",
              "    <tr>\n",
              "      <th>0</th>\n",
              "      <td>👍 on @YouTube: GAME OF THRONES 8x01 Breakdown!...</td>\n",
              "      <td>Game</td>\n",
              "      <td>1</td>\n",
              "    </tr>\n",
              "    <tr>\n",
              "      <th>1</th>\n",
              "      <td>👍 on @YouTube: Ups and Downs From Game Of Thro...</td>\n",
              "      <td>Game</td>\n",
              "      <td>1</td>\n",
              "    </tr>\n",
              "    <tr>\n",
              "      <th>2</th>\n",
              "      <td>Liked on YouTube: Ups and Downs From Game Of T...</td>\n",
              "      <td>Game</td>\n",
              "      <td>1</td>\n",
              "    </tr>\n",
              "    <tr>\n",
              "      <th>3</th>\n",
              "      <td>Liked on YouTube: GAME OF THRONES 8x01 Breakdo...</td>\n",
              "      <td>Game</td>\n",
              "      <td>1</td>\n",
              "    </tr>\n",
              "    <tr>\n",
              "      <th>4</th>\n",
              "      <td>@MrLegenDarius unpopular opinion: game of thro...</td>\n",
              "      <td>Game</td>\n",
              "      <td>1</td>\n",
              "    </tr>\n",
              "  </tbody>\n",
              "</table>\n",
              "</div>"
            ],
            "text/plain": [
              "                                               Tweet Topics  Human_generated\n",
              "0  👍 on @YouTube: GAME OF THRONES 8x01 Breakdown!...   Game                1\n",
              "1  👍 on @YouTube: Ups and Downs From Game Of Thro...   Game                1\n",
              "2  Liked on YouTube: Ups and Downs From Game Of T...   Game                1\n",
              "3  Liked on YouTube: GAME OF THRONES 8x01 Breakdo...   Game                1\n",
              "4  @MrLegenDarius unpopular opinion: game of thro...   Game                1"
            ]
          },
          "execution_count": 237,
          "metadata": {},
          "output_type": "execute_result"
        }
      ],
      "source": [
        "game_df = game[['text']].copy()\n",
        "game_df.rename(columns = {'text': 'Tweet'}, inplace=True)\n",
        "game_df.loc[:, 'Topics'] = 'Game'\n",
        "game_df.loc[:, 'Human_generated'] = 1\n",
        "game_df.head()"
      ]
    },
    {
      "cell_type": "code",
      "execution_count": null,
      "id": "63244dea",
      "metadata": {
        "id": "63244dea",
        "outputId": "802355ba-4ae5-461d-89d8-8df34ddc0789"
      },
      "outputs": [
        {
          "data": {
            "text/plain": [
              "Tweet              0\n",
              "Topics             0\n",
              "Human_generated    0\n",
              "dtype: int64"
            ]
          },
          "execution_count": 238,
          "metadata": {},
          "output_type": "execute_result"
        }
      ],
      "source": [
        "game_df.isnull().sum()"
      ]
    },
    {
      "cell_type": "markdown",
      "id": "cfbf5c3e",
      "metadata": {
        "id": "cfbf5c3e"
      },
      "source": [
        "### Elections"
      ]
    },
    {
      "cell_type": "code",
      "execution_count": null,
      "id": "cf7462a1",
      "metadata": {
        "id": "cf7462a1",
        "outputId": "4d076c12-f94e-4f61-a372-76b88ebe4346"
      },
      "outputs": [
        {
          "data": {
            "text/html": [
              "<div>\n",
              "<style scoped>\n",
              "    .dataframe tbody tr th:only-of-type {\n",
              "        vertical-align: middle;\n",
              "    }\n",
              "\n",
              "    .dataframe tbody tr th {\n",
              "        vertical-align: top;\n",
              "    }\n",
              "\n",
              "    .dataframe thead th {\n",
              "        text-align: right;\n",
              "    }\n",
              "</style>\n",
              "<table border=\"1\" class=\"dataframe\">\n",
              "  <thead>\n",
              "    <tr style=\"text-align: right;\">\n",
              "      <th></th>\n",
              "      <th>created_at</th>\n",
              "      <th>tweet_id</th>\n",
              "      <th>tweet</th>\n",
              "      <th>likes</th>\n",
              "      <th>retweet_count</th>\n",
              "      <th>source</th>\n",
              "      <th>user_id</th>\n",
              "      <th>user_name</th>\n",
              "      <th>user_screen_name</th>\n",
              "      <th>user_description</th>\n",
              "      <th>...</th>\n",
              "      <th>user_followers_count</th>\n",
              "      <th>user_location</th>\n",
              "      <th>lat</th>\n",
              "      <th>long</th>\n",
              "      <th>city</th>\n",
              "      <th>country</th>\n",
              "      <th>continent</th>\n",
              "      <th>state</th>\n",
              "      <th>state_code</th>\n",
              "      <th>collected_at</th>\n",
              "    </tr>\n",
              "  </thead>\n",
              "  <tbody>\n",
              "    <tr>\n",
              "      <th>0</th>\n",
              "      <td>2020-10-15 00:00:01</td>\n",
              "      <td>1.316529e+18</td>\n",
              "      <td>#Elecciones2020 | En #Florida: #JoeBiden dice ...</td>\n",
              "      <td>0.0</td>\n",
              "      <td>0.0</td>\n",
              "      <td>TweetDeck</td>\n",
              "      <td>3.606665e+08</td>\n",
              "      <td>El Sol Latino News</td>\n",
              "      <td>elsollatinonews</td>\n",
              "      <td>🌐 Noticias de interés para latinos de la costa...</td>\n",
              "      <td>...</td>\n",
              "      <td>1860.0</td>\n",
              "      <td>Philadelphia, PA / Miami, FL</td>\n",
              "      <td>25.774270</td>\n",
              "      <td>-80.193660</td>\n",
              "      <td>NaN</td>\n",
              "      <td>United States of America</td>\n",
              "      <td>North America</td>\n",
              "      <td>Florida</td>\n",
              "      <td>FL</td>\n",
              "      <td>2020-10-21 00:00:00</td>\n",
              "    </tr>\n",
              "    <tr>\n",
              "      <th>1</th>\n",
              "      <td>2020-10-15 00:00:01</td>\n",
              "      <td>1.316529e+18</td>\n",
              "      <td>Usa 2020, Trump contro Facebook e Twitter: cop...</td>\n",
              "      <td>26.0</td>\n",
              "      <td>9.0</td>\n",
              "      <td>Social Mediaset</td>\n",
              "      <td>3.316176e+08</td>\n",
              "      <td>Tgcom24</td>\n",
              "      <td>MediasetTgcom24</td>\n",
              "      <td>Profilo ufficiale di Tgcom24: tutte le notizie...</td>\n",
              "      <td>...</td>\n",
              "      <td>1067661.0</td>\n",
              "      <td>NaN</td>\n",
              "      <td>NaN</td>\n",
              "      <td>NaN</td>\n",
              "      <td>NaN</td>\n",
              "      <td>NaN</td>\n",
              "      <td>NaN</td>\n",
              "      <td>NaN</td>\n",
              "      <td>NaN</td>\n",
              "      <td>2020-10-21 00:00:00.373216530</td>\n",
              "    </tr>\n",
              "    <tr>\n",
              "      <th>2</th>\n",
              "      <td>2020-10-15 00:00:02</td>\n",
              "      <td>1.316529e+18</td>\n",
              "      <td>#Trump: As a student I used to hear for years,...</td>\n",
              "      <td>2.0</td>\n",
              "      <td>1.0</td>\n",
              "      <td>Twitter Web App</td>\n",
              "      <td>8.436472e+06</td>\n",
              "      <td>snarke</td>\n",
              "      <td>snarke</td>\n",
              "      <td>Will mock for food! Freelance writer, blogger,...</td>\n",
              "      <td>...</td>\n",
              "      <td>1185.0</td>\n",
              "      <td>Portland</td>\n",
              "      <td>45.520247</td>\n",
              "      <td>-122.674195</td>\n",
              "      <td>Portland</td>\n",
              "      <td>United States of America</td>\n",
              "      <td>North America</td>\n",
              "      <td>Oregon</td>\n",
              "      <td>OR</td>\n",
              "      <td>2020-10-21 00:00:00.746433060</td>\n",
              "    </tr>\n",
              "    <tr>\n",
              "      <th>3</th>\n",
              "      <td>2020-10-15 00:00:02</td>\n",
              "      <td>1.316529e+18</td>\n",
              "      <td>2 hours since last tweet from #Trump! Maybe he...</td>\n",
              "      <td>0.0</td>\n",
              "      <td>0.0</td>\n",
              "      <td>Trumpytweeter</td>\n",
              "      <td>8.283556e+17</td>\n",
              "      <td>Trumpytweeter</td>\n",
              "      <td>trumpytweeter</td>\n",
              "      <td>If he doesn't tweet for some time, should we b...</td>\n",
              "      <td>...</td>\n",
              "      <td>32.0</td>\n",
              "      <td>NaN</td>\n",
              "      <td>NaN</td>\n",
              "      <td>NaN</td>\n",
              "      <td>NaN</td>\n",
              "      <td>NaN</td>\n",
              "      <td>NaN</td>\n",
              "      <td>NaN</td>\n",
              "      <td>NaN</td>\n",
              "      <td>2020-10-21 00:00:01.119649591</td>\n",
              "    </tr>\n",
              "    <tr>\n",
              "      <th>4</th>\n",
              "      <td>2020-10-15 00:00:08</td>\n",
              "      <td>1.316529e+18</td>\n",
              "      <td>You get a tie! And you get a tie! #Trump ‘s ra...</td>\n",
              "      <td>4.0</td>\n",
              "      <td>3.0</td>\n",
              "      <td>Twitter for iPhone</td>\n",
              "      <td>4.741380e+07</td>\n",
              "      <td>Rana Abtar - رنا أبتر</td>\n",
              "      <td>Ranaabtar</td>\n",
              "      <td>Washington Correspondent, Lebanese-American ,c...</td>\n",
              "      <td>...</td>\n",
              "      <td>5393.0</td>\n",
              "      <td>Washington DC</td>\n",
              "      <td>38.894992</td>\n",
              "      <td>-77.036558</td>\n",
              "      <td>Washington</td>\n",
              "      <td>United States of America</td>\n",
              "      <td>North America</td>\n",
              "      <td>District of Columbia</td>\n",
              "      <td>DC</td>\n",
              "      <td>2020-10-21 00:00:01.492866121</td>\n",
              "    </tr>\n",
              "  </tbody>\n",
              "</table>\n",
              "<p>5 rows × 21 columns</p>\n",
              "</div>"
            ],
            "text/plain": [
              "            created_at      tweet_id  \\\n",
              "0  2020-10-15 00:00:01  1.316529e+18   \n",
              "1  2020-10-15 00:00:01  1.316529e+18   \n",
              "2  2020-10-15 00:00:02  1.316529e+18   \n",
              "3  2020-10-15 00:00:02  1.316529e+18   \n",
              "4  2020-10-15 00:00:08  1.316529e+18   \n",
              "\n",
              "                                               tweet  likes  retweet_count  \\\n",
              "0  #Elecciones2020 | En #Florida: #JoeBiden dice ...    0.0            0.0   \n",
              "1  Usa 2020, Trump contro Facebook e Twitter: cop...   26.0            9.0   \n",
              "2  #Trump: As a student I used to hear for years,...    2.0            1.0   \n",
              "3  2 hours since last tweet from #Trump! Maybe he...    0.0            0.0   \n",
              "4  You get a tie! And you get a tie! #Trump ‘s ra...    4.0            3.0   \n",
              "\n",
              "               source       user_id              user_name user_screen_name  \\\n",
              "0           TweetDeck  3.606665e+08     El Sol Latino News  elsollatinonews   \n",
              "1    Social Mediaset   3.316176e+08                Tgcom24  MediasetTgcom24   \n",
              "2     Twitter Web App  8.436472e+06                 snarke           snarke   \n",
              "3       Trumpytweeter  8.283556e+17          Trumpytweeter    trumpytweeter   \n",
              "4  Twitter for iPhone  4.741380e+07  Rana Abtar - رنا أبتر        Ranaabtar   \n",
              "\n",
              "                                    user_description  ...  \\\n",
              "0  🌐 Noticias de interés para latinos de la costa...  ...   \n",
              "1  Profilo ufficiale di Tgcom24: tutte le notizie...  ...   \n",
              "2  Will mock for food! Freelance writer, blogger,...  ...   \n",
              "3  If he doesn't tweet for some time, should we b...  ...   \n",
              "4  Washington Correspondent, Lebanese-American ,c...  ...   \n",
              "\n",
              "  user_followers_count                 user_location        lat        long  \\\n",
              "0               1860.0  Philadelphia, PA / Miami, FL  25.774270  -80.193660   \n",
              "1            1067661.0                           NaN        NaN         NaN   \n",
              "2               1185.0                      Portland  45.520247 -122.674195   \n",
              "3                 32.0                           NaN        NaN         NaN   \n",
              "4               5393.0                 Washington DC  38.894992  -77.036558   \n",
              "\n",
              "         city                   country      continent                 state  \\\n",
              "0         NaN  United States of America  North America               Florida   \n",
              "1         NaN                       NaN            NaN                   NaN   \n",
              "2    Portland  United States of America  North America                Oregon   \n",
              "3         NaN                       NaN            NaN                   NaN   \n",
              "4  Washington  United States of America  North America  District of Columbia   \n",
              "\n",
              "  state_code                   collected_at  \n",
              "0         FL            2020-10-21 00:00:00  \n",
              "1        NaN  2020-10-21 00:00:00.373216530  \n",
              "2         OR  2020-10-21 00:00:00.746433060  \n",
              "3        NaN  2020-10-21 00:00:01.119649591  \n",
              "4         DC  2020-10-21 00:00:01.492866121  \n",
              "\n",
              "[5 rows x 21 columns]"
            ]
          },
          "execution_count": 239,
          "metadata": {},
          "output_type": "execute_result"
        }
      ],
      "source": [
        "trump = pd.read_csv(trump, lineterminator='\\n')\n",
        "trump.head()"
      ]
    },
    {
      "cell_type": "code",
      "execution_count": null,
      "id": "1022d716",
      "metadata": {
        "id": "1022d716",
        "outputId": "5afbfb71-ec02-4f7f-9aad-4a76a31d37a8"
      },
      "outputs": [
        {
          "data": {
            "text/html": [
              "<div>\n",
              "<style scoped>\n",
              "    .dataframe tbody tr th:only-of-type {\n",
              "        vertical-align: middle;\n",
              "    }\n",
              "\n",
              "    .dataframe tbody tr th {\n",
              "        vertical-align: top;\n",
              "    }\n",
              "\n",
              "    .dataframe thead th {\n",
              "        text-align: right;\n",
              "    }\n",
              "</style>\n",
              "<table border=\"1\" class=\"dataframe\">\n",
              "  <thead>\n",
              "    <tr style=\"text-align: right;\">\n",
              "      <th></th>\n",
              "      <th>Tweet</th>\n",
              "      <th>Topics</th>\n",
              "      <th>Human_generated</th>\n",
              "    </tr>\n",
              "  </thead>\n",
              "  <tbody>\n",
              "    <tr>\n",
              "      <th>0</th>\n",
              "      <td>#Elecciones2020 | En #Florida: #JoeBiden dice ...</td>\n",
              "      <td>Election</td>\n",
              "      <td>1</td>\n",
              "    </tr>\n",
              "    <tr>\n",
              "      <th>1</th>\n",
              "      <td>Usa 2020, Trump contro Facebook e Twitter: cop...</td>\n",
              "      <td>Election</td>\n",
              "      <td>1</td>\n",
              "    </tr>\n",
              "    <tr>\n",
              "      <th>2</th>\n",
              "      <td>#Trump: As a student I used to hear for years,...</td>\n",
              "      <td>Election</td>\n",
              "      <td>1</td>\n",
              "    </tr>\n",
              "    <tr>\n",
              "      <th>3</th>\n",
              "      <td>2 hours since last tweet from #Trump! Maybe he...</td>\n",
              "      <td>Election</td>\n",
              "      <td>1</td>\n",
              "    </tr>\n",
              "    <tr>\n",
              "      <th>4</th>\n",
              "      <td>You get a tie! And you get a tie! #Trump ‘s ra...</td>\n",
              "      <td>Election</td>\n",
              "      <td>1</td>\n",
              "    </tr>\n",
              "  </tbody>\n",
              "</table>\n",
              "</div>"
            ],
            "text/plain": [
              "                                               Tweet    Topics  \\\n",
              "0  #Elecciones2020 | En #Florida: #JoeBiden dice ...  Election   \n",
              "1  Usa 2020, Trump contro Facebook e Twitter: cop...  Election   \n",
              "2  #Trump: As a student I used to hear for years,...  Election   \n",
              "3  2 hours since last tweet from #Trump! Maybe he...  Election   \n",
              "4  You get a tie! And you get a tie! #Trump ‘s ra...  Election   \n",
              "\n",
              "   Human_generated  \n",
              "0                1  \n",
              "1                1  \n",
              "2                1  \n",
              "3                1  \n",
              "4                1  "
            ]
          },
          "execution_count": 240,
          "metadata": {},
          "output_type": "execute_result"
        }
      ],
      "source": [
        "trump_df = trump[['tweet']].copy()\n",
        "trump_df.rename(columns = {'tweet': 'Tweet'}, inplace=True)\n",
        "trump_df.loc[:, 'Topics'] = 'Election'\n",
        "trump_df.loc[:, 'Human_generated'] = 1\n",
        "trump_df.head()"
      ]
    },
    {
      "cell_type": "code",
      "execution_count": null,
      "id": "270e5adb",
      "metadata": {
        "id": "270e5adb",
        "outputId": "26100f5a-0d1b-423f-ed80-5debe46117b1"
      },
      "outputs": [
        {
          "data": {
            "text/plain": [
              "Tweet              0\n",
              "Topics             0\n",
              "Human_generated    0\n",
              "dtype: int64"
            ]
          },
          "execution_count": 241,
          "metadata": {},
          "output_type": "execute_result"
        }
      ],
      "source": [
        "trump_df.isna().sum()"
      ]
    },
    {
      "cell_type": "code",
      "execution_count": null,
      "id": "e5b71f4a",
      "metadata": {
        "id": "e5b71f4a",
        "outputId": "1e8e471e-7bd8-4f11-b78b-67b48f9309cc"
      },
      "outputs": [
        {
          "data": {
            "text/plain": [
              "(970919, 3)"
            ]
          },
          "execution_count": 242,
          "metadata": {},
          "output_type": "execute_result"
        }
      ],
      "source": [
        "trump_df.shape"
      ]
    },
    {
      "cell_type": "code",
      "execution_count": null,
      "id": "47956b45",
      "metadata": {
        "id": "47956b45",
        "outputId": "ae6075c1-97f9-4221-f1c9-4429930367cf"
      },
      "outputs": [
        {
          "data": {
            "text/html": [
              "<div>\n",
              "<style scoped>\n",
              "    .dataframe tbody tr th:only-of-type {\n",
              "        vertical-align: middle;\n",
              "    }\n",
              "\n",
              "    .dataframe tbody tr th {\n",
              "        vertical-align: top;\n",
              "    }\n",
              "\n",
              "    .dataframe thead th {\n",
              "        text-align: right;\n",
              "    }\n",
              "</style>\n",
              "<table border=\"1\" class=\"dataframe\">\n",
              "  <thead>\n",
              "    <tr style=\"text-align: right;\">\n",
              "      <th></th>\n",
              "      <th>created_at</th>\n",
              "      <th>tweet_id</th>\n",
              "      <th>tweet</th>\n",
              "      <th>likes</th>\n",
              "      <th>retweet_count</th>\n",
              "      <th>source</th>\n",
              "      <th>user_id</th>\n",
              "      <th>user_name</th>\n",
              "      <th>user_screen_name</th>\n",
              "      <th>user_description</th>\n",
              "      <th>...</th>\n",
              "      <th>user_followers_count</th>\n",
              "      <th>user_location</th>\n",
              "      <th>lat</th>\n",
              "      <th>long</th>\n",
              "      <th>city</th>\n",
              "      <th>country</th>\n",
              "      <th>continent</th>\n",
              "      <th>state</th>\n",
              "      <th>state_code</th>\n",
              "      <th>collected_at</th>\n",
              "    </tr>\n",
              "  </thead>\n",
              "  <tbody>\n",
              "    <tr>\n",
              "      <th>0</th>\n",
              "      <td>2020-10-15 00:00:01</td>\n",
              "      <td>1.316529e+18</td>\n",
              "      <td>#Elecciones2020 | En #Florida: #JoeBiden dice ...</td>\n",
              "      <td>0.0</td>\n",
              "      <td>0.0</td>\n",
              "      <td>TweetDeck</td>\n",
              "      <td>3.606665e+08</td>\n",
              "      <td>El Sol Latino News</td>\n",
              "      <td>elsollatinonews</td>\n",
              "      <td>🌐 Noticias de interés para latinos de la costa...</td>\n",
              "      <td>...</td>\n",
              "      <td>1860.0</td>\n",
              "      <td>Philadelphia, PA / Miami, FL</td>\n",
              "      <td>25.774270</td>\n",
              "      <td>-80.193660</td>\n",
              "      <td>NaN</td>\n",
              "      <td>United States of America</td>\n",
              "      <td>North America</td>\n",
              "      <td>Florida</td>\n",
              "      <td>FL</td>\n",
              "      <td>2020-10-21 00:00:00</td>\n",
              "    </tr>\n",
              "    <tr>\n",
              "      <th>1</th>\n",
              "      <td>2020-10-15 00:00:18</td>\n",
              "      <td>1.316529e+18</td>\n",
              "      <td>#HunterBiden #HunterBidenEmails #JoeBiden #Joe...</td>\n",
              "      <td>0.0</td>\n",
              "      <td>0.0</td>\n",
              "      <td>Twitter for iPad</td>\n",
              "      <td>8.099044e+08</td>\n",
              "      <td>Cheri A. 🇺🇸</td>\n",
              "      <td>Biloximeemaw</td>\n",
              "      <td>Locked and loaded Meemaw. Love God, my family ...</td>\n",
              "      <td>...</td>\n",
              "      <td>6628.0</td>\n",
              "      <td>NaN</td>\n",
              "      <td>NaN</td>\n",
              "      <td>NaN</td>\n",
              "      <td>NaN</td>\n",
              "      <td>NaN</td>\n",
              "      <td>NaN</td>\n",
              "      <td>NaN</td>\n",
              "      <td>NaN</td>\n",
              "      <td>2020-10-21 00:00:00.517827283</td>\n",
              "    </tr>\n",
              "    <tr>\n",
              "      <th>2</th>\n",
              "      <td>2020-10-15 00:00:20</td>\n",
              "      <td>1.316529e+18</td>\n",
              "      <td>@IslandGirlPRV @BradBeauregardJ @MeidasTouch T...</td>\n",
              "      <td>0.0</td>\n",
              "      <td>0.0</td>\n",
              "      <td>Twitter Web App</td>\n",
              "      <td>3.494182e+09</td>\n",
              "      <td>Flag Waver</td>\n",
              "      <td>Flag_Wavers</td>\n",
              "      <td>NaN</td>\n",
              "      <td>...</td>\n",
              "      <td>1536.0</td>\n",
              "      <td>Golden Valley Arizona</td>\n",
              "      <td>46.304036</td>\n",
              "      <td>-109.171431</td>\n",
              "      <td>NaN</td>\n",
              "      <td>United States of America</td>\n",
              "      <td>North America</td>\n",
              "      <td>Montana</td>\n",
              "      <td>MT</td>\n",
              "      <td>2020-10-21 00:00:01.035654566</td>\n",
              "    </tr>\n",
              "    <tr>\n",
              "      <th>3</th>\n",
              "      <td>2020-10-15 00:00:21</td>\n",
              "      <td>1.316529e+18</td>\n",
              "      <td>@chrislongview Watching and setting dvr. Let’s...</td>\n",
              "      <td>0.0</td>\n",
              "      <td>0.0</td>\n",
              "      <td>Twitter for iPhone</td>\n",
              "      <td>8.242596e+17</td>\n",
              "      <td>Michelle Ferg</td>\n",
              "      <td>MichelleFerg4</td>\n",
              "      <td>NaN</td>\n",
              "      <td>...</td>\n",
              "      <td>27.0</td>\n",
              "      <td>NaN</td>\n",
              "      <td>NaN</td>\n",
              "      <td>NaN</td>\n",
              "      <td>NaN</td>\n",
              "      <td>NaN</td>\n",
              "      <td>NaN</td>\n",
              "      <td>NaN</td>\n",
              "      <td>NaN</td>\n",
              "      <td>2020-10-21 00:00:01.553481849</td>\n",
              "    </tr>\n",
              "    <tr>\n",
              "      <th>4</th>\n",
              "      <td>2020-10-15 00:00:22</td>\n",
              "      <td>1.316529e+18</td>\n",
              "      <td>#censorship #HunterBiden #Biden #BidenEmails #...</td>\n",
              "      <td>1.0</td>\n",
              "      <td>0.0</td>\n",
              "      <td>Twitter Web App</td>\n",
              "      <td>1.032807e+18</td>\n",
              "      <td>the Gold State</td>\n",
              "      <td>theegoldstate</td>\n",
              "      <td>A Silicon Valley #independent #News #Media #St...</td>\n",
              "      <td>...</td>\n",
              "      <td>390.0</td>\n",
              "      <td>California, USA</td>\n",
              "      <td>36.701463</td>\n",
              "      <td>-118.755997</td>\n",
              "      <td>NaN</td>\n",
              "      <td>United States of America</td>\n",
              "      <td>North America</td>\n",
              "      <td>California</td>\n",
              "      <td>CA</td>\n",
              "      <td>2020-10-21 00:00:02.071309132</td>\n",
              "    </tr>\n",
              "  </tbody>\n",
              "</table>\n",
              "<p>5 rows × 21 columns</p>\n",
              "</div>"
            ],
            "text/plain": [
              "            created_at      tweet_id  \\\n",
              "0  2020-10-15 00:00:01  1.316529e+18   \n",
              "1  2020-10-15 00:00:18  1.316529e+18   \n",
              "2  2020-10-15 00:00:20  1.316529e+18   \n",
              "3  2020-10-15 00:00:21  1.316529e+18   \n",
              "4  2020-10-15 00:00:22  1.316529e+18   \n",
              "\n",
              "                                               tweet  likes  retweet_count  \\\n",
              "0  #Elecciones2020 | En #Florida: #JoeBiden dice ...    0.0            0.0   \n",
              "1  #HunterBiden #HunterBidenEmails #JoeBiden #Joe...    0.0            0.0   \n",
              "2  @IslandGirlPRV @BradBeauregardJ @MeidasTouch T...    0.0            0.0   \n",
              "3  @chrislongview Watching and setting dvr. Let’s...    0.0            0.0   \n",
              "4  #censorship #HunterBiden #Biden #BidenEmails #...    1.0            0.0   \n",
              "\n",
              "               source       user_id           user_name user_screen_name  \\\n",
              "0           TweetDeck  3.606665e+08  El Sol Latino News  elsollatinonews   \n",
              "1    Twitter for iPad  8.099044e+08         Cheri A. 🇺🇸     Biloximeemaw   \n",
              "2     Twitter Web App  3.494182e+09          Flag Waver      Flag_Wavers   \n",
              "3  Twitter for iPhone  8.242596e+17       Michelle Ferg    MichelleFerg4   \n",
              "4     Twitter Web App  1.032807e+18      the Gold State    theegoldstate   \n",
              "\n",
              "                                    user_description  ...  \\\n",
              "0  🌐 Noticias de interés para latinos de la costa...  ...   \n",
              "1  Locked and loaded Meemaw. Love God, my family ...  ...   \n",
              "2                                                NaN  ...   \n",
              "3                                                NaN  ...   \n",
              "4  A Silicon Valley #independent #News #Media #St...  ...   \n",
              "\n",
              "  user_followers_count                 user_location        lat        long  \\\n",
              "0               1860.0  Philadelphia, PA / Miami, FL  25.774270  -80.193660   \n",
              "1               6628.0                           NaN        NaN         NaN   \n",
              "2               1536.0         Golden Valley Arizona  46.304036 -109.171431   \n",
              "3                 27.0                           NaN        NaN         NaN   \n",
              "4                390.0               California, USA  36.701463 -118.755997   \n",
              "\n",
              "   city                   country      continent       state state_code  \\\n",
              "0   NaN  United States of America  North America     Florida         FL   \n",
              "1   NaN                       NaN            NaN         NaN        NaN   \n",
              "2   NaN  United States of America  North America     Montana         MT   \n",
              "3   NaN                       NaN            NaN         NaN        NaN   \n",
              "4   NaN  United States of America  North America  California         CA   \n",
              "\n",
              "                    collected_at  \n",
              "0            2020-10-21 00:00:00  \n",
              "1  2020-10-21 00:00:00.517827283  \n",
              "2  2020-10-21 00:00:01.035654566  \n",
              "3  2020-10-21 00:00:01.553481849  \n",
              "4  2020-10-21 00:00:02.071309132  \n",
              "\n",
              "[5 rows x 21 columns]"
            ]
          },
          "execution_count": 243,
          "metadata": {},
          "output_type": "execute_result"
        }
      ],
      "source": [
        "biden = pd.read_csv(biden, lineterminator='\\n')\n",
        "biden.head()"
      ]
    },
    {
      "cell_type": "code",
      "execution_count": null,
      "id": "2b339b1d",
      "metadata": {
        "id": "2b339b1d",
        "outputId": "67931ed7-8169-47cf-8fc7-05f04fe2a542"
      },
      "outputs": [
        {
          "data": {
            "text/html": [
              "<div>\n",
              "<style scoped>\n",
              "    .dataframe tbody tr th:only-of-type {\n",
              "        vertical-align: middle;\n",
              "    }\n",
              "\n",
              "    .dataframe tbody tr th {\n",
              "        vertical-align: top;\n",
              "    }\n",
              "\n",
              "    .dataframe thead th {\n",
              "        text-align: right;\n",
              "    }\n",
              "</style>\n",
              "<table border=\"1\" class=\"dataframe\">\n",
              "  <thead>\n",
              "    <tr style=\"text-align: right;\">\n",
              "      <th></th>\n",
              "      <th>Tweet</th>\n",
              "      <th>Topics</th>\n",
              "      <th>Human_generated</th>\n",
              "    </tr>\n",
              "  </thead>\n",
              "  <tbody>\n",
              "    <tr>\n",
              "      <th>0</th>\n",
              "      <td>#Elecciones2020 | En #Florida: #JoeBiden dice ...</td>\n",
              "      <td>Election</td>\n",
              "      <td>1</td>\n",
              "    </tr>\n",
              "    <tr>\n",
              "      <th>1</th>\n",
              "      <td>#HunterBiden #HunterBidenEmails #JoeBiden #Joe...</td>\n",
              "      <td>Election</td>\n",
              "      <td>1</td>\n",
              "    </tr>\n",
              "    <tr>\n",
              "      <th>2</th>\n",
              "      <td>@IslandGirlPRV @BradBeauregardJ @MeidasTouch T...</td>\n",
              "      <td>Election</td>\n",
              "      <td>1</td>\n",
              "    </tr>\n",
              "    <tr>\n",
              "      <th>3</th>\n",
              "      <td>@chrislongview Watching and setting dvr. Let’s...</td>\n",
              "      <td>Election</td>\n",
              "      <td>1</td>\n",
              "    </tr>\n",
              "    <tr>\n",
              "      <th>4</th>\n",
              "      <td>#censorship #HunterBiden #Biden #BidenEmails #...</td>\n",
              "      <td>Election</td>\n",
              "      <td>1</td>\n",
              "    </tr>\n",
              "  </tbody>\n",
              "</table>\n",
              "</div>"
            ],
            "text/plain": [
              "                                               Tweet    Topics  \\\n",
              "0  #Elecciones2020 | En #Florida: #JoeBiden dice ...  Election   \n",
              "1  #HunterBiden #HunterBidenEmails #JoeBiden #Joe...  Election   \n",
              "2  @IslandGirlPRV @BradBeauregardJ @MeidasTouch T...  Election   \n",
              "3  @chrislongview Watching and setting dvr. Let’s...  Election   \n",
              "4  #censorship #HunterBiden #Biden #BidenEmails #...  Election   \n",
              "\n",
              "   Human_generated  \n",
              "0                1  \n",
              "1                1  \n",
              "2                1  \n",
              "3                1  \n",
              "4                1  "
            ]
          },
          "execution_count": 244,
          "metadata": {},
          "output_type": "execute_result"
        }
      ],
      "source": [
        "biden_df = biden[['tweet']].copy()\n",
        "biden_df.rename(columns = {'tweet': 'Tweet'}, inplace=True)\n",
        "biden_df.loc[:, 'Topics'] = 'Election'\n",
        "biden_df.loc[:, 'Human_generated'] = 1\n",
        "biden_df.head()"
      ]
    },
    {
      "cell_type": "code",
      "execution_count": null,
      "id": "cb623420",
      "metadata": {
        "id": "cb623420",
        "outputId": "697e39b2-6985-45e9-8494-0b5363ea1c9f"
      },
      "outputs": [
        {
          "data": {
            "text/plain": [
              "Tweet              0\n",
              "Topics             0\n",
              "Human_generated    0\n",
              "dtype: int64"
            ]
          },
          "execution_count": 245,
          "metadata": {},
          "output_type": "execute_result"
        }
      ],
      "source": [
        "biden_df.isna().sum()"
      ]
    },
    {
      "cell_type": "code",
      "execution_count": null,
      "id": "b1b98acf",
      "metadata": {
        "id": "b1b98acf"
      },
      "outputs": [],
      "source": [
        "# Combine Trump data and Biden data to be election data\n",
        "election_df = pd.concat([trump_df, biden_df], axis=0, ignore_index=True)"
      ]
    },
    {
      "cell_type": "code",
      "execution_count": null,
      "id": "01eaf51d",
      "metadata": {
        "id": "01eaf51d",
        "outputId": "7555fc05-f6a9-4f8f-d0f9-7efca0a1ca8b"
      },
      "outputs": [
        {
          "data": {
            "text/plain": [
              "Tweet              0\n",
              "Topics             0\n",
              "Human_generated    0\n",
              "dtype: int64"
            ]
          },
          "execution_count": 247,
          "metadata": {},
          "output_type": "execute_result"
        }
      ],
      "source": [
        "election_df.isna().sum()"
      ]
    },
    {
      "cell_type": "code",
      "execution_count": null,
      "id": "1ec1af7c",
      "metadata": {
        "id": "1ec1af7c",
        "outputId": "293ca794-6bb9-4865-d910-2873bcab36bf"
      },
      "outputs": [
        {
          "name": "stdout",
          "output_type": "stream",
          "text": [
            "(1747805, 3) 1747805 False\n"
          ]
        }
      ],
      "source": [
        "print(election_df.shape, biden_df.shape[0] + trump_df.shape[0], biden_df.shape[0] + trump_df.shape[0] == election_df.shape)"
      ]
    },
    {
      "cell_type": "markdown",
      "id": "336c9e16",
      "metadata": {
        "id": "336c9e16"
      },
      "source": [
        "### check three dataset"
      ]
    },
    {
      "cell_type": "code",
      "execution_count": null,
      "id": "d42b1bf8",
      "metadata": {
        "id": "d42b1bf8",
        "outputId": "2cf8db34-1d65-4b44-e426-f2bc57e35f04"
      },
      "outputs": [
        {
          "data": {
            "text/html": [
              "<div>\n",
              "<style scoped>\n",
              "    .dataframe tbody tr th:only-of-type {\n",
              "        vertical-align: middle;\n",
              "    }\n",
              "\n",
              "    .dataframe tbody tr th {\n",
              "        vertical-align: top;\n",
              "    }\n",
              "\n",
              "    .dataframe thead th {\n",
              "        text-align: right;\n",
              "    }\n",
              "</style>\n",
              "<table border=\"1\" class=\"dataframe\">\n",
              "  <thead>\n",
              "    <tr style=\"text-align: right;\">\n",
              "      <th></th>\n",
              "      <th>Tweet</th>\n",
              "      <th>Topics</th>\n",
              "      <th>Human_generated</th>\n",
              "    </tr>\n",
              "  </thead>\n",
              "  <tbody>\n",
              "    <tr>\n",
              "      <th>0</th>\n",
              "      <td>#Elecciones2020 | En #Florida: #JoeBiden dice ...</td>\n",
              "      <td>Election</td>\n",
              "      <td>1</td>\n",
              "    </tr>\n",
              "    <tr>\n",
              "      <th>1</th>\n",
              "      <td>Usa 2020, Trump contro Facebook e Twitter: cop...</td>\n",
              "      <td>Election</td>\n",
              "      <td>1</td>\n",
              "    </tr>\n",
              "    <tr>\n",
              "      <th>2</th>\n",
              "      <td>#Trump: As a student I used to hear for years,...</td>\n",
              "      <td>Election</td>\n",
              "      <td>1</td>\n",
              "    </tr>\n",
              "    <tr>\n",
              "      <th>3</th>\n",
              "      <td>2 hours since last tweet from #Trump! Maybe he...</td>\n",
              "      <td>Election</td>\n",
              "      <td>1</td>\n",
              "    </tr>\n",
              "    <tr>\n",
              "      <th>4</th>\n",
              "      <td>You get a tie! And you get a tie! #Trump ‘s ra...</td>\n",
              "      <td>Election</td>\n",
              "      <td>1</td>\n",
              "    </tr>\n",
              "  </tbody>\n",
              "</table>\n",
              "</div>"
            ],
            "text/plain": [
              "                                               Tweet    Topics  \\\n",
              "0  #Elecciones2020 | En #Florida: #JoeBiden dice ...  Election   \n",
              "1  Usa 2020, Trump contro Facebook e Twitter: cop...  Election   \n",
              "2  #Trump: As a student I used to hear for years,...  Election   \n",
              "3  2 hours since last tweet from #Trump! Maybe he...  Election   \n",
              "4  You get a tie! And you get a tie! #Trump ‘s ra...  Election   \n",
              "\n",
              "   Human_generated  \n",
              "0                1  \n",
              "1                1  \n",
              "2                1  \n",
              "3                1  \n",
              "4                1  "
            ]
          },
          "execution_count": 249,
          "metadata": {},
          "output_type": "execute_result"
        }
      ],
      "source": [
        "election_df.head()"
      ]
    },
    {
      "cell_type": "code",
      "execution_count": null,
      "id": "08c7230a",
      "metadata": {
        "id": "08c7230a",
        "outputId": "a1639ec6-892d-4cd1-a2c7-f98ded267d10"
      },
      "outputs": [
        {
          "data": {
            "text/plain": [
              "(1747805, 3)"
            ]
          },
          "execution_count": 250,
          "metadata": {},
          "output_type": "execute_result"
        }
      ],
      "source": [
        "election_df.shape"
      ]
    },
    {
      "cell_type": "code",
      "execution_count": null,
      "id": "97aaee9e",
      "metadata": {
        "id": "97aaee9e",
        "outputId": "fcd9cfab-6d01-4387-b654-e569d4742286"
      },
      "outputs": [
        {
          "data": {
            "text/html": [
              "<div>\n",
              "<style scoped>\n",
              "    .dataframe tbody tr th:only-of-type {\n",
              "        vertical-align: middle;\n",
              "    }\n",
              "\n",
              "    .dataframe tbody tr th {\n",
              "        vertical-align: top;\n",
              "    }\n",
              "\n",
              "    .dataframe thead th {\n",
              "        text-align: right;\n",
              "    }\n",
              "</style>\n",
              "<table border=\"1\" class=\"dataframe\">\n",
              "  <thead>\n",
              "    <tr style=\"text-align: right;\">\n",
              "      <th></th>\n",
              "      <th>Tweet</th>\n",
              "      <th>Topics</th>\n",
              "      <th>Human_generated</th>\n",
              "    </tr>\n",
              "  </thead>\n",
              "  <tbody>\n",
              "    <tr>\n",
              "      <th>0</th>\n",
              "      <td>👍 on @YouTube: GAME OF THRONES 8x01 Breakdown!...</td>\n",
              "      <td>Game</td>\n",
              "      <td>1</td>\n",
              "    </tr>\n",
              "    <tr>\n",
              "      <th>1</th>\n",
              "      <td>👍 on @YouTube: Ups and Downs From Game Of Thro...</td>\n",
              "      <td>Game</td>\n",
              "      <td>1</td>\n",
              "    </tr>\n",
              "    <tr>\n",
              "      <th>2</th>\n",
              "      <td>Liked on YouTube: Ups and Downs From Game Of T...</td>\n",
              "      <td>Game</td>\n",
              "      <td>1</td>\n",
              "    </tr>\n",
              "    <tr>\n",
              "      <th>3</th>\n",
              "      <td>Liked on YouTube: GAME OF THRONES 8x01 Breakdo...</td>\n",
              "      <td>Game</td>\n",
              "      <td>1</td>\n",
              "    </tr>\n",
              "    <tr>\n",
              "      <th>4</th>\n",
              "      <td>@MrLegenDarius unpopular opinion: game of thro...</td>\n",
              "      <td>Game</td>\n",
              "      <td>1</td>\n",
              "    </tr>\n",
              "  </tbody>\n",
              "</table>\n",
              "</div>"
            ],
            "text/plain": [
              "                                               Tweet Topics  Human_generated\n",
              "0  👍 on @YouTube: GAME OF THRONES 8x01 Breakdown!...   Game                1\n",
              "1  👍 on @YouTube: Ups and Downs From Game Of Thro...   Game                1\n",
              "2  Liked on YouTube: Ups and Downs From Game Of T...   Game                1\n",
              "3  Liked on YouTube: GAME OF THRONES 8x01 Breakdo...   Game                1\n",
              "4  @MrLegenDarius unpopular opinion: game of thro...   Game                1"
            ]
          },
          "execution_count": 251,
          "metadata": {},
          "output_type": "execute_result"
        }
      ],
      "source": [
        "game_df.head()"
      ]
    },
    {
      "cell_type": "code",
      "execution_count": null,
      "id": "1906841a",
      "metadata": {
        "id": "1906841a",
        "outputId": "0fa3238f-2774-4984-eb36-79f55b4da638"
      },
      "outputs": [
        {
          "data": {
            "text/plain": [
              "(760660, 3)"
            ]
          },
          "execution_count": 252,
          "metadata": {},
          "output_type": "execute_result"
        }
      ],
      "source": [
        "game_df.shape"
      ]
    },
    {
      "cell_type": "code",
      "execution_count": null,
      "id": "fba4327a",
      "metadata": {
        "id": "fba4327a",
        "outputId": "26ac4af1-aff6-4269-ec7a-36f1abcb58c6"
      },
      "outputs": [
        {
          "data": {
            "text/html": [
              "<div>\n",
              "<style scoped>\n",
              "    .dataframe tbody tr th:only-of-type {\n",
              "        vertical-align: middle;\n",
              "    }\n",
              "\n",
              "    .dataframe tbody tr th {\n",
              "        vertical-align: top;\n",
              "    }\n",
              "\n",
              "    .dataframe thead th {\n",
              "        text-align: right;\n",
              "    }\n",
              "</style>\n",
              "<table border=\"1\" class=\"dataframe\">\n",
              "  <thead>\n",
              "    <tr style=\"text-align: right;\">\n",
              "      <th></th>\n",
              "      <th>Tweet</th>\n",
              "      <th>Topics</th>\n",
              "      <th>Human_generated</th>\n",
              "    </tr>\n",
              "  </thead>\n",
              "  <tbody>\n",
              "    <tr>\n",
              "      <th>0</th>\n",
              "      <td>What are we drinking today @TucanTribe \\n@MadB...</td>\n",
              "      <td>Fifa</td>\n",
              "      <td>1</td>\n",
              "    </tr>\n",
              "    <tr>\n",
              "      <th>1</th>\n",
              "      <td>Amazing @CanadaSoccerEN  #WorldCup2022 launch ...</td>\n",
              "      <td>Fifa</td>\n",
              "      <td>1</td>\n",
              "    </tr>\n",
              "    <tr>\n",
              "      <th>2</th>\n",
              "      <td>Worth reading while watching #WorldCup2022 htt...</td>\n",
              "      <td>Fifa</td>\n",
              "      <td>1</td>\n",
              "    </tr>\n",
              "    <tr>\n",
              "      <th>3</th>\n",
              "      <td>Golden Maknae shinning bright\\n\\nhttps://t.co/...</td>\n",
              "      <td>Fifa</td>\n",
              "      <td>1</td>\n",
              "    </tr>\n",
              "    <tr>\n",
              "      <th>4</th>\n",
              "      <td>If the BBC cares so much about human rights, h...</td>\n",
              "      <td>Fifa</td>\n",
              "      <td>1</td>\n",
              "    </tr>\n",
              "  </tbody>\n",
              "</table>\n",
              "</div>"
            ],
            "text/plain": [
              "                                               Tweet Topics  Human_generated\n",
              "0  What are we drinking today @TucanTribe \\n@MadB...   Fifa                1\n",
              "1  Amazing @CanadaSoccerEN  #WorldCup2022 launch ...   Fifa                1\n",
              "2  Worth reading while watching #WorldCup2022 htt...   Fifa                1\n",
              "3  Golden Maknae shinning bright\\n\\nhttps://t.co/...   Fifa                1\n",
              "4  If the BBC cares so much about human rights, h...   Fifa                1"
            ]
          },
          "execution_count": 253,
          "metadata": {},
          "output_type": "execute_result"
        }
      ],
      "source": [
        "fifa_df.head()"
      ]
    },
    {
      "cell_type": "code",
      "execution_count": null,
      "id": "6f305073",
      "metadata": {
        "id": "6f305073",
        "outputId": "f1b11b37-3f01-4d85-ec2e-01abd52b044f"
      },
      "outputs": [
        {
          "data": {
            "text/plain": [
              "(22524, 3)"
            ]
          },
          "execution_count": 254,
          "metadata": {},
          "output_type": "execute_result"
        }
      ],
      "source": [
        "fifa_df.shape"
      ]
    },
    {
      "cell_type": "markdown",
      "id": "d66d72c5",
      "metadata": {
        "id": "d66d72c5"
      },
      "source": [
        "# Text Preprocessing"
      ]
    },
    {
      "cell_type": "markdown",
      "id": "79015d79",
      "metadata": {
        "id": "79015d79"
      },
      "source": [
        "- Remove punctuation, @XXX, emoji, <> to become clean text\n",
        "- Consider all https as URL\n",
        "- Count @XXX, emoji\n",
        "\n",
        "- Remove stopwords\n",
        "- lemmatizer\n",
        "- tokenize\n",
        "\n",
        "- Sorted clean text using len(token) in descending order"
      ]
    },
    {
      "cell_type": "code",
      "execution_count": null,
      "id": "6d654b25",
      "metadata": {
        "id": "6d654b25"
      },
      "outputs": [],
      "source": [
        "lemmatizer = WordNetLemmatizer()\n",
        "stop_words = set(stopwords.words('english'))"
      ]
    },
    {
      "cell_type": "code",
      "execution_count": null,
      "id": "c8a42a84",
      "metadata": {
        "id": "c8a42a84"
      },
      "outputs": [],
      "source": [
        "def remove_emojis(text):\n",
        "    emoji_pattern = re.compile(\"[\"\n",
        "                               u\"\\U0001F600-\\U0001F64F\"  # emoticons\n",
        "                               u\"\\U0001F300-\\U0001F5FF\"  # symbols & pictographs\n",
        "                               u\"\\U0001F680-\\U0001F6FF\"  # transport & map symbols\n",
        "                               u\"\\U0001F1E0-\\U0001F1FF\"  # flags (iOS)\n",
        "                               u\"\\U00002500-\\U00002BEF\"  # chinese char\n",
        "                               u\"\\U00002702-\\U000027B0\"\n",
        "                               u\"\\U00002702-\\U000027B0\"\n",
        "                               u\"\\U000024C2-\\U0001F251\"\n",
        "                               u\"\\U0001f926-\\U0001f937\"\n",
        "                               u\"\\U00010000-\\U0010ffff\"\n",
        "                               u\"\\u2640-\\u2642\"\n",
        "                               u\"\\u2600-\\u2B55\"\n",
        "                               u\"\\u200d\"\n",
        "                               u\"\\u23cf\"\n",
        "                               u\"\\u23e9\"\n",
        "                               u\"\\u231a\"\n",
        "                               u\"\\ufe0f\"  # dingbats\n",
        "                               u\"\\u3030\"\n",
        "                               \"]+\", flags=re.UNICODE)\n",
        "    return emoji_pattern.sub(' ', text)\n",
        "\n",
        "# Test\n",
        "# text_with_emojis = \"Hello 😊, how are you? 🌟\"\n",
        "# text_without_emojis = remove_emojis(text_with_emojis)\n",
        "# print(text_without_emojis)  # Output: Hello , how are you?"
      ]
    },
    {
      "cell_type": "code",
      "execution_count": null,
      "id": "57a0f421",
      "metadata": {
        "id": "57a0f421"
      },
      "outputs": [],
      "source": [
        "# make a text preprocessing function\n",
        "\n",
        "def text_preprocessing_part1(df):\n",
        "    \"\"\"\n",
        "    return None. Modify in place.\n",
        "    \"\"\"\n",
        "    # =======Removeing=======\n",
        "\n",
        "    df['Tweet'] = df['Tweet'].apply(lambda x: re.sub('(<.*?>)', '', x))\n",
        "\n",
        "    # remove punctuation\n",
        "    df['Tweet'] = df['Tweet'].apply(lambda x: re.sub('[,\\.!?:()\"]', '', x))\n",
        "\n",
        "    # remove larger than\n",
        "    df['Tweet'] = df['Tweet'].str.replace(r'&[gl]t;', '', regex=True)\n",
        "\n",
        "    # counting @\n",
        "    df['count_profile'] = df['Tweet'].apply(lambda x: len(re.findall(r'@\\w+', x)))\n",
        "\n",
        "    # Counting emoji\n",
        "    df['count_emoji'] = df['Tweet'].apply(lambda x: emoji.emoji_count(x))\n",
        "\n",
        "    # clean tweet removing @ and emoji\n",
        "    df['clean_tweet'] = df['Tweet'].apply(lambda x: re.sub(r'@\\w+', '', remove_emojis(x)))\n",
        "\n",
        "    # remove whitespace\n",
        "    df['clean_tweet'] = df['clean_tweet'].apply(lambda x: x.strip())\n",
        "\n",
        "    # temp clean_tweet\n",
        "    # Define a regular expression to match URLs\n",
        "    url_pattern = r'https\\S+'\n",
        "    df['clean_tweet'] = df['clean_tweet'].apply(lambda x: re.sub(url_pattern, 'URL', x))\n",
        "\n",
        "    # only charac\n",
        "#     df['clean_tweet'] = df['clean_tweet'].apply(lambda x: re.sub('[^a-zA-Z\"]', ' ', x))\n",
        "    df['clean_tweet'] = df['clean_tweet'].apply(lambda x: re.sub('[^a-zA-Z0-9\"]', ' ', x))\n",
        "\n",
        "    # convert to lower\n",
        "    df['clean_tweet'] = df['clean_tweet'].apply(lambda x: x.lower())\n",
        "\n",
        "\n",
        "    # =======count length=======\n",
        "    df['Tweet_Length'] = df['Tweet'].apply(len)\n",
        "    df['clean_tweet_Length'] = df['clean_tweet'].apply(len)\n",
        "\n",
        "    # =======Reorder columns=======\n",
        "    # Specify the new order of columns\n",
        "    new_order = ['clean_tweet', 'Topics', 'Human_generated', 'count_emoji', 'count_profile', 'clean_tweet_Length', 'Tweet_Length', 'Tweet']\n",
        "\n",
        "    # Change the order of columns and\n",
        "    df = df.reindex(columns=new_order)\n",
        "\n",
        "    # reset index and return a new copy of dataframe\n",
        "    df = df.reset_index().iloc[:, 1:].copy()\n",
        "\n",
        "    # =======Sort and reIndex=======\n",
        "    ### not doing sort here, because we should sort by count of words. # REMEMBER to deal with https\n",
        "    # sort by len(clean_tweet)\n",
        "    # df.sort_values(by='clean_tweet', key=lambda x: x.str.len(), ascending=False, inplace=True)\n",
        "\n",
        "    return df"
      ]
    },
    {
      "cell_type": "code",
      "execution_count": null,
      "id": "d94c1ef0",
      "metadata": {
        "id": "d94c1ef0"
      },
      "outputs": [],
      "source": [
        "def text_preprocessing_part2(df):\n",
        "#     # Define a function to map POS tags from Treebank to WordNet\n",
        "#     def get_wordnet_pos(treebank_tag):\n",
        "#         if treebank_tag.startswith('J'):\n",
        "#             return wordnet.ADJ\n",
        "#         elif treebank_tag.startswith('V'):\n",
        "#             return wordnet.VERB\n",
        "#         elif treebank_tag.startswith('N'):\n",
        "#             return wordnet.NOUN\n",
        "#         elif treebank_tag.startswith('R'):\n",
        "#             return wordnet.ADV\n",
        "#         else:\n",
        "#             return wordnet.NOUN  # default to noun if POS tag not found\n",
        "\n",
        "#     def lemmatize_word(word):\n",
        "#         pos_tag = nltk.pos_tag([word])[0][1]  # Get POS tag of the word\n",
        "#         pos = get_wordnet_pos(pos_tag)  # Map POS tag to WordNet POS\n",
        "#         return lemmatizer.lemmatize(word, pos=pos)  # Lemmatize the word\n",
        "    # =========not use above===can't catch: catch, saw... =====================================================================================\n",
        "\n",
        "    # Load the English language model\n",
        "    nlp = spacy.load(\"en_core_web_sm\")\n",
        "\n",
        "    # Define a function to lemmatize a text\n",
        "    def lemmatize_text(text):\n",
        "        doc = nlp(text)\n",
        "        lemmatized_text = \" \".join([token.lemma_ for token in doc])\n",
        "        return lemmatized_text\n",
        "\n",
        "    # =======Preprocessing start========================================================================================\n",
        "    # tokenize\n",
        "    df['tokenize_clean_tweet'] = df['clean_tweet'].apply(lambda x: text_to_word_sequence(x))\n",
        "\n",
        "    # remove stop words\n",
        "#     df['tokenize_clean_tweet'] = df['tokenize_clean_tweet'].apply(lambda x: [w for w in x\n",
        "#                                                                              if w not in stop_words and\n",
        "#                                                                              not w in ENGLISH_STOP_WORDS and\n",
        "#                                                                              not w in gensim_stopwords])\n",
        "    # lemmatizer: to its original form\n",
        "    df['tokenize_clean_tweet'] = df['tokenize_clean_tweet'].apply(lambda x: [lemmatize_text(token) for token in x])\n",
        "\n",
        "    # newly add: because \"gonna\" -> \"go to\"\n",
        "    df['tokenize_clean_tweet'] = df['tokenize_clean_tweet'].apply(lambda x: [word for w in x for word in text_to_word_sequence(w)])\n",
        "\n",
        "\n",
        "    # remove stop words\n",
        "    df['tokenize_clean_tweet'] = df['tokenize_clean_tweet'].apply(lambda x: [w for w in x\n",
        "                                                                             if w not in stop_words and\n",
        "                                                                             w not in ENGLISH_STOP_WORDS and\n",
        "                                                                             w not in gensim_stopwords])\n",
        "    # transfer back to string clean_tweet\n",
        "    df['clean_tweet'] = df['tokenize_clean_tweet'].apply(lambda x: \" \".join(x))\n",
        "\n",
        "    # sort by token_length\n",
        "    df['token_length'] = df['tokenize_clean_tweet'].apply(len)\n",
        "\n",
        "    df.sort_values(by='token_length', ascending=False, inplace=True)\n",
        "\n"
      ]
    },
    {
      "cell_type": "code",
      "execution_count": null,
      "id": "bdc0d40c",
      "metadata": {
        "id": "bdc0d40c"
      },
      "outputs": [],
      "source": [
        "def text_preprocessing(ori_df):\n",
        "    df = text_preprocessing_part1(ori_df)\n",
        "    text_preprocessing_part2(df)\n",
        "    return df"
      ]
    },
    {
      "cell_type": "code",
      "execution_count": null,
      "id": "8b783732",
      "metadata": {
        "id": "8b783732",
        "outputId": "22c4ab95-65ce-4b2f-a3da-03bf75684da9"
      },
      "outputs": [
        {
          "data": {
            "text/html": [
              "<div>\n",
              "<style scoped>\n",
              "    .dataframe tbody tr th:only-of-type {\n",
              "        vertical-align: middle;\n",
              "    }\n",
              "\n",
              "    .dataframe tbody tr th {\n",
              "        vertical-align: top;\n",
              "    }\n",
              "\n",
              "    .dataframe thead th {\n",
              "        text-align: right;\n",
              "    }\n",
              "</style>\n",
              "<table border=\"1\" class=\"dataframe\">\n",
              "  <thead>\n",
              "    <tr style=\"text-align: right;\">\n",
              "      <th></th>\n",
              "      <th>clean_tweet</th>\n",
              "      <th>Topics</th>\n",
              "      <th>Human_generated</th>\n",
              "      <th>count_emoji</th>\n",
              "      <th>count_profile</th>\n",
              "      <th>clean_tweet_Length</th>\n",
              "      <th>Tweet_Length</th>\n",
              "      <th>Tweet</th>\n",
              "      <th>tokenize_clean_tweet</th>\n",
              "      <th>token_length</th>\n",
              "    </tr>\n",
              "  </thead>\n",
              "  <tbody>\n",
              "    <tr>\n",
              "      <th>1</th>\n",
              "      <td>work day good apple catch</td>\n",
              "      <td>NaN</td>\n",
              "      <td>NaN</td>\n",
              "      <td>0</td>\n",
              "      <td>0</td>\n",
              "      <td>53</td>\n",
              "      <td>53</td>\n",
              "      <td>worked we has him one us day good would apples...</td>\n",
              "      <td>[work, day, good, apple, catch]</td>\n",
              "      <td>5</td>\n",
              "    </tr>\n",
              "    <tr>\n",
              "      <th>0</th>\n",
              "      <td>new let</td>\n",
              "      <td>NaN</td>\n",
              "      <td>NaN</td>\n",
              "      <td>0</td>\n",
              "      <td>0</td>\n",
              "      <td>17</td>\n",
              "      <td>17</td>\n",
              "      <td>new let not to go</td>\n",
              "      <td>[new, let]</td>\n",
              "      <td>2</td>\n",
              "    </tr>\n",
              "    <tr>\n",
              "      <th>3</th>\n",
              "      <td>end bad</td>\n",
              "      <td>NaN</td>\n",
              "      <td>NaN</td>\n",
              "      <td>0</td>\n",
              "      <td>0</td>\n",
              "      <td>19</td>\n",
              "      <td>19</td>\n",
              "      <td>end still first bad</td>\n",
              "      <td>[end, bad]</td>\n",
              "      <td>2</td>\n",
              "    </tr>\n",
              "    <tr>\n",
              "      <th>2</th>\n",
              "      <td>final</td>\n",
              "      <td>NaN</td>\n",
              "      <td>NaN</td>\n",
              "      <td>0</td>\n",
              "      <td>0</td>\n",
              "      <td>25</td>\n",
              "      <td>25</td>\n",
              "      <td>he final the his is us we</td>\n",
              "      <td>[final]</td>\n",
              "      <td>1</td>\n",
              "    </tr>\n",
              "  </tbody>\n",
              "</table>\n",
              "</div>"
            ],
            "text/plain": [
              "                 clean_tweet  Topics  Human_generated  count_emoji  \\\n",
              "1  work day good apple catch     NaN              NaN            0   \n",
              "0                    new let     NaN              NaN            0   \n",
              "3                    end bad     NaN              NaN            0   \n",
              "2                      final     NaN              NaN            0   \n",
              "\n",
              "   count_profile  clean_tweet_Length  Tweet_Length  \\\n",
              "1              0                  53            53   \n",
              "0              0                  17            17   \n",
              "3              0                  19            19   \n",
              "2              0                  25            25   \n",
              "\n",
              "                                               Tweet  \\\n",
              "1  worked we has him one us day good would apples...   \n",
              "0                                  new let not to go   \n",
              "3                                end still first bad   \n",
              "2                          he final the his is us we   \n",
              "\n",
              "              tokenize_clean_tweet  token_length  \n",
              "1  [work, day, good, apple, catch]             5  \n",
              "0                       [new, let]             2  \n",
              "3                       [end, bad]             2  \n",
              "2                          [final]             1  "
            ]
          },
          "execution_count": 27,
          "metadata": {},
          "output_type": "execute_result"
        }
      ],
      "source": [
        "# example\n",
        "df = {'Tweet': [\"new, let, not to go\", \"worked we has him one us day good would apples caught\", \"he final the his is us we\", \"end, still first bad\"]}\n",
        "df = pd.DataFrame(df)\n",
        "df\n",
        "text_preprocessing(df)"
      ]
    },
    {
      "cell_type": "code",
      "execution_count": null,
      "id": "fa025f4a",
      "metadata": {
        "id": "fa025f4a",
        "outputId": "4ad96bca-feb2-4fde-9519-82136204ae6a"
      },
      "outputs": [
        {
          "ename": "NameError",
          "evalue": "name 'fifa_df' is not defined",
          "output_type": "error",
          "traceback": [
            "\u001b[0;31m---------------------------------------------------------------------------\u001b[0m",
            "\u001b[0;31mNameError\u001b[0m                                 Traceback (most recent call last)",
            "Cell \u001b[0;32mIn[28], line 1\u001b[0m\n\u001b[0;32m----> 1\u001b[0m fifa_df \u001b[38;5;241m=\u001b[39m text_preprocessing(\u001b[43mfifa_df\u001b[49m)\n\u001b[1;32m      2\u001b[0m fifa_df\u001b[38;5;241m.\u001b[39mhead()\n",
            "\u001b[0;31mNameError\u001b[0m: name 'fifa_df' is not defined"
          ]
        }
      ],
      "source": [
        "fifa_df = text_preprocessing(fifa_df)\n",
        "fifa_df.head()"
      ]
    },
    {
      "cell_type": "code",
      "execution_count": null,
      "id": "0b0a8b2e",
      "metadata": {
        "id": "0b0a8b2e",
        "outputId": "db6f7eaf-2e52-4b18-efb6-440c467c8af2"
      },
      "outputs": [
        {
          "ename": "NameError",
          "evalue": "name 'game_df' is not defined",
          "output_type": "error",
          "traceback": [
            "\u001b[0;31m---------------------------------------------------------------------------\u001b[0m",
            "\u001b[0;31mNameError\u001b[0m                                 Traceback (most recent call last)",
            "Cell \u001b[0;32mIn[29], line 1\u001b[0m\n\u001b[0;32m----> 1\u001b[0m game_df \u001b[38;5;241m=\u001b[39m text_preprocessing(\u001b[43mgame_df\u001b[49m)\n\u001b[1;32m      2\u001b[0m game_df\u001b[38;5;241m.\u001b[39mhead()\n",
            "\u001b[0;31mNameError\u001b[0m: name 'game_df' is not defined"
          ]
        }
      ],
      "source": [
        "game_df = text_preprocessing(game_df)\n",
        "game_df.head()"
      ]
    },
    {
      "cell_type": "code",
      "execution_count": null,
      "id": "c0855a10",
      "metadata": {
        "id": "c0855a10",
        "outputId": "0465220e-3510-487e-a950-1ec9038530d4"
      },
      "outputs": [
        {
          "data": {
            "text/html": [
              "<div>\n",
              "<style scoped>\n",
              "    .dataframe tbody tr th:only-of-type {\n",
              "        vertical-align: middle;\n",
              "    }\n",
              "\n",
              "    .dataframe tbody tr th {\n",
              "        vertical-align: top;\n",
              "    }\n",
              "\n",
              "    .dataframe thead th {\n",
              "        text-align: right;\n",
              "    }\n",
              "</style>\n",
              "<table border=\"1\" class=\"dataframe\">\n",
              "  <thead>\n",
              "    <tr style=\"text-align: right;\">\n",
              "      <th></th>\n",
              "      <th>clean_tweet</th>\n",
              "      <th>Topics</th>\n",
              "      <th>Human_generated</th>\n",
              "      <th>count_emoji</th>\n",
              "      <th>count_profile</th>\n",
              "      <th>clean_tweet_Length</th>\n",
              "      <th>Tweet_Length</th>\n",
              "      <th>Tweet</th>\n",
              "      <th>tokenize_clean_tweet</th>\n",
              "      <th>token_length</th>\n",
              "    </tr>\n",
              "  </thead>\n",
              "  <tbody>\n",
              "    <tr>\n",
              "      <th>1379704</th>\n",
              "      <td>2 7 0 2 7 0 2 7 0 2 7 0 2 7 0 2 7 0 2 7 0 2 7 ...</td>\n",
              "      <td>Election</td>\n",
              "      <td>1</td>\n",
              "      <td>0</td>\n",
              "      <td>0</td>\n",
              "      <td>265</td>\n",
              "      <td>265</td>\n",
              "      <td>2 7 0 - 2 7 0 -2 7 0 - 2 7 0 - 2 7 0 -2 7 0 - ...</td>\n",
              "      <td>[2, 7, 0, 2, 7, 0, 2, 7, 0, 2, 7, 0, 2, 7, 0, ...</td>\n",
              "      <td>98</td>\n",
              "    </tr>\n",
              "    <tr>\n",
              "      <th>1394189</th>\n",
              "      <td>wi mi wi mi wi mi wi mi wi mi wi mi wi mi wi m...</td>\n",
              "      <td>Election</td>\n",
              "      <td>1</td>\n",
              "      <td>3</td>\n",
              "      <td>0</td>\n",
              "      <td>271</td>\n",
              "      <td>276</td>\n",
              "      <td>WI MI WI MI WI MI WI MI WI MI WI MI WI MI WI M...</td>\n",
              "      <td>[wi, mi, wi, mi, wi, mi, wi, mi, wi, mi, wi, m...</td>\n",
              "      <td>84</td>\n",
              "    </tr>\n",
              "    <tr>\n",
              "      <th>858177</th>\n",
              "      <td>ha ha ha ha ha ha ha ha ha ha ha ha ha ha ha h...</td>\n",
              "      <td>Election</td>\n",
              "      <td>1</td>\n",
              "      <td>0</td>\n",
              "      <td>1</td>\n",
              "      <td>265</td>\n",
              "      <td>299</td>\n",
              "      <td>Ha Ha Ha Ha Ha Ha Ha Ha Ha Ha Ha Ha Ha Ha Ha H...</td>\n",
              "      <td>[ha, ha, ha, ha, ha, ha, ha, ha, ha, ha, ha, h...</td>\n",
              "      <td>84</td>\n",
              "    </tr>\n",
              "    <tr>\n",
              "      <th>1392210</th>\n",
              "      <td>om ledarskap nu good mmer vem som vinner biden...</td>\n",
              "      <td>Election</td>\n",
              "      <td>1</td>\n",
              "      <td>0</td>\n",
              "      <td>0</td>\n",
              "      <td>266</td>\n",
              "      <td>266</td>\n",
              "      <td>Om ledarskap nu bestämmer vem som vinner\\nBide...</td>\n",
              "      <td>[om, ledarskap, nu, good, mmer, vem, som, vinn...</td>\n",
              "      <td>71</td>\n",
              "    </tr>\n",
              "    <tr>\n",
              "      <th>620732</th>\n",
              "      <td>om ledarskap nu good mmer vem som vinner biden...</td>\n",
              "      <td>Election</td>\n",
              "      <td>1</td>\n",
              "      <td>0</td>\n",
              "      <td>0</td>\n",
              "      <td>266</td>\n",
              "      <td>266</td>\n",
              "      <td>Om ledarskap nu bestämmer vem som vinner\\nBide...</td>\n",
              "      <td>[om, ledarskap, nu, good, mmer, vem, som, vinn...</td>\n",
              "      <td>71</td>\n",
              "    </tr>\n",
              "  </tbody>\n",
              "</table>\n",
              "</div>"
            ],
            "text/plain": [
              "                                               clean_tweet    Topics  \\\n",
              "1379704  2 7 0 2 7 0 2 7 0 2 7 0 2 7 0 2 7 0 2 7 0 2 7 ...  Election   \n",
              "1394189  wi mi wi mi wi mi wi mi wi mi wi mi wi mi wi m...  Election   \n",
              "858177   ha ha ha ha ha ha ha ha ha ha ha ha ha ha ha h...  Election   \n",
              "1392210  om ledarskap nu good mmer vem som vinner biden...  Election   \n",
              "620732   om ledarskap nu good mmer vem som vinner biden...  Election   \n",
              "\n",
              "         Human_generated  count_emoji  count_profile  clean_tweet_Length  \\\n",
              "1379704                1            0              0                 265   \n",
              "1394189                1            3              0                 271   \n",
              "858177                 1            0              1                 265   \n",
              "1392210                1            0              0                 266   \n",
              "620732                 1            0              0                 266   \n",
              "\n",
              "         Tweet_Length                                              Tweet  \\\n",
              "1379704           265  2 7 0 - 2 7 0 -2 7 0 - 2 7 0 - 2 7 0 -2 7 0 - ...   \n",
              "1394189           276  WI MI WI MI WI MI WI MI WI MI WI MI WI MI WI M...   \n",
              "858177            299  Ha Ha Ha Ha Ha Ha Ha Ha Ha Ha Ha Ha Ha Ha Ha H...   \n",
              "1392210           266  Om ledarskap nu bestämmer vem som vinner\\nBide...   \n",
              "620732            266  Om ledarskap nu bestämmer vem som vinner\\nBide...   \n",
              "\n",
              "                                      tokenize_clean_tweet  token_length  \n",
              "1379704  [2, 7, 0, 2, 7, 0, 2, 7, 0, 2, 7, 0, 2, 7, 0, ...            98  \n",
              "1394189  [wi, mi, wi, mi, wi, mi, wi, mi, wi, mi, wi, m...            84  \n",
              "858177   [ha, ha, ha, ha, ha, ha, ha, ha, ha, ha, ha, h...            84  \n",
              "1392210  [om, ledarskap, nu, good, mmer, vem, som, vinn...            71  \n",
              "620732   [om, ledarskap, nu, good, mmer, vem, som, vinn...            71  "
            ]
          },
          "execution_count": 267,
          "metadata": {},
          "output_type": "execute_result"
        }
      ],
      "source": [
        "election_df = text_preprocessing(election_df)\n",
        "election_df.head()"
      ]
    },
    {
      "cell_type": "code",
      "execution_count": null,
      "id": "a86748c3",
      "metadata": {
        "id": "a86748c3",
        "outputId": "07d38e69-c1bc-4748-8b46-a4336bd04cab"
      },
      "outputs": [
        {
          "data": {
            "text/plain": [
              "17478050"
            ]
          },
          "execution_count": 268,
          "metadata": {},
          "output_type": "execute_result"
        }
      ],
      "source": [
        "# check election dataframe size for 10000\n",
        "election_df.size"
      ]
    },
    {
      "cell_type": "code",
      "execution_count": null,
      "id": "9e926ce3",
      "metadata": {
        "id": "9e926ce3",
        "outputId": "9c6426ab-e199-499b-b9a7-75ff2970c946"
      },
      "outputs": [
        {
          "data": {
            "text/plain": [
              "clean_tweet             0\n",
              "Topics                  0\n",
              "Human_generated         0\n",
              "count_emoji             0\n",
              "count_profile           0\n",
              "clean_tweet_Length      0\n",
              "Tweet_Length            0\n",
              "Tweet                   0\n",
              "tokenize_clean_tweet    0\n",
              "token_length            0\n",
              "dtype: int64"
            ]
          },
          "execution_count": 269,
          "metadata": {},
          "output_type": "execute_result"
        }
      ],
      "source": [
        "election_df.isna().sum()"
      ]
    },
    {
      "cell_type": "code",
      "execution_count": null,
      "id": "8d004758",
      "metadata": {
        "id": "8d004758"
      },
      "outputs": [],
      "source": [
        "election_df[:10000].to_csv('election_df_10k.csv', index=False, encoding='utf-8')"
      ]
    },
    {
      "cell_type": "code",
      "execution_count": null,
      "id": "e8a35b60",
      "metadata": {
        "id": "e8a35b60",
        "outputId": "19d2c2de-b4a9-404a-a545-dc7f61ce543d"
      },
      "outputs": [
        {
          "data": {
            "text/plain": [
              "clean_tweet             0\n",
              "Topics                  0\n",
              "Human_generated         0\n",
              "count_emoji             0\n",
              "count_profile           0\n",
              "clean_tweet_Length      0\n",
              "Tweet_Length            0\n",
              "Tweet                   0\n",
              "tokenize_clean_tweet    0\n",
              "token_length            0\n",
              "dtype: int64"
            ]
          },
          "execution_count": 271,
          "metadata": {},
          "output_type": "execute_result"
        }
      ],
      "source": [
        "e10k = pd.read_csv('election_df_10k.csv')\n",
        "e10k.isna().sum()"
      ]
    },
    {
      "cell_type": "code",
      "execution_count": null,
      "id": "7d260be3",
      "metadata": {
        "id": "7d260be3"
      },
      "outputs": [],
      "source": [
        "game_df.to_csv('game_df.csv', index=False)"
      ]
    },
    {
      "cell_type": "code",
      "execution_count": null,
      "id": "0804e01a",
      "metadata": {
        "id": "0804e01a"
      },
      "outputs": [],
      "source": [
        "fifa_df.to_csv('fifa_df.csv', index=False)"
      ]
    },
    {
      "cell_type": "code",
      "execution_count": null,
      "id": "98443d8a",
      "metadata": {
        "id": "98443d8a"
      },
      "outputs": [],
      "source": [
        "election_df.to_csv('election_df.csv', index=False, encoding='utf-8')"
      ]
    },
    {
      "cell_type": "code",
      "execution_count": null,
      "id": "0a1cb89e",
      "metadata": {
        "id": "0a1cb89e",
        "outputId": "255883c6-962a-4027-a674-79d839226533"
      },
      "outputs": [
        {
          "data": {
            "text/plain": [
              "'🔥 WL MINT TODAY 🔥\\nWhite List Sale 11/20 @ 4PM EST\\nCost 003eth\\n3 Max mint\\n\\nPublic Sale 11/21 @ 7AM EST\\nCost 005eth\\n4 Max mint\\n\\nTotal Supply 9600\\nMint site https//tco/Gkz9cMbCiO\\n#NFTsales #NFT #NFTMarketplace #Mint #HotoDoge #WorldCup #WorldCup2022 #Qatar2022 🏆 https//tco/l7JYGdManI'"
            ]
          },
          "execution_count": 50,
          "metadata": {},
          "output_type": "execute_result"
        }
      ],
      "source": [
        "# example\n",
        "f = pd.read_csv('fifa_df.csv')\n",
        "f.iloc[3,7]"
      ]
    },
    {
      "cell_type": "markdown",
      "id": "63c4758e",
      "metadata": {
        "id": "63c4758e"
      },
      "source": [
        "## Description"
      ]
    },
    {
      "cell_type": "code",
      "execution_count": null,
      "id": "30aebb56",
      "metadata": {
        "id": "30aebb56",
        "outputId": "c8ded1c4-bb6e-467d-f035-6289a95e5a04"
      },
      "outputs": [
        {
          "data": {
            "text/html": [
              "<div>\n",
              "<style scoped>\n",
              "    .dataframe tbody tr th:only-of-type {\n",
              "        vertical-align: middle;\n",
              "    }\n",
              "\n",
              "    .dataframe tbody tr th {\n",
              "        vertical-align: top;\n",
              "    }\n",
              "\n",
              "    .dataframe thead th {\n",
              "        text-align: right;\n",
              "    }\n",
              "</style>\n",
              "<table border=\"1\" class=\"dataframe\">\n",
              "  <thead>\n",
              "    <tr style=\"text-align: right;\">\n",
              "      <th></th>\n",
              "      <th>Human_generated</th>\n",
              "      <th>count_emoji</th>\n",
              "      <th>count_username</th>\n",
              "      <th>clean_tweet_Length</th>\n",
              "      <th>Tweet_Length</th>\n",
              "      <th>token_length</th>\n",
              "    </tr>\n",
              "  </thead>\n",
              "  <tbody>\n",
              "    <tr>\n",
              "      <th>count</th>\n",
              "      <td>1747805.00</td>\n",
              "      <td>1747805.00</td>\n",
              "      <td>1747805.00</td>\n",
              "      <td>1747805.00</td>\n",
              "      <td>1747805.00</td>\n",
              "      <td>1747805.00</td>\n",
              "    </tr>\n",
              "    <tr>\n",
              "      <th>mean</th>\n",
              "      <td>1.00</td>\n",
              "      <td>0.44</td>\n",
              "      <td>0.66</td>\n",
              "      <td>145.81</td>\n",
              "      <td>166.19</td>\n",
              "      <td>15.67</td>\n",
              "    </tr>\n",
              "    <tr>\n",
              "      <th>std</th>\n",
              "      <td>0.00</td>\n",
              "      <td>1.96</td>\n",
              "      <td>1.80</td>\n",
              "      <td>79.29</td>\n",
              "      <td>83.53</td>\n",
              "      <td>9.56</td>\n",
              "    </tr>\n",
              "    <tr>\n",
              "      <th>min</th>\n",
              "      <td>1.00</td>\n",
              "      <td>0.00</td>\n",
              "      <td>0.00</td>\n",
              "      <td>1.00</td>\n",
              "      <td>6.00</td>\n",
              "      <td>0.00</td>\n",
              "    </tr>\n",
              "    <tr>\n",
              "      <th>25%</th>\n",
              "      <td>1.00</td>\n",
              "      <td>0.00</td>\n",
              "      <td>0.00</td>\n",
              "      <td>79.00</td>\n",
              "      <td>96.00</td>\n",
              "      <td>8.00</td>\n",
              "    </tr>\n",
              "    <tr>\n",
              "      <th>50%</th>\n",
              "      <td>1.00</td>\n",
              "      <td>0.00</td>\n",
              "      <td>0.00</td>\n",
              "      <td>136.00</td>\n",
              "      <td>157.00</td>\n",
              "      <td>14.00</td>\n",
              "    </tr>\n",
              "    <tr>\n",
              "      <th>75%</th>\n",
              "      <td>1.00</td>\n",
              "      <td>0.00</td>\n",
              "      <td>1.00</td>\n",
              "      <td>218.00</td>\n",
              "      <td>242.00</td>\n",
              "      <td>22.00</td>\n",
              "    </tr>\n",
              "    <tr>\n",
              "      <th>max</th>\n",
              "      <td>1.00</td>\n",
              "      <td>137.00</td>\n",
              "      <td>51.00</td>\n",
              "      <td>315.00</td>\n",
              "      <td>987.00</td>\n",
              "      <td>84.00</td>\n",
              "    </tr>\n",
              "  </tbody>\n",
              "</table>\n",
              "</div>"
            ],
            "text/plain": [
              "       Human_generated  count_emoji  count_username  clean_tweet_Length  \\\n",
              "count       1747805.00   1747805.00      1747805.00          1747805.00   \n",
              "mean              1.00         0.44            0.66              145.81   \n",
              "std               0.00         1.96            1.80               79.29   \n",
              "min               1.00         0.00            0.00                1.00   \n",
              "25%               1.00         0.00            0.00               79.00   \n",
              "50%               1.00         0.00            0.00              136.00   \n",
              "75%               1.00         0.00            1.00              218.00   \n",
              "max               1.00       137.00           51.00              315.00   \n",
              "\n",
              "       Tweet_Length  token_length  \n",
              "count    1747805.00    1747805.00  \n",
              "mean         166.19         15.67  \n",
              "std           83.53          9.56  \n",
              "min            6.00          0.00  \n",
              "25%           96.00          8.00  \n",
              "50%          157.00         14.00  \n",
              "75%          242.00         22.00  \n",
              "max          987.00         84.00  "
            ]
          },
          "execution_count": 87,
          "metadata": {},
          "output_type": "execute_result"
        }
      ],
      "source": [
        "election_df.describe()"
      ]
    },
    {
      "cell_type": "code",
      "execution_count": null,
      "id": "6df80301",
      "metadata": {
        "id": "6df80301",
        "outputId": "b295dbf0-c20f-4051-a53e-12aa03724bab"
      },
      "outputs": [
        {
          "data": {
            "text/plain": [
              "clean_tweet             0\n",
              "Topics                  0\n",
              "Human_generated         0\n",
              "count_emoji             0\n",
              "count_username          0\n",
              "clean_tweet_Length      0\n",
              "Tweet_Length            0\n",
              "Tweet                   0\n",
              "tokenize_clean_tweet    0\n",
              "token_length            0\n",
              "dtype: int64"
            ]
          },
          "execution_count": 88,
          "metadata": {},
          "output_type": "execute_result"
        }
      ],
      "source": [
        "election_df.isna().sum()"
      ]
    },
    {
      "cell_type": "markdown",
      "id": "c32b4750",
      "metadata": {
        "id": "c32b4750"
      },
      "source": [
        "## Gather only English data and randomly select 10k"
      ]
    },
    {
      "cell_type": "code",
      "execution_count": null,
      "id": "a6e9eb15",
      "metadata": {
        "id": "a6e9eb15"
      },
      "outputs": [],
      "source": [
        "# # Gather only English data using detect\n",
        "# # not select: can't detect ha ha ha as English\n",
        "# from langdetect import detect\n",
        "\n",
        "# sentence = \"om ledarskap nu good mmer vem som vinner biden...\"\n",
        "\n",
        "# language = detect(sentence)\n",
        "# print(\"Detected Language:\", language)\n"
      ]
    },
    {
      "cell_type": "code",
      "execution_count": null,
      "id": "646e9ebb",
      "metadata": {
        "id": "646e9ebb"
      },
      "outputs": [],
      "source": [
        "election_pd = pd.read_csv(\"election_df.csv\")\n",
        "fifa_pd = pd.read_csv(\"fifa_df.csv\")\n",
        "game_pd = pd.read_csv(\"game_df.csv\")"
      ]
    },
    {
      "cell_type": "code",
      "execution_count": null,
      "id": "744f6046",
      "metadata": {
        "id": "744f6046",
        "outputId": "5f3cc182-02fe-46a9-bfce-263b09249177"
      },
      "outputs": [
        {
          "data": {
            "text/html": [
              "<div>\n",
              "<style scoped>\n",
              "    .dataframe tbody tr th:only-of-type {\n",
              "        vertical-align: middle;\n",
              "    }\n",
              "\n",
              "    .dataframe tbody tr th {\n",
              "        vertical-align: top;\n",
              "    }\n",
              "\n",
              "    .dataframe thead th {\n",
              "        text-align: right;\n",
              "    }\n",
              "</style>\n",
              "<table border=\"1\" class=\"dataframe\">\n",
              "  <thead>\n",
              "    <tr style=\"text-align: right;\">\n",
              "      <th></th>\n",
              "      <th>clean_tweet</th>\n",
              "      <th>Topics</th>\n",
              "      <th>Human_generated</th>\n",
              "      <th>count_emoji</th>\n",
              "      <th>count_profile</th>\n",
              "      <th>clean_tweet_Length</th>\n",
              "      <th>Tweet_Length</th>\n",
              "      <th>Tweet</th>\n",
              "      <th>tokenize_clean_tweet</th>\n",
              "      <th>token_length</th>\n",
              "    </tr>\n",
              "  </thead>\n",
              "  <tbody>\n",
              "    <tr>\n",
              "      <th>0</th>\n",
              "      <td>dvr legit look like right matlock 4 new 52 tot...</td>\n",
              "      <td>Game</td>\n",
              "      <td>1</td>\n",
              "      <td>0</td>\n",
              "      <td>0</td>\n",
              "      <td>276</td>\n",
              "      <td>276</td>\n",
              "      <td>my DVR legit looks like this right now\\n\\nMatl...</td>\n",
              "      <td>['dvr', 'legit', 'look', 'like', 'right', 'mat...</td>\n",
              "      <td>52</td>\n",
              "    </tr>\n",
              "    <tr>\n",
              "      <th>1</th>\n",
              "      <td>1 week till game throne 1 week till game thron...</td>\n",
              "      <td>Game</td>\n",
              "      <td>1</td>\n",
              "      <td>0</td>\n",
              "      <td>0</td>\n",
              "      <td>279</td>\n",
              "      <td>279</td>\n",
              "      <td>1 WEEK TILL GAME OF THRONES\\n1 WEEK TILL GAME ...</td>\n",
              "      <td>['1', 'week', 'till', 'game', 'throne', '1', '...</td>\n",
              "      <td>50</td>\n",
              "    </tr>\n",
              "    <tr>\n",
              "      <th>2</th>\n",
              "      <td>number baby ramsay year 1997 1997 12 1998 13 1...</td>\n",
              "      <td>Game</td>\n",
              "      <td>1</td>\n",
              "      <td>0</td>\n",
              "      <td>1</td>\n",
              "      <td>233</td>\n",
              "      <td>265</td>\n",
              "      <td>@clary_olivia The number of babies named Ramsa...</td>\n",
              "      <td>['number', 'baby', 'ramsay', 'year', '1997', '...</td>\n",
              "      <td>50</td>\n",
              "    </tr>\n",
              "    <tr>\n",
              "      <th>3</th>\n",
              "      <td>1 selena 2 dixie chick 3 cat 4 calm 5 friend 6...</td>\n",
              "      <td>Game</td>\n",
              "      <td>1</td>\n",
              "      <td>0</td>\n",
              "      <td>0</td>\n",
              "      <td>258</td>\n",
              "      <td>276</td>\n",
              "      <td>1 Selena \\n2 Dixie Chicks \\n3 Cats \\n4 Calm\\n5...</td>\n",
              "      <td>['1', 'selena', '2', 'dixie', 'chick', '3', 'c...</td>\n",
              "      <td>49</td>\n",
              "    </tr>\n",
              "    <tr>\n",
              "      <th>4</th>\n",
              "      <td>william hill odd sit iron throne end game thro...</td>\n",
              "      <td>Game</td>\n",
              "      <td>1</td>\n",
              "      <td>0</td>\n",
              "      <td>0</td>\n",
              "      <td>259</td>\n",
              "      <td>277</td>\n",
              "      <td>William Hill with the odds on who sits on the ...</td>\n",
              "      <td>['william', 'hill', 'odd', 'sit', 'iron', 'thr...</td>\n",
              "      <td>48</td>\n",
              "    </tr>\n",
              "  </tbody>\n",
              "</table>\n",
              "</div>"
            ],
            "text/plain": [
              "                                         clean_tweet Topics  Human_generated  \\\n",
              "0  dvr legit look like right matlock 4 new 52 tot...   Game                1   \n",
              "1  1 week till game throne 1 week till game thron...   Game                1   \n",
              "2  number baby ramsay year 1997 1997 12 1998 13 1...   Game                1   \n",
              "3  1 selena 2 dixie chick 3 cat 4 calm 5 friend 6...   Game                1   \n",
              "4  william hill odd sit iron throne end game thro...   Game                1   \n",
              "\n",
              "   count_emoji  count_profile  clean_tweet_Length  Tweet_Length  \\\n",
              "0            0              0                 276           276   \n",
              "1            0              0                 279           279   \n",
              "2            0              1                 233           265   \n",
              "3            0              0                 258           276   \n",
              "4            0              0                 259           277   \n",
              "\n",
              "                                               Tweet  \\\n",
              "0  my DVR legit looks like this right now\\n\\nMatl...   \n",
              "1  1 WEEK TILL GAME OF THRONES\\n1 WEEK TILL GAME ...   \n",
              "2  @clary_olivia The number of babies named Ramsa...   \n",
              "3  1 Selena \\n2 Dixie Chicks \\n3 Cats \\n4 Calm\\n5...   \n",
              "4  William Hill with the odds on who sits on the ...   \n",
              "\n",
              "                                tokenize_clean_tweet  token_length  \n",
              "0  ['dvr', 'legit', 'look', 'like', 'right', 'mat...            52  \n",
              "1  ['1', 'week', 'till', 'game', 'throne', '1', '...            50  \n",
              "2  ['number', 'baby', 'ramsay', 'year', '1997', '...            50  \n",
              "3  ['1', 'selena', '2', 'dixie', 'chick', '3', 'c...            49  \n",
              "4  ['william', 'hill', 'odd', 'sit', 'iron', 'thr...            48  "
            ]
          },
          "execution_count": 42,
          "metadata": {},
          "output_type": "execute_result"
        }
      ],
      "source": [
        "game_pd.head()"
      ]
    },
    {
      "cell_type": "code",
      "execution_count": null,
      "id": "09aadeef",
      "metadata": {
        "id": "09aadeef",
        "outputId": "ab0609d1-f265-466b-b5ce-f7e2a3237633"
      },
      "outputs": [
        {
          "data": {
            "text/plain": [
              "clean_tweet                 7\n",
              "Topics                     11\n",
              "Human_generated            11\n",
              "count_emoji                24\n",
              "count_profile              24\n",
              "clean_tweet_Length         24\n",
              "Tweet_Length               24\n",
              "Tweet                      24\n",
              "tokenize_clean_tweet    63730\n",
              "token_length            63730\n",
              "dtype: int64"
            ]
          },
          "execution_count": 31,
          "metadata": {},
          "output_type": "execute_result"
        }
      ],
      "source": [
        "election_pd.isna().sum()"
      ]
    },
    {
      "cell_type": "code",
      "execution_count": null,
      "id": "57818d36",
      "metadata": {
        "id": "57818d36",
        "outputId": "0e62b93e-37c8-4f5c-a2d5-98c061c0d9d7"
      },
      "outputs": [
        {
          "data": {
            "text/plain": [
              "clean_tweet             4\n",
              "Topics                  0\n",
              "Human_generated         0\n",
              "count_emoji             0\n",
              "count_profile           0\n",
              "clean_tweet_Length      0\n",
              "Tweet_Length            0\n",
              "Tweet                   0\n",
              "tokenize_clean_tweet    0\n",
              "token_length            0\n",
              "fasttext_language       4\n",
              "dtype: int64"
            ]
          },
          "execution_count": 55,
          "metadata": {},
          "output_type": "execute_result"
        }
      ],
      "source": [
        "game_pd.isna().sum()"
      ]
    },
    {
      "cell_type": "code",
      "execution_count": null,
      "id": "d6919897",
      "metadata": {
        "id": "d6919897",
        "outputId": "f0c714de-d9bb-4385-e130-9405efdc5ead"
      },
      "outputs": [
        {
          "data": {
            "text/html": [
              "<div>\n",
              "<style scoped>\n",
              "    .dataframe tbody tr th:only-of-type {\n",
              "        vertical-align: middle;\n",
              "    }\n",
              "\n",
              "    .dataframe tbody tr th {\n",
              "        vertical-align: top;\n",
              "    }\n",
              "\n",
              "    .dataframe thead th {\n",
              "        text-align: right;\n",
              "    }\n",
              "</style>\n",
              "<table border=\"1\" class=\"dataframe\">\n",
              "  <thead>\n",
              "    <tr style=\"text-align: right;\">\n",
              "      <th></th>\n",
              "      <th>clean_tweet</th>\n",
              "      <th>Topics</th>\n",
              "      <th>Human_generated</th>\n",
              "      <th>count_emoji</th>\n",
              "      <th>count_profile</th>\n",
              "      <th>clean_tweet_Length</th>\n",
              "      <th>Tweet_Length</th>\n",
              "      <th>Tweet</th>\n",
              "      <th>tokenize_clean_tweet</th>\n",
              "      <th>token_length</th>\n",
              "      <th>fasttext_language</th>\n",
              "    </tr>\n",
              "  </thead>\n",
              "  <tbody>\n",
              "    <tr>\n",
              "      <th>760656</th>\n",
              "      <td>NaN</td>\n",
              "      <td>Game</td>\n",
              "      <td>1</td>\n",
              "      <td>0</td>\n",
              "      <td>0</td>\n",
              "      <td>0</td>\n",
              "      <td>11</td>\n",
              "      <td></td>\n",
              "      <td>[]</td>\n",
              "      <td>0</td>\n",
              "      <td>None</td>\n",
              "    </tr>\n",
              "    <tr>\n",
              "      <th>760657</th>\n",
              "      <td>NaN</td>\n",
              "      <td>Game</td>\n",
              "      <td>1</td>\n",
              "      <td>0</td>\n",
              "      <td>0</td>\n",
              "      <td>28</td>\n",
              "      <td>28</td>\n",
              "      <td>ᴳᵃᵐᵉ ᵒᶠ ᵗʰʳᵒⁿᵉˢ ⁱˢ ᵒᵛᵉʳʳᵃᵗᵉᵈ</td>\n",
              "      <td>[]</td>\n",
              "      <td>0</td>\n",
              "      <td>None</td>\n",
              "    </tr>\n",
              "    <tr>\n",
              "      <th>760658</th>\n",
              "      <td>NaN</td>\n",
              "      <td>Game</td>\n",
              "      <td>1</td>\n",
              "      <td>0</td>\n",
              "      <td>0</td>\n",
              "      <td>1</td>\n",
              "      <td>6</td>\n",
              "      <td>'</td>\n",
              "      <td>[]</td>\n",
              "      <td>0</td>\n",
              "      <td>None</td>\n",
              "    </tr>\n",
              "    <tr>\n",
              "      <th>760659</th>\n",
              "      <td>NaN</td>\n",
              "      <td>Game</td>\n",
              "      <td>1</td>\n",
              "      <td>1</td>\n",
              "      <td>0</td>\n",
              "      <td>31</td>\n",
              "      <td>33</td>\n",
              "      <td>ᴵ’ᵛᵉ ⁿᵉᵛᵉʳ ˢᵉᵉⁿ ᴳᵃᵐᵉ ᵒᶠ ᵀʰʳᵒⁿᵉˢ 🤭</td>\n",
              "      <td>[]</td>\n",
              "      <td>0</td>\n",
              "      <td>None</td>\n",
              "    </tr>\n",
              "  </tbody>\n",
              "</table>\n",
              "</div>"
            ],
            "text/plain": [
              "       clean_tweet Topics  Human_generated  count_emoji  count_profile  \\\n",
              "760656         NaN   Game                1            0              0   \n",
              "760657         NaN   Game                1            0              0   \n",
              "760658         NaN   Game                1            0              0   \n",
              "760659         NaN   Game                1            1              0   \n",
              "\n",
              "        clean_tweet_Length  Tweet_Length                              Tweet  \\\n",
              "760656                   0            11                                      \n",
              "760657                  28            28       ᴳᵃᵐᵉ ᵒᶠ ᵗʰʳᵒⁿᵉˢ ⁱˢ ᵒᵛᵉʳʳᵃᵗᵉᵈ   \n",
              "760658                   1             6                              '       \n",
              "760659                  31            33  ᴵ’ᵛᵉ ⁿᵉᵛᵉʳ ˢᵉᵉⁿ ᴳᵃᵐᵉ ᵒᶠ ᵀʰʳᵒⁿᵉˢ 🤭   \n",
              "\n",
              "       tokenize_clean_tweet  token_length fasttext_language  \n",
              "760656                   []             0              None  \n",
              "760657                   []             0              None  \n",
              "760658                   []             0              None  \n",
              "760659                   []             0              None  "
            ]
          },
          "execution_count": 57,
          "metadata": {},
          "output_type": "execute_result"
        }
      ],
      "source": [
        "game_pd[game_pd.isnull().any(axis=1)]"
      ]
    },
    {
      "cell_type": "code",
      "execution_count": null,
      "id": "8654f5ad",
      "metadata": {
        "id": "8654f5ad",
        "outputId": "fa5d9f5e-0cff-4efc-da9c-d121fa6f378c"
      },
      "outputs": [
        {
          "data": {
            "text/plain": [
              "(1811522, 10)"
            ]
          },
          "execution_count": 32,
          "metadata": {},
          "output_type": "execute_result"
        }
      ],
      "source": [
        "election_pd.shape"
      ]
    },
    {
      "cell_type": "code",
      "execution_count": null,
      "id": "1a911115",
      "metadata": {
        "id": "1a911115"
      },
      "outputs": [],
      "source": [
        "election_pd = election_pd.dropna()\n",
        "game_pd = game_pd.dropna()\n",
        "fifa_pd = fifa_pd.dropna()"
      ]
    },
    {
      "cell_type": "code",
      "execution_count": null,
      "id": "26252b85",
      "metadata": {
        "id": "26252b85",
        "outputId": "1c031f53-bf88-404d-d19a-e264d6886a67"
      },
      "outputs": [
        {
          "name": "stdout",
          "output_type": "stream",
          "text": [
            "(1747785, 11) (760656, 11) (22524, 11)\n"
          ]
        }
      ],
      "source": [
        "print(election_pd.shape, game_pd.shape, fifa_pd.shape)"
      ]
    },
    {
      "cell_type": "markdown",
      "id": "d3db28e8",
      "metadata": {
        "id": "d3db28e8"
      },
      "source": [
        "## select only english"
      ]
    },
    {
      "cell_type": "markdown",
      "id": "1d931d5e",
      "metadata": {
        "id": "1d931d5e"
      },
      "source": [
        "### Langauge detection by fastext (selected)"
      ]
    },
    {
      "cell_type": "code",
      "execution_count": null,
      "id": "e7aaed3e",
      "metadata": {
        "id": "e7aaed3e",
        "outputId": "34d50177-ed2a-4660-c0e0-4636464b05f7"
      },
      "outputs": [
        {
          "name": "stderr",
          "output_type": "stream",
          "text": [
            "Warning : `load_model` does not return WordVectorModel or SupervisedModel any more, but a `FastText` object which is very similar.\n"
          ]
        }
      ],
      "source": [
        "model_path = 'lid.176.bin'\n",
        "model = fasttext.load_model(model_path)\n",
        "# can't process line with /n, so use clean_tweet\n",
        "def detect_by_fasttext(text):\n",
        "    try:\n",
        "        prediction = model.predict(text)\n",
        "        language = prediction[0][0].split('__label__')[1]\n",
        "        return language\n",
        "#         return detect(x)\n",
        "    except Exception as e:\n",
        "        print(text)\n",
        "        print(\"Error:\", e)\n",
        "        return None  # or any value to indicate error\n",
        "#     prediction = model.predict(text)\n",
        "#     language = prediction[0][0].split('__label__')[1]\n",
        "#     return language"
      ]
    },
    {
      "cell_type": "code",
      "execution_count": null,
      "id": "cecd4ed4",
      "metadata": {
        "id": "cecd4ed4"
      },
      "outputs": [],
      "source": [
        "game_pd['fasttext_language'] = game_pd['clean_tweet'].apply(lambda x: detect_by_fasttext(x))"
      ]
    },
    {
      "cell_type": "code",
      "execution_count": null,
      "id": "5e5d32fb",
      "metadata": {
        "id": "5e5d32fb"
      },
      "outputs": [],
      "source": [
        "election_pd['fasttext_language'] = election_pd['clean_tweet'].apply(lambda x: detect_by_fasttext(x))"
      ]
    },
    {
      "cell_type": "code",
      "execution_count": null,
      "id": "0347a919",
      "metadata": {
        "id": "0347a919"
      },
      "outputs": [],
      "source": [
        "fifa_pd['fasttext_language'] = fifa_pd['clean_tweet'].apply(lambda x: detect_by_fasttext(x))"
      ]
    },
    {
      "cell_type": "code",
      "execution_count": null,
      "id": "6fd14e45",
      "metadata": {
        "id": "6fd14e45"
      },
      "outputs": [],
      "source": [
        "game_df_fasttext = game_pd[game_pd['fasttext_language'] == 'en']"
      ]
    },
    {
      "cell_type": "code",
      "execution_count": null,
      "id": "5c2b2ae1",
      "metadata": {
        "scrolled": true,
        "id": "5c2b2ae1",
        "outputId": "0e79bf37-9ae9-49d6-ff02-75670c0cd9e7"
      },
      "outputs": [
        {
          "data": {
            "text/html": [
              "<div>\n",
              "<style scoped>\n",
              "    .dataframe tbody tr th:only-of-type {\n",
              "        vertical-align: middle;\n",
              "    }\n",
              "\n",
              "    .dataframe tbody tr th {\n",
              "        vertical-align: top;\n",
              "    }\n",
              "\n",
              "    .dataframe thead th {\n",
              "        text-align: right;\n",
              "    }\n",
              "</style>\n",
              "<table border=\"1\" class=\"dataframe\">\n",
              "  <thead>\n",
              "    <tr style=\"text-align: right;\">\n",
              "      <th></th>\n",
              "      <th>clean_tweet</th>\n",
              "      <th>Topics</th>\n",
              "      <th>Human_generated</th>\n",
              "      <th>count_emoji</th>\n",
              "      <th>count_profile</th>\n",
              "      <th>clean_tweet_Length</th>\n",
              "      <th>Tweet_Length</th>\n",
              "      <th>Tweet</th>\n",
              "      <th>tokenize_clean_tweet</th>\n",
              "      <th>token_length</th>\n",
              "      <th>fasttext_language</th>\n",
              "    </tr>\n",
              "  </thead>\n",
              "  <tbody>\n",
              "    <tr>\n",
              "      <th>0</th>\n",
              "      <td>dvr legit look like right matlock 4 new 52 tot...</td>\n",
              "      <td>Game</td>\n",
              "      <td>1</td>\n",
              "      <td>0</td>\n",
              "      <td>0</td>\n",
              "      <td>276</td>\n",
              "      <td>276</td>\n",
              "      <td>my DVR legit looks like this right now\\n\\nMatl...</td>\n",
              "      <td>['dvr', 'legit', 'look', 'like', 'right', 'mat...</td>\n",
              "      <td>52</td>\n",
              "      <td>en</td>\n",
              "    </tr>\n",
              "    <tr>\n",
              "      <th>1</th>\n",
              "      <td>1 week till game throne 1 week till game thron...</td>\n",
              "      <td>Game</td>\n",
              "      <td>1</td>\n",
              "      <td>0</td>\n",
              "      <td>0</td>\n",
              "      <td>279</td>\n",
              "      <td>279</td>\n",
              "      <td>1 WEEK TILL GAME OF THRONES\\n1 WEEK TILL GAME ...</td>\n",
              "      <td>['1', 'week', 'till', 'game', 'throne', '1', '...</td>\n",
              "      <td>50</td>\n",
              "      <td>en</td>\n",
              "    </tr>\n",
              "    <tr>\n",
              "      <th>3</th>\n",
              "      <td>1 selena 2 dixie chick 3 cat 4 calm 5 friend 6...</td>\n",
              "      <td>Game</td>\n",
              "      <td>1</td>\n",
              "      <td>0</td>\n",
              "      <td>0</td>\n",
              "      <td>258</td>\n",
              "      <td>276</td>\n",
              "      <td>1 Selena \\n2 Dixie Chicks \\n3 Cats \\n4 Calm\\n5...</td>\n",
              "      <td>['1', 'selena', '2', 'dixie', 'chick', '3', 'c...</td>\n",
              "      <td>49</td>\n",
              "      <td>en</td>\n",
              "    </tr>\n",
              "    <tr>\n",
              "      <th>4</th>\n",
              "      <td>william hill odd sit iron throne end game thro...</td>\n",
              "      <td>Game</td>\n",
              "      <td>1</td>\n",
              "      <td>0</td>\n",
              "      <td>0</td>\n",
              "      <td>259</td>\n",
              "      <td>277</td>\n",
              "      <td>William Hill with the odds on who sits on the ...</td>\n",
              "      <td>['william', 'hill', 'odd', 'sit', 'iron', 'thr...</td>\n",
              "      <td>48</td>\n",
              "      <td>en</td>\n",
              "    </tr>\n",
              "    <tr>\n",
              "      <th>5</th>\n",
              "      <td>dog 07 2019 ytd tot rtn 886 v tsx 635 max rtn ...</td>\n",
              "      <td>Game</td>\n",
              "      <td>1</td>\n",
              "      <td>0</td>\n",
              "      <td>0</td>\n",
              "      <td>251</td>\n",
              "      <td>251</td>\n",
              "      <td>T-DOGS  07-May-2019\\n\\nYTD\\nTot Rtn  886%\\nv T...</td>\n",
              "      <td>['dog', '07', '2019', 'ytd', 'tot', 'rtn', '88...</td>\n",
              "      <td>48</td>\n",
              "      <td>en</td>\n",
              "    </tr>\n",
              "  </tbody>\n",
              "</table>\n",
              "</div>"
            ],
            "text/plain": [
              "                                         clean_tweet Topics  Human_generated  \\\n",
              "0  dvr legit look like right matlock 4 new 52 tot...   Game                1   \n",
              "1  1 week till game throne 1 week till game thron...   Game                1   \n",
              "3  1 selena 2 dixie chick 3 cat 4 calm 5 friend 6...   Game                1   \n",
              "4  william hill odd sit iron throne end game thro...   Game                1   \n",
              "5  dog 07 2019 ytd tot rtn 886 v tsx 635 max rtn ...   Game                1   \n",
              "\n",
              "   count_emoji  count_profile  clean_tweet_Length  Tweet_Length  \\\n",
              "0            0              0                 276           276   \n",
              "1            0              0                 279           279   \n",
              "3            0              0                 258           276   \n",
              "4            0              0                 259           277   \n",
              "5            0              0                 251           251   \n",
              "\n",
              "                                               Tweet  \\\n",
              "0  my DVR legit looks like this right now\\n\\nMatl...   \n",
              "1  1 WEEK TILL GAME OF THRONES\\n1 WEEK TILL GAME ...   \n",
              "3  1 Selena \\n2 Dixie Chicks \\n3 Cats \\n4 Calm\\n5...   \n",
              "4  William Hill with the odds on who sits on the ...   \n",
              "5  T-DOGS  07-May-2019\\n\\nYTD\\nTot Rtn  886%\\nv T...   \n",
              "\n",
              "                                tokenize_clean_tweet  token_length  \\\n",
              "0  ['dvr', 'legit', 'look', 'like', 'right', 'mat...            52   \n",
              "1  ['1', 'week', 'till', 'game', 'throne', '1', '...            50   \n",
              "3  ['1', 'selena', '2', 'dixie', 'chick', '3', 'c...            49   \n",
              "4  ['william', 'hill', 'odd', 'sit', 'iron', 'thr...            48   \n",
              "5  ['dog', '07', '2019', 'ytd', 'tot', 'rtn', '88...            48   \n",
              "\n",
              "  fasttext_language  \n",
              "0                en  \n",
              "1                en  \n",
              "3                en  \n",
              "4                en  \n",
              "5                en  "
            ]
          },
          "execution_count": 65,
          "metadata": {},
          "output_type": "execute_result"
        }
      ],
      "source": [
        "game_df_fasttext.head()"
      ]
    },
    {
      "cell_type": "code",
      "execution_count": null,
      "id": "bd470be1",
      "metadata": {
        "id": "bd470be1"
      },
      "outputs": [],
      "source": [
        "election_df_fasttext = election_pd[election_pd['fasttext_language'] == 'en']"
      ]
    },
    {
      "cell_type": "code",
      "execution_count": null,
      "id": "06068d04",
      "metadata": {
        "id": "06068d04"
      },
      "outputs": [],
      "source": [
        "fifa_df_fasttext = fifa_pd[fifa_pd['fasttext_language'] == 'en']"
      ]
    },
    {
      "cell_type": "code",
      "execution_count": null,
      "id": "dcdb3480",
      "metadata": {
        "id": "dcdb3480"
      },
      "outputs": [],
      "source": [
        "election_df_fasttext.to_csv('election_df_fasttext_en_all.csv', index=False)"
      ]
    },
    {
      "cell_type": "code",
      "execution_count": null,
      "id": "2778eb8e",
      "metadata": {
        "id": "2778eb8e"
      },
      "outputs": [],
      "source": [
        "fifa_df_fasttext.to_csv('fifa_df_fasttext_en_all.csv', index=False)"
      ]
    },
    {
      "cell_type": "code",
      "execution_count": null,
      "id": "659d1765",
      "metadata": {
        "id": "659d1765"
      },
      "outputs": [],
      "source": [
        "game_df_fasttext.to_csv('game_df_fasttext_en_all.csv', index=False)"
      ]
    },
    {
      "cell_type": "markdown",
      "id": "b3e41fc2",
      "metadata": {
        "id": "b3e41fc2"
      },
      "source": [
        "### randomly select"
      ]
    },
    {
      "cell_type": "code",
      "execution_count": null,
      "id": "1db0a04f",
      "metadata": {
        "id": "1db0a04f",
        "outputId": "0e0dae81-e1d1-47a2-f822-41dfc8654df5"
      },
      "outputs": [
        {
          "name": "stdout",
          "output_type": "stream",
          "text": [
            "(1318144, 11) (748645, 11) (21719, 11)\n"
          ]
        }
      ],
      "source": [
        "print(election_df_fasttext.shape, game_df_fasttext.shape, fifa_df_fasttext.shape)"
      ]
    },
    {
      "cell_type": "code",
      "execution_count": null,
      "id": "44fd96ae",
      "metadata": {
        "id": "44fd96ae"
      },
      "outputs": [],
      "source": [
        "game_pd_fastext_10k = game_df_fasttext.sample(n=10000, random_state=42)  # Replace 100 with the desired number of rows\n",
        "# Now, sample_df contains a randomly selected subset of rows from the original DataFrame"
      ]
    },
    {
      "cell_type": "code",
      "execution_count": null,
      "id": "9ecf9a68",
      "metadata": {
        "id": "9ecf9a68"
      },
      "outputs": [],
      "source": [
        "election_pd_fastext_10k = election_df_fasttext.sample(n=10000, random_state=42)  # Replace 100 with the desired number of rows\n",
        "# Now, sample_df contains a randomly selected subset of rows from the original DataFrame"
      ]
    },
    {
      "cell_type": "code",
      "execution_count": null,
      "id": "b143227c",
      "metadata": {
        "id": "b143227c"
      },
      "outputs": [],
      "source": [
        "fifa_pd_fastext_10k = fifa_df_fasttext.sample(n=10000, random_state=42)  # Replace 100 with the desired number of rows\n",
        "# Now, sample_df contains a randomly selected subset of rows from the original DataFrame"
      ]
    },
    {
      "cell_type": "code",
      "execution_count": null,
      "id": "bed61f8e",
      "metadata": {
        "id": "bed61f8e",
        "outputId": "30b1ac11-d617-4426-ec44-1ef8a36db5d4"
      },
      "outputs": [
        {
          "name": "stdout",
          "output_type": "stream",
          "text": [
            "(10000, 11) (100000, 11) (10000, 11)\n"
          ]
        }
      ],
      "source": [
        "print(election_pd_fastext_10k.shape, game_pd_fastext_10k.shape, fifa_pd_fastext_10k.shape)"
      ]
    },
    {
      "cell_type": "code",
      "execution_count": null,
      "id": "521455f8",
      "metadata": {
        "id": "521455f8",
        "outputId": "919b787b-ee7c-49b6-e87d-eed5ac216b70"
      },
      "outputs": [
        {
          "data": {
            "text/html": [
              "<div>\n",
              "<style scoped>\n",
              "    .dataframe tbody tr th:only-of-type {\n",
              "        vertical-align: middle;\n",
              "    }\n",
              "\n",
              "    .dataframe tbody tr th {\n",
              "        vertical-align: top;\n",
              "    }\n",
              "\n",
              "    .dataframe thead th {\n",
              "        text-align: right;\n",
              "    }\n",
              "</style>\n",
              "<table border=\"1\" class=\"dataframe\">\n",
              "  <thead>\n",
              "    <tr style=\"text-align: right;\">\n",
              "      <th></th>\n",
              "      <th>clean_tweet</th>\n",
              "      <th>Topics</th>\n",
              "      <th>Human_generated</th>\n",
              "      <th>count_emoji</th>\n",
              "      <th>count_profile</th>\n",
              "      <th>clean_tweet_Length</th>\n",
              "      <th>Tweet_Length</th>\n",
              "      <th>Tweet</th>\n",
              "      <th>tokenize_clean_tweet</th>\n",
              "      <th>token_length</th>\n",
              "      <th>fasttext_language</th>\n",
              "    </tr>\n",
              "  </thead>\n",
              "  <tbody>\n",
              "    <tr>\n",
              "      <th>743335</th>\n",
              "      <td>game throne ehhhhh</td>\n",
              "      <td>Game</td>\n",
              "      <td>1</td>\n",
              "      <td>0</td>\n",
              "      <td>2</td>\n",
              "      <td>31</td>\n",
              "      <td>53</td>\n",
              "      <td>@Applebees @Thesixler Just say game of thrones...</td>\n",
              "      <td>['game', 'throne', 'ehhhhh']</td>\n",
              "      <td>3</td>\n",
              "      <td>en</td>\n",
              "    </tr>\n",
              "    <tr>\n",
              "      <th>510260</th>\n",
              "      <td>sure game throne finale look forward day</td>\n",
              "      <td>Game</td>\n",
              "      <td>1</td>\n",
              "      <td>0</td>\n",
              "      <td>0</td>\n",
              "      <td>94</td>\n",
              "      <td>94</td>\n",
              "      <td>Well that sure was a Game of Thrones finale I'...</td>\n",
              "      <td>['sure', 'game', 'throne', 'finale', 'look', '...</td>\n",
              "      <td>7</td>\n",
              "      <td>en</td>\n",
              "    </tr>\n",
              "    <tr>\n",
              "      <th>672165</th>\n",
              "      <td>look forward week url</td>\n",
              "      <td>Game</td>\n",
              "      <td>1</td>\n",
              "      <td>0</td>\n",
              "      <td>0</td>\n",
              "      <td>43</td>\n",
              "      <td>61</td>\n",
              "      <td>Something to look forward to next week \\nhttps...</td>\n",
              "      <td>['look', 'forward', 'week', 'url']</td>\n",
              "      <td>4</td>\n",
              "      <td>en</td>\n",
              "    </tr>\n",
              "    <tr>\n",
              "      <th>546218</th>\n",
              "      <td>hot pie survive ht url url</td>\n",
              "      <td>Game</td>\n",
              "      <td>1</td>\n",
              "      <td>0</td>\n",
              "      <td>1</td>\n",
              "      <td>28</td>\n",
              "      <td>75</td>\n",
              "      <td>Hot Pie survived Ht @kimrrenfro https//tco/qUp...</td>\n",
              "      <td>['hot', 'pie', 'survive', 'ht', 'url', 'url']</td>\n",
              "      <td>6</td>\n",
              "      <td>en</td>\n",
              "    </tr>\n",
              "    <tr>\n",
              "      <th>629042</th>\n",
              "      <td>amp ruin game throne gameofthrone</td>\n",
              "      <td>Game</td>\n",
              "      <td>1</td>\n",
              "      <td>0</td>\n",
              "      <td>0</td>\n",
              "      <td>45</td>\n",
              "      <td>45</td>\n",
              "      <td>D&amp;amp;D ruined game of thrones #GameofThrones</td>\n",
              "      <td>['amp', 'ruin', 'game', 'throne', 'gameofthrone']</td>\n",
              "      <td>5</td>\n",
              "      <td>en</td>\n",
              "    </tr>\n",
              "  </tbody>\n",
              "</table>\n",
              "</div>"
            ],
            "text/plain": [
              "                                     clean_tweet Topics  Human_generated  \\\n",
              "743335                        game throne ehhhhh   Game                1   \n",
              "510260  sure game throne finale look forward day   Game                1   \n",
              "672165                     look forward week url   Game                1   \n",
              "546218                hot pie survive ht url url   Game                1   \n",
              "629042         amp ruin game throne gameofthrone   Game                1   \n",
              "\n",
              "        count_emoji  count_profile  clean_tweet_Length  Tweet_Length  \\\n",
              "743335            0              2                  31            53   \n",
              "510260            0              0                  94            94   \n",
              "672165            0              0                  43            61   \n",
              "546218            0              1                  28            75   \n",
              "629042            0              0                  45            45   \n",
              "\n",
              "                                                    Tweet  \\\n",
              "743335  @Applebees @Thesixler Just say game of thrones...   \n",
              "510260  Well that sure was a Game of Thrones finale I'...   \n",
              "672165  Something to look forward to next week \\nhttps...   \n",
              "546218  Hot Pie survived Ht @kimrrenfro https//tco/qUp...   \n",
              "629042      D&amp;D ruined game of thrones #GameofThrones   \n",
              "\n",
              "                                     tokenize_clean_tweet  token_length  \\\n",
              "743335                       ['game', 'throne', 'ehhhhh']             3   \n",
              "510260  ['sure', 'game', 'throne', 'finale', 'look', '...             7   \n",
              "672165                 ['look', 'forward', 'week', 'url']             4   \n",
              "546218      ['hot', 'pie', 'survive', 'ht', 'url', 'url']             6   \n",
              "629042  ['amp', 'ruin', 'game', 'throne', 'gameofthrone']             5   \n",
              "\n",
              "       fasttext_language  \n",
              "743335                en  \n",
              "510260                en  \n",
              "672165                en  \n",
              "546218                en  \n",
              "629042                en  "
            ]
          },
          "execution_count": 73,
          "metadata": {},
          "output_type": "execute_result"
        }
      ],
      "source": [
        "game_pd_fastext_10k.head()"
      ]
    },
    {
      "cell_type": "code",
      "execution_count": null,
      "id": "cba3228e",
      "metadata": {
        "id": "cba3228e"
      },
      "outputs": [],
      "source": [
        "election_pd_fastext_10k = text_preprocessing(election_pd_fastext_10k)"
      ]
    },
    {
      "cell_type": "code",
      "execution_count": null,
      "id": "48336deb",
      "metadata": {
        "id": "48336deb",
        "outputId": "a018458e-64b9-43f5-a4c4-6f282e3dc8fb"
      },
      "outputs": [
        {
          "data": {
            "text/html": [
              "<div>\n",
              "<style scoped>\n",
              "    .dataframe tbody tr th:only-of-type {\n",
              "        vertical-align: middle;\n",
              "    }\n",
              "\n",
              "    .dataframe tbody tr th {\n",
              "        vertical-align: top;\n",
              "    }\n",
              "\n",
              "    .dataframe thead th {\n",
              "        text-align: right;\n",
              "    }\n",
              "</style>\n",
              "<table border=\"1\" class=\"dataframe\">\n",
              "  <thead>\n",
              "    <tr style=\"text-align: right;\">\n",
              "      <th></th>\n",
              "      <th>clean_tweet</th>\n",
              "      <th>Topics</th>\n",
              "      <th>Human_generated</th>\n",
              "      <th>count_emoji</th>\n",
              "      <th>count_profile</th>\n",
              "      <th>clean_tweet_Length</th>\n",
              "      <th>Tweet_Length</th>\n",
              "      <th>Tweet</th>\n",
              "      <th>tokenize_clean_tweet</th>\n",
              "      <th>token_length</th>\n",
              "    </tr>\n",
              "  </thead>\n",
              "  <tbody>\n",
              "    <tr>\n",
              "      <th>6494</th>\n",
              "      <td>citizen kill covid19 corona trump 1 million jo...</td>\n",
              "      <td>Election</td>\n",
              "      <td>1.0</td>\n",
              "      <td>0</td>\n",
              "      <td>0</td>\n",
              "      <td>271</td>\n",
              "      <td>271</td>\n",
              "      <td>Citizens killed by #covid19/#Corona/#Trump per...</td>\n",
              "      <td>[citizen, kill, covid19, corona, trump, 1, mil...</td>\n",
              "      <td>54</td>\n",
              "    </tr>\n",
              "    <tr>\n",
              "      <th>9285</th>\n",
              "      <td>mama mnet soty aoty roty dynamite aespa txt st...</td>\n",
              "      <td>Election</td>\n",
              "      <td>1.0</td>\n",
              "      <td>0</td>\n",
              "      <td>0</td>\n",
              "      <td>256</td>\n",
              "      <td>274</td>\n",
              "      <td>mama mnet soty aoty roty dynamite aespa txt st...</td>\n",
              "      <td>[mama, mnet, soty, aoty, roty, dynamite, aespa...</td>\n",
              "      <td>43</td>\n",
              "    </tr>\n",
              "    <tr>\n",
              "      <th>3667</th>\n",
              "      <td>50 100 profit week ggtrade community url eth x...</td>\n",
              "      <td>Election</td>\n",
              "      <td>1.0</td>\n",
              "      <td>1</td>\n",
              "      <td>0</td>\n",
              "      <td>260</td>\n",
              "      <td>296</td>\n",
              "      <td>Make +50-100% profit every week with GGTRADING...</td>\n",
              "      <td>[50, 100, profit, week, ggtrade, community, ur...</td>\n",
              "      <td>42</td>\n",
              "    </tr>\n",
              "    <tr>\n",
              "      <th>3762</th>\n",
              "      <td>iphone 11 12 pro max mini xr xs x 8 7 6 6s plu...</td>\n",
              "      <td>Election</td>\n",
              "      <td>1.0</td>\n",
              "      <td>0</td>\n",
              "      <td>0</td>\n",
              "      <td>250</td>\n",
              "      <td>286</td>\n",
              "      <td>For iPhone 11 12 Pro Max Mini XR XS X 8 7 6 6S...</td>\n",
              "      <td>[iphone, 11, 12, pro, max, mini, xr, xs, x, 8,...</td>\n",
              "      <td>41</td>\n",
              "    </tr>\n",
              "    <tr>\n",
              "      <th>9164</th>\n",
              "      <td>deadly event history 1 675000 1918 flu pandemi...</td>\n",
              "      <td>Election</td>\n",
              "      <td>1.0</td>\n",
              "      <td>0</td>\n",
              "      <td>1</td>\n",
              "      <td>269</td>\n",
              "      <td>303</td>\n",
              "      <td>@ProjectLincoln Deadliest events in US history...</td>\n",
              "      <td>[deadly, event, history, 1, 675000, 1918, flu,...</td>\n",
              "      <td>39</td>\n",
              "    </tr>\n",
              "  </tbody>\n",
              "</table>\n",
              "</div>"
            ],
            "text/plain": [
              "                                            clean_tweet    Topics  \\\n",
              "6494  citizen kill covid19 corona trump 1 million jo...  Election   \n",
              "9285  mama mnet soty aoty roty dynamite aespa txt st...  Election   \n",
              "3667  50 100 profit week ggtrade community url eth x...  Election   \n",
              "3762  iphone 11 12 pro max mini xr xs x 8 7 6 6s plu...  Election   \n",
              "9164  deadly event history 1 675000 1918 flu pandemi...  Election   \n",
              "\n",
              "      Human_generated  count_emoji  count_profile  clean_tweet_Length  \\\n",
              "6494              1.0            0              0                 271   \n",
              "9285              1.0            0              0                 256   \n",
              "3667              1.0            1              0                 260   \n",
              "3762              1.0            0              0                 250   \n",
              "9164              1.0            0              1                 269   \n",
              "\n",
              "      Tweet_Length                                              Tweet  \\\n",
              "6494           271  Citizens killed by #covid19/#Corona/#Trump per...   \n",
              "9285           274  mama mnet soty aoty roty dynamite aespa txt st...   \n",
              "3667           296  Make +50-100% profit every week with GGTRADING...   \n",
              "3762           286  For iPhone 11 12 Pro Max Mini XR XS X 8 7 6 6S...   \n",
              "9164           303  @ProjectLincoln Deadliest events in US history...   \n",
              "\n",
              "                                   tokenize_clean_tweet  token_length  \n",
              "6494  [citizen, kill, covid19, corona, trump, 1, mil...            54  \n",
              "9285  [mama, mnet, soty, aoty, roty, dynamite, aespa...            43  \n",
              "3667  [50, 100, profit, week, ggtrade, community, ur...            42  \n",
              "3762  [iphone, 11, 12, pro, max, mini, xr, xs, x, 8,...            41  \n",
              "9164  [deadly, event, history, 1, 675000, 1918, flu,...            39  "
            ]
          },
          "execution_count": 75,
          "metadata": {},
          "output_type": "execute_result"
        }
      ],
      "source": [
        "election_pd_fastext_10k.head()"
      ]
    },
    {
      "cell_type": "code",
      "execution_count": null,
      "id": "fb43b422",
      "metadata": {
        "id": "fb43b422",
        "outputId": "ff79b0c0-6265-4682-d1bf-7601581f828a"
      },
      "outputs": [
        {
          "data": {
            "text/html": [
              "<div>\n",
              "<style scoped>\n",
              "    .dataframe tbody tr th:only-of-type {\n",
              "        vertical-align: middle;\n",
              "    }\n",
              "\n",
              "    .dataframe tbody tr th {\n",
              "        vertical-align: top;\n",
              "    }\n",
              "\n",
              "    .dataframe thead th {\n",
              "        text-align: right;\n",
              "    }\n",
              "</style>\n",
              "<table border=\"1\" class=\"dataframe\">\n",
              "  <thead>\n",
              "    <tr style=\"text-align: right;\">\n",
              "      <th></th>\n",
              "      <th>clean_tweet</th>\n",
              "      <th>Topics</th>\n",
              "      <th>Human_generated</th>\n",
              "      <th>count_emoji</th>\n",
              "      <th>count_profile</th>\n",
              "      <th>clean_tweet_Length</th>\n",
              "      <th>Tweet_Length</th>\n",
              "      <th>Tweet</th>\n",
              "      <th>tokenize_clean_tweet</th>\n",
              "      <th>token_length</th>\n",
              "      <th>fasttext_language</th>\n",
              "    </tr>\n",
              "  </thead>\n",
              "  <tbody>\n",
              "    <tr>\n",
              "      <th>743335</th>\n",
              "      <td>game throne ehhhhh</td>\n",
              "      <td>Game</td>\n",
              "      <td>1</td>\n",
              "      <td>0</td>\n",
              "      <td>2</td>\n",
              "      <td>31</td>\n",
              "      <td>53</td>\n",
              "      <td>@Applebees @Thesixler Just say game of thrones...</td>\n",
              "      <td>['game', 'throne', 'ehhhhh']</td>\n",
              "      <td>3</td>\n",
              "      <td>en</td>\n",
              "    </tr>\n",
              "    <tr>\n",
              "      <th>510260</th>\n",
              "      <td>sure game throne finale look forward day</td>\n",
              "      <td>Game</td>\n",
              "      <td>1</td>\n",
              "      <td>0</td>\n",
              "      <td>0</td>\n",
              "      <td>94</td>\n",
              "      <td>94</td>\n",
              "      <td>Well that sure was a Game of Thrones finale I'...</td>\n",
              "      <td>['sure', 'game', 'throne', 'finale', 'look', '...</td>\n",
              "      <td>7</td>\n",
              "      <td>en</td>\n",
              "    </tr>\n",
              "    <tr>\n",
              "      <th>672165</th>\n",
              "      <td>look forward week url</td>\n",
              "      <td>Game</td>\n",
              "      <td>1</td>\n",
              "      <td>0</td>\n",
              "      <td>0</td>\n",
              "      <td>43</td>\n",
              "      <td>61</td>\n",
              "      <td>Something to look forward to next week \\nhttps...</td>\n",
              "      <td>['look', 'forward', 'week', 'url']</td>\n",
              "      <td>4</td>\n",
              "      <td>en</td>\n",
              "    </tr>\n",
              "    <tr>\n",
              "      <th>546218</th>\n",
              "      <td>hot pie survive ht url url</td>\n",
              "      <td>Game</td>\n",
              "      <td>1</td>\n",
              "      <td>0</td>\n",
              "      <td>1</td>\n",
              "      <td>28</td>\n",
              "      <td>75</td>\n",
              "      <td>Hot Pie survived Ht @kimrrenfro https//tco/qUp...</td>\n",
              "      <td>['hot', 'pie', 'survive', 'ht', 'url', 'url']</td>\n",
              "      <td>6</td>\n",
              "      <td>en</td>\n",
              "    </tr>\n",
              "    <tr>\n",
              "      <th>629042</th>\n",
              "      <td>amp ruin game throne gameofthrone</td>\n",
              "      <td>Game</td>\n",
              "      <td>1</td>\n",
              "      <td>0</td>\n",
              "      <td>0</td>\n",
              "      <td>45</td>\n",
              "      <td>45</td>\n",
              "      <td>D&amp;amp;D ruined game of thrones #GameofThrones</td>\n",
              "      <td>['amp', 'ruin', 'game', 'throne', 'gameofthrone']</td>\n",
              "      <td>5</td>\n",
              "      <td>en</td>\n",
              "    </tr>\n",
              "  </tbody>\n",
              "</table>\n",
              "</div>"
            ],
            "text/plain": [
              "                                     clean_tweet Topics  Human_generated  \\\n",
              "743335                        game throne ehhhhh   Game                1   \n",
              "510260  sure game throne finale look forward day   Game                1   \n",
              "672165                     look forward week url   Game                1   \n",
              "546218                hot pie survive ht url url   Game                1   \n",
              "629042         amp ruin game throne gameofthrone   Game                1   \n",
              "\n",
              "        count_emoji  count_profile  clean_tweet_Length  Tweet_Length  \\\n",
              "743335            0              2                  31            53   \n",
              "510260            0              0                  94            94   \n",
              "672165            0              0                  43            61   \n",
              "546218            0              1                  28            75   \n",
              "629042            0              0                  45            45   \n",
              "\n",
              "                                                    Tweet  \\\n",
              "743335  @Applebees @Thesixler Just say game of thrones...   \n",
              "510260  Well that sure was a Game of Thrones finale I'...   \n",
              "672165  Something to look forward to next week \\nhttps...   \n",
              "546218  Hot Pie survived Ht @kimrrenfro https//tco/qUp...   \n",
              "629042      D&amp;D ruined game of thrones #GameofThrones   \n",
              "\n",
              "                                     tokenize_clean_tweet  token_length  \\\n",
              "743335                       ['game', 'throne', 'ehhhhh']             3   \n",
              "510260  ['sure', 'game', 'throne', 'finale', 'look', '...             7   \n",
              "672165                 ['look', 'forward', 'week', 'url']             4   \n",
              "546218      ['hot', 'pie', 'survive', 'ht', 'url', 'url']             6   \n",
              "629042  ['amp', 'ruin', 'game', 'throne', 'gameofthrone']             5   \n",
              "\n",
              "       fasttext_language  \n",
              "743335                en  \n",
              "510260                en  \n",
              "672165                en  \n",
              "546218                en  \n",
              "629042                en  "
            ]
          },
          "execution_count": 76,
          "metadata": {},
          "output_type": "execute_result"
        }
      ],
      "source": [
        "game_pd_fastext_10k.head()"
      ]
    },
    {
      "cell_type": "code",
      "execution_count": null,
      "id": "85829318",
      "metadata": {
        "id": "85829318"
      },
      "outputs": [],
      "source": [
        "game_pd_fastext_10k = text_preprocessing(game_pd_fastext_10k)"
      ]
    },
    {
      "cell_type": "code",
      "execution_count": null,
      "id": "40e39d50",
      "metadata": {
        "id": "40e39d50"
      },
      "outputs": [],
      "source": [
        "fifa_pd_fastext_10k = text_preprocessing(fifa_pd_fastext_10k)"
      ]
    },
    {
      "cell_type": "markdown",
      "id": "d97b012c",
      "metadata": {
        "id": "d97b012c"
      },
      "source": [
        "### Check if contain stopwords in clean text"
      ]
    },
    {
      "cell_type": "code",
      "execution_count": null,
      "id": "93540d87",
      "metadata": {
        "id": "93540d87"
      },
      "outputs": [],
      "source": [
        "for i, row in election_pd_fastext_10k.iterrows():\n",
        "    for w in row['tokenize_clean_tweet']:\n",
        "        if w in stop_words or w in ENGLISH_STOP_WORDS or w in gensim_stopwords:\n",
        "            print(row['tokenize_clean_tweet'])"
      ]
    },
    {
      "cell_type": "code",
      "execution_count": null,
      "id": "ff59437e",
      "metadata": {
        "id": "ff59437e"
      },
      "outputs": [],
      "source": [
        "for i, row in game_pd_fastext_10k.iterrows():\n",
        "    for w in row['tokenize_clean_tweet']:\n",
        "        if w in stop_words or w in ENGLISH_STOP_WORDS or w in gensim_stopwords:\n",
        "            print(row['tokenize_clean_tweet'])"
      ]
    },
    {
      "cell_type": "code",
      "execution_count": null,
      "id": "6079eba9",
      "metadata": {
        "id": "6079eba9"
      },
      "outputs": [],
      "source": [
        "for i, row in fifa_pd_fastext_10k.iterrows():\n",
        "    for w in row['tokenize_clean_tweet']:\n",
        "        if w in stop_words or w in ENGLISH_STOP_WORDS or w in gensim_stopwords:\n",
        "            print(row['tokenize_clean_tweet'])"
      ]
    },
    {
      "cell_type": "code",
      "execution_count": null,
      "id": "80ded488",
      "metadata": {
        "id": "80ded488",
        "outputId": "02cba8ff-5653-4923-80d5-f7862d0f49c5"
      },
      "outputs": [
        {
          "data": {
            "text/html": [
              "<div>\n",
              "<style scoped>\n",
              "    .dataframe tbody tr th:only-of-type {\n",
              "        vertical-align: middle;\n",
              "    }\n",
              "\n",
              "    .dataframe tbody tr th {\n",
              "        vertical-align: top;\n",
              "    }\n",
              "\n",
              "    .dataframe thead th {\n",
              "        text-align: right;\n",
              "    }\n",
              "</style>\n",
              "<table border=\"1\" class=\"dataframe\">\n",
              "  <thead>\n",
              "    <tr style=\"text-align: right;\">\n",
              "      <th></th>\n",
              "      <th>Human_generated</th>\n",
              "      <th>count_emoji</th>\n",
              "      <th>count_profile</th>\n",
              "      <th>clean_tweet_Length</th>\n",
              "      <th>Tweet_Length</th>\n",
              "      <th>token_length</th>\n",
              "    </tr>\n",
              "  </thead>\n",
              "  <tbody>\n",
              "    <tr>\n",
              "      <th>count</th>\n",
              "      <td>100.0</td>\n",
              "      <td>100.000000</td>\n",
              "      <td>100.000000</td>\n",
              "      <td>100.000000</td>\n",
              "      <td>100.000000</td>\n",
              "      <td>100.000000</td>\n",
              "    </tr>\n",
              "    <tr>\n",
              "      <th>mean</th>\n",
              "      <td>1.0</td>\n",
              "      <td>0.620000</td>\n",
              "      <td>0.320000</td>\n",
              "      <td>117.100000</td>\n",
              "      <td>130.260000</td>\n",
              "      <td>10.750000</td>\n",
              "    </tr>\n",
              "    <tr>\n",
              "      <th>std</th>\n",
              "      <td>0.0</td>\n",
              "      <td>1.261553</td>\n",
              "      <td>0.897584</td>\n",
              "      <td>60.228605</td>\n",
              "      <td>63.232235</td>\n",
              "      <td>6.059261</td>\n",
              "    </tr>\n",
              "    <tr>\n",
              "      <th>min</th>\n",
              "      <td>1.0</td>\n",
              "      <td>0.000000</td>\n",
              "      <td>0.000000</td>\n",
              "      <td>23.000000</td>\n",
              "      <td>23.000000</td>\n",
              "      <td>2.000000</td>\n",
              "    </tr>\n",
              "    <tr>\n",
              "      <th>25%</th>\n",
              "      <td>1.0</td>\n",
              "      <td>0.000000</td>\n",
              "      <td>0.000000</td>\n",
              "      <td>69.750000</td>\n",
              "      <td>79.750000</td>\n",
              "      <td>6.000000</td>\n",
              "    </tr>\n",
              "    <tr>\n",
              "      <th>50%</th>\n",
              "      <td>1.0</td>\n",
              "      <td>0.000000</td>\n",
              "      <td>0.000000</td>\n",
              "      <td>109.000000</td>\n",
              "      <td>123.500000</td>\n",
              "      <td>9.000000</td>\n",
              "    </tr>\n",
              "    <tr>\n",
              "      <th>75%</th>\n",
              "      <td>1.0</td>\n",
              "      <td>1.000000</td>\n",
              "      <td>0.000000</td>\n",
              "      <td>146.250000</td>\n",
              "      <td>165.500000</td>\n",
              "      <td>14.000000</td>\n",
              "    </tr>\n",
              "    <tr>\n",
              "      <th>max</th>\n",
              "      <td>1.0</td>\n",
              "      <td>7.000000</td>\n",
              "      <td>7.000000</td>\n",
              "      <td>272.000000</td>\n",
              "      <td>273.000000</td>\n",
              "      <td>33.000000</td>\n",
              "    </tr>\n",
              "  </tbody>\n",
              "</table>\n",
              "</div>"
            ],
            "text/plain": [
              "       Human_generated  count_emoji  count_profile  clean_tweet_Length  \\\n",
              "count            100.0   100.000000     100.000000          100.000000   \n",
              "mean               1.0     0.620000       0.320000          117.100000   \n",
              "std                0.0     1.261553       0.897584           60.228605   \n",
              "min                1.0     0.000000       0.000000           23.000000   \n",
              "25%                1.0     0.000000       0.000000           69.750000   \n",
              "50%                1.0     0.000000       0.000000          109.000000   \n",
              "75%                1.0     1.000000       0.000000          146.250000   \n",
              "max                1.0     7.000000       7.000000          272.000000   \n",
              "\n",
              "       Tweet_Length  token_length  \n",
              "count    100.000000    100.000000  \n",
              "mean     130.260000     10.750000  \n",
              "std       63.232235      6.059261  \n",
              "min       23.000000      2.000000  \n",
              "25%       79.750000      6.000000  \n",
              "50%      123.500000      9.000000  \n",
              "75%      165.500000     14.000000  \n",
              "max      273.000000     33.000000  "
            ]
          },
          "execution_count": 160,
          "metadata": {},
          "output_type": "execute_result"
        }
      ],
      "source": [
        "fifa_pd_fastext_10k.describe()"
      ]
    },
    {
      "cell_type": "code",
      "execution_count": null,
      "id": "6b48eb49",
      "metadata": {
        "id": "6b48eb49",
        "outputId": "de4548f2-b4e9-47b4-914c-323efb95db7e"
      },
      "outputs": [
        {
          "data": {
            "text/html": [
              "<div>\n",
              "<style scoped>\n",
              "    .dataframe tbody tr th:only-of-type {\n",
              "        vertical-align: middle;\n",
              "    }\n",
              "\n",
              "    .dataframe tbody tr th {\n",
              "        vertical-align: top;\n",
              "    }\n",
              "\n",
              "    .dataframe thead th {\n",
              "        text-align: right;\n",
              "    }\n",
              "</style>\n",
              "<table border=\"1\" class=\"dataframe\">\n",
              "  <thead>\n",
              "    <tr style=\"text-align: right;\">\n",
              "      <th></th>\n",
              "      <th>Human_generated</th>\n",
              "      <th>count_emoji</th>\n",
              "      <th>count_profile</th>\n",
              "      <th>clean_tweet_Length</th>\n",
              "      <th>Tweet_Length</th>\n",
              "      <th>token_length</th>\n",
              "    </tr>\n",
              "  </thead>\n",
              "  <tbody>\n",
              "    <tr>\n",
              "      <th>count</th>\n",
              "      <td>100.0</td>\n",
              "      <td>100.000000</td>\n",
              "      <td>100.000000</td>\n",
              "      <td>100.000000</td>\n",
              "      <td>100.000000</td>\n",
              "      <td>100.000000</td>\n",
              "    </tr>\n",
              "    <tr>\n",
              "      <th>mean</th>\n",
              "      <td>1.0</td>\n",
              "      <td>0.020000</td>\n",
              "      <td>0.280000</td>\n",
              "      <td>96.520000</td>\n",
              "      <td>107.760000</td>\n",
              "      <td>9.270000</td>\n",
              "    </tr>\n",
              "    <tr>\n",
              "      <th>std</th>\n",
              "      <td>0.0</td>\n",
              "      <td>0.140705</td>\n",
              "      <td>0.604361</td>\n",
              "      <td>57.109938</td>\n",
              "      <td>59.169355</td>\n",
              "      <td>4.737248</td>\n",
              "    </tr>\n",
              "    <tr>\n",
              "      <th>min</th>\n",
              "      <td>1.0</td>\n",
              "      <td>0.000000</td>\n",
              "      <td>0.000000</td>\n",
              "      <td>21.000000</td>\n",
              "      <td>23.000000</td>\n",
              "      <td>3.000000</td>\n",
              "    </tr>\n",
              "    <tr>\n",
              "      <th>25%</th>\n",
              "      <td>1.0</td>\n",
              "      <td>0.000000</td>\n",
              "      <td>0.000000</td>\n",
              "      <td>55.750000</td>\n",
              "      <td>67.000000</td>\n",
              "      <td>6.000000</td>\n",
              "    </tr>\n",
              "    <tr>\n",
              "      <th>50%</th>\n",
              "      <td>1.0</td>\n",
              "      <td>0.000000</td>\n",
              "      <td>0.000000</td>\n",
              "      <td>82.500000</td>\n",
              "      <td>100.000000</td>\n",
              "      <td>8.000000</td>\n",
              "    </tr>\n",
              "    <tr>\n",
              "      <th>75%</th>\n",
              "      <td>1.0</td>\n",
              "      <td>0.000000</td>\n",
              "      <td>0.000000</td>\n",
              "      <td>122.250000</td>\n",
              "      <td>133.250000</td>\n",
              "      <td>11.250000</td>\n",
              "    </tr>\n",
              "    <tr>\n",
              "      <th>max</th>\n",
              "      <td>1.0</td>\n",
              "      <td>1.000000</td>\n",
              "      <td>3.000000</td>\n",
              "      <td>254.000000</td>\n",
              "      <td>277.000000</td>\n",
              "      <td>24.000000</td>\n",
              "    </tr>\n",
              "  </tbody>\n",
              "</table>\n",
              "</div>"
            ],
            "text/plain": [
              "       Human_generated  count_emoji  count_profile  clean_tweet_Length  \\\n",
              "count            100.0   100.000000     100.000000          100.000000   \n",
              "mean               1.0     0.020000       0.280000           96.520000   \n",
              "std                0.0     0.140705       0.604361           57.109938   \n",
              "min                1.0     0.000000       0.000000           21.000000   \n",
              "25%                1.0     0.000000       0.000000           55.750000   \n",
              "50%                1.0     0.000000       0.000000           82.500000   \n",
              "75%                1.0     0.000000       0.000000          122.250000   \n",
              "max                1.0     1.000000       3.000000          254.000000   \n",
              "\n",
              "       Tweet_Length  token_length  \n",
              "count    100.000000    100.000000  \n",
              "mean     107.760000      9.270000  \n",
              "std       59.169355      4.737248  \n",
              "min       23.000000      3.000000  \n",
              "25%       67.000000      6.000000  \n",
              "50%      100.000000      8.000000  \n",
              "75%      133.250000     11.250000  \n",
              "max      277.000000     24.000000  "
            ]
          },
          "execution_count": 165,
          "metadata": {},
          "output_type": "execute_result"
        }
      ],
      "source": [
        "game_pd_fastext_10k.describe()"
      ]
    },
    {
      "cell_type": "code",
      "execution_count": null,
      "id": "223ba612",
      "metadata": {
        "id": "223ba612",
        "outputId": "38287997-aac3-453f-d32d-cd3ab841556d"
      },
      "outputs": [
        {
          "data": {
            "text/html": [
              "<div>\n",
              "<style scoped>\n",
              "    .dataframe tbody tr th:only-of-type {\n",
              "        vertical-align: middle;\n",
              "    }\n",
              "\n",
              "    .dataframe tbody tr th {\n",
              "        vertical-align: top;\n",
              "    }\n",
              "\n",
              "    .dataframe thead th {\n",
              "        text-align: right;\n",
              "    }\n",
              "</style>\n",
              "<table border=\"1\" class=\"dataframe\">\n",
              "  <thead>\n",
              "    <tr style=\"text-align: right;\">\n",
              "      <th></th>\n",
              "      <th>Human_generated</th>\n",
              "      <th>count_emoji</th>\n",
              "      <th>count_profile</th>\n",
              "      <th>clean_tweet_Length</th>\n",
              "      <th>Tweet_Length</th>\n",
              "      <th>token_length</th>\n",
              "    </tr>\n",
              "  </thead>\n",
              "  <tbody>\n",
              "    <tr>\n",
              "      <th>count</th>\n",
              "      <td>100.0</td>\n",
              "      <td>100.000000</td>\n",
              "      <td>100.000000</td>\n",
              "      <td>100.000000</td>\n",
              "      <td>100.000000</td>\n",
              "      <td>100.000000</td>\n",
              "    </tr>\n",
              "    <tr>\n",
              "      <th>mean</th>\n",
              "      <td>1.0</td>\n",
              "      <td>0.880000</td>\n",
              "      <td>0.600000</td>\n",
              "      <td>180.530000</td>\n",
              "      <td>200.970000</td>\n",
              "      <td>16.080000</td>\n",
              "    </tr>\n",
              "    <tr>\n",
              "      <th>std</th>\n",
              "      <td>0.0</td>\n",
              "      <td>2.800721</td>\n",
              "      <td>1.015038</td>\n",
              "      <td>68.928224</td>\n",
              "      <td>71.765254</td>\n",
              "      <td>6.398674</td>\n",
              "    </tr>\n",
              "    <tr>\n",
              "      <th>min</th>\n",
              "      <td>1.0</td>\n",
              "      <td>0.000000</td>\n",
              "      <td>0.000000</td>\n",
              "      <td>18.000000</td>\n",
              "      <td>36.000000</td>\n",
              "      <td>4.000000</td>\n",
              "    </tr>\n",
              "    <tr>\n",
              "      <th>25%</th>\n",
              "      <td>1.0</td>\n",
              "      <td>0.000000</td>\n",
              "      <td>0.000000</td>\n",
              "      <td>119.750000</td>\n",
              "      <td>145.500000</td>\n",
              "      <td>11.000000</td>\n",
              "    </tr>\n",
              "    <tr>\n",
              "      <th>50%</th>\n",
              "      <td>1.0</td>\n",
              "      <td>0.000000</td>\n",
              "      <td>0.000000</td>\n",
              "      <td>189.500000</td>\n",
              "      <td>204.500000</td>\n",
              "      <td>16.500000</td>\n",
              "    </tr>\n",
              "    <tr>\n",
              "      <th>75%</th>\n",
              "      <td>1.0</td>\n",
              "      <td>0.000000</td>\n",
              "      <td>1.000000</td>\n",
              "      <td>243.250000</td>\n",
              "      <td>269.250000</td>\n",
              "      <td>20.000000</td>\n",
              "    </tr>\n",
              "    <tr>\n",
              "      <th>max</th>\n",
              "      <td>1.0</td>\n",
              "      <td>22.000000</td>\n",
              "      <td>5.000000</td>\n",
              "      <td>284.000000</td>\n",
              "      <td>329.000000</td>\n",
              "      <td>32.000000</td>\n",
              "    </tr>\n",
              "  </tbody>\n",
              "</table>\n",
              "</div>"
            ],
            "text/plain": [
              "       Human_generated  count_emoji  count_profile  clean_tweet_Length  \\\n",
              "count            100.0   100.000000     100.000000          100.000000   \n",
              "mean               1.0     0.880000       0.600000          180.530000   \n",
              "std                0.0     2.800721       1.015038           68.928224   \n",
              "min                1.0     0.000000       0.000000           18.000000   \n",
              "25%                1.0     0.000000       0.000000          119.750000   \n",
              "50%                1.0     0.000000       0.000000          189.500000   \n",
              "75%                1.0     0.000000       1.000000          243.250000   \n",
              "max                1.0    22.000000       5.000000          284.000000   \n",
              "\n",
              "       Tweet_Length  token_length  \n",
              "count    100.000000    100.000000  \n",
              "mean     200.970000     16.080000  \n",
              "std       71.765254      6.398674  \n",
              "min       36.000000      4.000000  \n",
              "25%      145.500000     11.000000  \n",
              "50%      204.500000     16.500000  \n",
              "75%      269.250000     20.000000  \n",
              "max      329.000000     32.000000  "
            ]
          },
          "execution_count": 166,
          "metadata": {},
          "output_type": "execute_result"
        }
      ],
      "source": [
        "election_pd_fastext_10k.describe()"
      ]
    },
    {
      "cell_type": "code",
      "execution_count": null,
      "id": "36829ad3",
      "metadata": {
        "id": "36829ad3",
        "outputId": "b39858e6-c352-4177-d11a-f43dd1dc54fd"
      },
      "outputs": [
        {
          "data": {
            "text/plain": [
              "clean_tweet             0\n",
              "Topics                  0\n",
              "Human_generated         0\n",
              "count_emoji             0\n",
              "count_profile           0\n",
              "clean_tweet_Length      0\n",
              "Tweet_Length            0\n",
              "Tweet                   0\n",
              "tokenize_clean_tweet    0\n",
              "token_length            0\n",
              "language                0\n",
              "fasttext_language       0\n",
              "dtype: int64"
            ]
          },
          "execution_count": 163,
          "metadata": {},
          "output_type": "execute_result"
        }
      ],
      "source": [
        "game_pd_fastext_10k.isna().sum()"
      ]
    },
    {
      "cell_type": "code",
      "execution_count": null,
      "id": "9bea29fb",
      "metadata": {
        "id": "9bea29fb"
      },
      "outputs": [],
      "source": [
        "game_pd_fastext_10k.to_csv('game_df_fasttext_en_10k.csv', index=False)"
      ]
    },
    {
      "cell_type": "code",
      "execution_count": null,
      "id": "c7afbded",
      "metadata": {
        "id": "c7afbded"
      },
      "outputs": [],
      "source": [
        "fifa_pd_fastext_10k.to_csv('fifa_df_fasttext_en_10k.csv', index=False)"
      ]
    },
    {
      "cell_type": "code",
      "execution_count": null,
      "id": "6decc768",
      "metadata": {
        "id": "6decc768"
      },
      "outputs": [],
      "source": [
        "election_pd_fastext_10k.to_csv('election_df_fasttext_en_10k.csv', index=False)"
      ]
    },
    {
      "cell_type": "code",
      "execution_count": null,
      "id": "88974ff1",
      "metadata": {
        "id": "88974ff1"
      },
      "outputs": [],
      "source": [
        "game_pd_fasttext_10k_test = pd.read_csv('game_df_fasttext_en_10k.csv')"
      ]
    },
    {
      "cell_type": "code",
      "execution_count": null,
      "id": "4648a33c",
      "metadata": {
        "id": "4648a33c",
        "outputId": "d7ba0708-9585-4bc8-f687-281577630311"
      },
      "outputs": [
        {
          "data": {
            "text/html": [
              "<div>\n",
              "<style scoped>\n",
              "    .dataframe tbody tr th:only-of-type {\n",
              "        vertical-align: middle;\n",
              "    }\n",
              "\n",
              "    .dataframe tbody tr th {\n",
              "        vertical-align: top;\n",
              "    }\n",
              "\n",
              "    .dataframe thead th {\n",
              "        text-align: right;\n",
              "    }\n",
              "</style>\n",
              "<table border=\"1\" class=\"dataframe\">\n",
              "  <thead>\n",
              "    <tr style=\"text-align: right;\">\n",
              "      <th></th>\n",
              "      <th>clean_tweet</th>\n",
              "      <th>Topics</th>\n",
              "      <th>Human_generated</th>\n",
              "      <th>count_emoji</th>\n",
              "      <th>count_profile</th>\n",
              "      <th>clean_tweet_Length</th>\n",
              "      <th>Tweet_Length</th>\n",
              "      <th>Tweet</th>\n",
              "      <th>tokenize_clean_tweet</th>\n",
              "      <th>token_length</th>\n",
              "    </tr>\n",
              "  </thead>\n",
              "  <tbody>\n",
              "    <tr>\n",
              "      <th>0</th>\n",
              "      <td>sword umbrella fun treasure fan handle carve l...</td>\n",
              "      <td>Game</td>\n",
              "      <td>1</td>\n",
              "      <td>0</td>\n",
              "      <td>0</td>\n",
              "      <td>220</td>\n",
              "      <td>238</td>\n",
              "      <td>The Sword Umbrella is a fun treasure for any G...</td>\n",
              "      <td>['sword', 'umbrella', 'fun', 'treasure', 'fan'...</td>\n",
              "      <td>24</td>\n",
              "    </tr>\n",
              "    <tr>\n",
              "      <th>1</th>\n",
              "      <td>want thank 8 season perfect score game throne ...</td>\n",
              "      <td>Game</td>\n",
              "      <td>1</td>\n",
              "      <td>0</td>\n",
              "      <td>1</td>\n",
              "      <td>254</td>\n",
              "      <td>269</td>\n",
              "      <td>@Djawadi_Ramin I just want to say thank you fo...</td>\n",
              "      <td>['want', 'thank', '8', 'season', 'perfect', 's...</td>\n",
              "      <td>23</td>\n",
              "    </tr>\n",
              "    <tr>\n",
              "      <th>2</th>\n",
              "      <td>arya want equine therapy week game throne emot...</td>\n",
              "      <td>Game</td>\n",
              "      <td>1</td>\n",
              "      <td>0</td>\n",
              "      <td>0</td>\n",
              "      <td>203</td>\n",
              "      <td>221</td>\n",
              "      <td>Arya made me want some equine therapy after la...</td>\n",
              "      <td>['arya', 'want', 'equine', 'therapy', 'week', ...</td>\n",
              "      <td>21</td>\n",
              "    </tr>\n",
              "    <tr>\n",
              "      <th>3</th>\n",
              "      <td>new video post geekandsundry twitch spoiler ki...</td>\n",
              "      <td>Game</td>\n",
              "      <td>1</td>\n",
              "      <td>0</td>\n",
              "      <td>0</td>\n",
              "      <td>165</td>\n",
              "      <td>201</td>\n",
              "      <td>New video posted by GeekandSundry on Twitch SP...</td>\n",
              "      <td>['new', 'video', 'post', 'geekandsundry', 'twi...</td>\n",
              "      <td>20</td>\n",
              "    </tr>\n",
              "    <tr>\n",
              "      <th>4</th>\n",
              "      <td>do not watch game throne becase watch literall...</td>\n",
              "      <td>Game</td>\n",
              "      <td>1</td>\n",
              "      <td>0</td>\n",
              "      <td>2</td>\n",
              "      <td>250</td>\n",
              "      <td>277</td>\n",
              "      <td>@DemonicCasts @nytimesarts I didnt watch Game ...</td>\n",
              "      <td>['do not', 'watch', 'game', 'throne', 'becase'...</td>\n",
              "      <td>20</td>\n",
              "    </tr>\n",
              "  </tbody>\n",
              "</table>\n",
              "</div>"
            ],
            "text/plain": [
              "                                         clean_tweet Topics  Human_generated  \\\n",
              "0  sword umbrella fun treasure fan handle carve l...   Game                1   \n",
              "1  want thank 8 season perfect score game throne ...   Game                1   \n",
              "2  arya want equine therapy week game throne emot...   Game                1   \n",
              "3  new video post geekandsundry twitch spoiler ki...   Game                1   \n",
              "4  do not watch game throne becase watch literall...   Game                1   \n",
              "\n",
              "   count_emoji  count_profile  clean_tweet_Length  Tweet_Length  \\\n",
              "0            0              0                 220           238   \n",
              "1            0              1                 254           269   \n",
              "2            0              0                 203           221   \n",
              "3            0              0                 165           201   \n",
              "4            0              2                 250           277   \n",
              "\n",
              "                                               Tweet  \\\n",
              "0  The Sword Umbrella is a fun treasure for any G...   \n",
              "1  @Djawadi_Ramin I just want to say thank you fo...   \n",
              "2  Arya made me want some equine therapy after la...   \n",
              "3  New video posted by GeekandSundry on Twitch SP...   \n",
              "4  @DemonicCasts @nytimesarts I didnt watch Game ...   \n",
              "\n",
              "                                tokenize_clean_tweet  token_length  \n",
              "0  ['sword', 'umbrella', 'fun', 'treasure', 'fan'...            24  \n",
              "1  ['want', 'thank', '8', 'season', 'perfect', 's...            23  \n",
              "2  ['arya', 'want', 'equine', 'therapy', 'week', ...            21  \n",
              "3  ['new', 'video', 'post', 'geekandsundry', 'twi...            20  \n",
              "4  ['do not', 'watch', 'game', 'throne', 'becase'...            20  "
            ]
          },
          "execution_count": 373,
          "metadata": {},
          "output_type": "execute_result"
        }
      ],
      "source": [
        "game_pd_fasttext_10k_test.head()"
      ]
    },
    {
      "cell_type": "code",
      "execution_count": null,
      "id": "d81408b9",
      "metadata": {
        "id": "d81408b9"
      },
      "outputs": [],
      "source": [
        "# double check for stopword"
      ]
    },
    {
      "cell_type": "code",
      "execution_count": null,
      "id": "9f5ba6dd",
      "metadata": {
        "id": "9f5ba6dd"
      },
      "outputs": [],
      "source": [
        "election_user_fasttext_df = pd.read_csv(\"election_df_fasttext_en_10k.csv\")\n",
        "fifa_user_fasttext_df = pd.read_csv(\"fifa_df_fasttext_en_10k.csv\")\n",
        "game_user_fasttext_df = pd.read_csv(\"game_df_fasttext_en_10k.csv\")"
      ]
    },
    {
      "cell_type": "code",
      "execution_count": null,
      "id": "6f4f5894",
      "metadata": {
        "id": "6f4f5894",
        "outputId": "7651d66d-3925-4d10-f39f-13706353ac58"
      },
      "outputs": [
        {
          "name": "stdout",
          "output_type": "stream",
          "text": [
            "election_pd_fastext_10k ['trump', 'url', 'biden', 'joebiden', 'vote', 'election2020', 'donaldtrump', 'win', 'president', 'election', 'bidenharris2020', 'amp', 'elections2020', 'america', 'trump2020', 'like', 'joe', 'people', 'electionday', 'usa', 'maga', 'know', 'think', 'good', 'time', 'biden2020', 'state', 'uselection2020', 'lose', '2020', 'kamalaharris', 'want', 'need', 'covid19', 'year', 'right', 'covid', 'uselection', 'lie', 'day', 'donald', 'let', '2020election', 'democrats', 'electionnight', 'come', 'usaelections2020', 'count', 'bidenharris', 'look']\n"
          ]
        }
      ],
      "source": [
        "tfidf_lst_e = run_tf_idf('election_pd_fastext_10k', election_user_fasttext_df)"
      ]
    },
    {
      "cell_type": "code",
      "execution_count": null,
      "id": "56784199",
      "metadata": {
        "id": "56784199",
        "outputId": "e4b4679d-6e19-442b-8a8b-7b5cdd332bca"
      },
      "outputs": [
        {
          "name": "stdout",
          "output_type": "stream",
          "text": [
            "fifa_pd_fastext_10k ['worldcup2022', 'url', 'qatar', 'world', 'cup', 'worldcup', 'fifaworldcup', 'ecuador', 'qatar2022', 'offside', 'qatarworldcup2022', 'open', 'goal', 'fifa', 'game', '2022', 'start', 'football', 'let', 'ceremony', 'win', 'watch', 'team', 'var', 'today', 'good', 'match', 'time', 'worldcupqatar2022', 'fifaworldcup2022', 'begin', 'live', 'like', 'qatecu', 'host', 'england', 'minute', 'day', 'play', 'jungkook', 'corruption', 'look', 'player', 'right', 'kick', 'score', 'fan', 'come', 'tournament', 'amp']\n"
          ]
        }
      ],
      "source": [
        "tfidf_lst_f = run_tf_idf('fifa_pd_fastext_10k', fifa_user_fasttext_df)"
      ]
    },
    {
      "cell_type": "code",
      "execution_count": null,
      "id": "73a8059d",
      "metadata": {
        "id": "73a8059d",
        "outputId": "c6b09e20-86f2-4b0c-91f6-bffb65337379"
      },
      "outputs": [
        {
          "name": "stdout",
          "output_type": "stream",
          "text": [
            "game_pd_fastext_10k ['game', 'throne', 'url', 'watch', 'episode', 'season', 'like', 'end', 'gameofthrone', 'good', 'tonight', 'time', 'people', 'think', 'start', 'night', 'know', 'day', 'finale', 'fan', 'hbo', 'week', 'spoiler', 'come', 'final', 'tweet', 'new', 'talk', 'want', 'feel', 'character', 'need', 'love', 'wait', 'fuck', 'sunday', 'series', 'thing', 'twitter', 'bad', 'win', 'amp', 'shit', 'lol', 'die', 'today', 'tv', 'way', 'look', 'catch']\n"
          ]
        }
      ],
      "source": [
        "tfidf_lst_g = run_tf_idf('game_pd_fastext_10k', game_user_fasttext_df)"
      ]
    },
    {
      "cell_type": "markdown",
      "id": "1beec583",
      "metadata": {
        "id": "1beec583"
      },
      "source": [
        "## remove URL, count URL, keeps stopwords"
      ]
    },
    {
      "cell_type": "code",
      "execution_count": null,
      "id": "9002507c",
      "metadata": {
        "id": "9002507c"
      },
      "outputs": [],
      "source": [
        "def remove_emojis(text):\n",
        "    emoji_pattern = re.compile(\"[\"\n",
        "                               u\"\\U0001F600-\\U0001F64F\"  # emoticons\n",
        "                               u\"\\U0001F300-\\U0001F5FF\"  # symbols & pictographs\n",
        "                               u\"\\U0001F680-\\U0001F6FF\"  # transport & map symbols\n",
        "                               u\"\\U0001F1E0-\\U0001F1FF\"  # flags (iOS)\n",
        "                               u\"\\U00002500-\\U00002BEF\"  # chinese char\n",
        "                               u\"\\U00002702-\\U000027B0\"\n",
        "                               u\"\\U00002702-\\U000027B0\"\n",
        "                               u\"\\U000024C2-\\U0001F251\"\n",
        "                               u\"\\U0001f926-\\U0001f937\"\n",
        "                               u\"\\U00010000-\\U0010ffff\"\n",
        "                               u\"\\u2640-\\u2642\"\n",
        "                               u\"\\u2600-\\u2B55\"\n",
        "                               u\"\\u200d\"\n",
        "                               u\"\\u23cf\"\n",
        "                               u\"\\u23e9\"\n",
        "                               u\"\\u231a\"\n",
        "                               u\"\\ufe0f\"  # dingbats\n",
        "                               u\"\\u3030\"\n",
        "                               \"]+\", flags=re.UNICODE)\n",
        "    return emoji_pattern.sub(' ', text)\n",
        "\n",
        "# Test\n",
        "# text_with_emojis = \"Hello 😊, how are you? 🌟\"\n",
        "# text_without_emojis = remove_emojis(text_with_emojis)\n",
        "# print(text_without_emojis)  # Output: Hello , how are you?"
      ]
    },
    {
      "cell_type": "code",
      "execution_count": null,
      "id": "b9209bbb",
      "metadata": {
        "id": "b9209bbb"
      },
      "outputs": [],
      "source": [
        "# make a text preprocessing function\n",
        "\n",
        "def text_preprocessing_part3(df):\n",
        "    \"\"\"\n",
        "    return None. Modify in place.\n",
        "    \"\"\"\n",
        "    # =======Removeing=======\n",
        "\n",
        "    df['Tweet'] = df['Tweet'].apply(lambda x: re.sub('(<.*?>)', '', x))\n",
        "\n",
        "    # remove punctuation\n",
        "    df['Tweet'] = df['Tweet'].apply(lambda x: re.sub('[,\\.!?:()\"]', '', x))\n",
        "\n",
        "    # remove larger than\n",
        "    df['Tweet'] = df['Tweet'].str.replace(r'&[gl]t;', '', regex=True)\n",
        "\n",
        "    # counting @\n",
        "    df['count_profile'] = df['Tweet'].apply(lambda x: len(re.findall(r'@\\w+', x)))\n",
        "\n",
        "    # Counting emoji\n",
        "    df['count_emoji'] = df['Tweet'].apply(lambda x: emoji.emoji_count(x))\n",
        "\n",
        "    # clean tweet removing @ and emoji\n",
        "    df['clean_tweet'] = df['Tweet'].apply(lambda x: re.sub(r'@\\w+', '', remove_emojis(x)))\n",
        "\n",
        "    # remove whitespace\n",
        "    df['clean_tweet'] = df['clean_tweet'].apply(lambda x: x.strip())\n",
        "\n",
        "    # temp clean_tweet\n",
        "    # Define a regular expression to match URLs\n",
        "    url_pattern = r'https\\S+'\n",
        "    df['clean_tweet'] = df['clean_tweet'].apply(lambda x: re.sub(url_pattern, 'URL', x))\n",
        "\n",
        "    # =======================count url ===================================================\n",
        "    # Count occurrences of \"URL\" in each row of the 'text_column'\n",
        "    url_counts = df['clean_tweet'].str.count(r'\\bURL\\b')\n",
        "\n",
        "    # Add the counts as a new column in the DataFrame\n",
        "    df['count_url'] = url_counts\n",
        "\n",
        "    # delete word URL from text\n",
        "    # Function to remove URLs from a text\n",
        "    def remove_urls(text):\n",
        "        return re.sub(r'\\bURL\\b', '', text)\n",
        "\n",
        "    # Remove URLs from 'text_column'\n",
        "    df['clean_tweet'] = df['clean_tweet'].apply(remove_urls)\n",
        "\n",
        "    # =======================count url ===================================================\n",
        "\n",
        "    # only charac\n",
        "#     df['clean_tweet'] = df['clean_tweet'].apply(lambda x: re.sub('[^a-zA-Z\"]', ' ', x))\n",
        "    df['clean_tweet'] = df['clean_tweet'].apply(lambda x: re.sub('[^a-zA-Z0-9\"]', ' ', x))\n",
        "\n",
        "    # convert to lower\n",
        "    df['clean_tweet'] = df['clean_tweet'].apply(lambda x: x.lower())\n",
        "\n",
        "\n",
        "    # =======count length=======\n",
        "    df['Tweet_Length'] = df['Tweet'].apply(len)\n",
        "    df['clean_tweet_Length'] = df['clean_tweet'].apply(len)\n",
        "\n",
        "    # =======Reorder columns=======\n",
        "    # Specify the new order of columns\n",
        "    new_order = ['clean_tweet', 'Topics', 'Human_generated', 'count_url', 'count_emoji', 'count_profile', 'clean_tweet_Length', 'Tweet_Length', 'Tweet']\n",
        "\n",
        "    # Change the order of columns and\n",
        "    df = df.reindex(columns=new_order)\n",
        "\n",
        "    # reset index and return a new copy of dataframe\n",
        "    df = df.reset_index().iloc[:, 1:].copy()\n",
        "\n",
        "    # =======Sort and reIndex=======\n",
        "    ### not doing sort here, because we should sort by count of words. # REMEMBER to deal with https\n",
        "    # sort by len(clean_tweet)\n",
        "    # df.sort_values(by='clean_tweet', key=lambda x: x.str.len(), ascending=False, inplace=True)\n",
        "\n",
        "    return df"
      ]
    },
    {
      "cell_type": "code",
      "execution_count": null,
      "id": "9fc7ece8",
      "metadata": {
        "id": "9fc7ece8"
      },
      "outputs": [],
      "source": [
        "def text_preprocessing_part4(df):\n",
        "#     # Define a function to map POS tags from Treebank to WordNet\n",
        "#     def get_wordnet_pos(treebank_tag):\n",
        "#         if treebank_tag.startswith('J'):\n",
        "#             return wordnet.ADJ\n",
        "#         elif treebank_tag.startswith('V'):\n",
        "#             return wordnet.VERB\n",
        "#         elif treebank_tag.startswith('N'):\n",
        "#             return wordnet.NOUN\n",
        "#         elif treebank_tag.startswith('R'):\n",
        "#             return wordnet.ADV\n",
        "#         else:\n",
        "#             return wordnet.NOUN  # default to noun if POS tag not found\n",
        "\n",
        "#     def lemmatize_word(word):\n",
        "#         pos_tag = nltk.pos_tag([word])[0][1]  # Get POS tag of the word\n",
        "#         pos = get_wordnet_pos(pos_tag)  # Map POS tag to WordNet POS\n",
        "#         return lemmatizer.lemmatize(word, pos=pos)  # Lemmatize the word\n",
        "    # =========not use above===can't catch: catch, saw... =====================================================================================\n",
        "\n",
        "    # Load the English language model\n",
        "    nlp = spacy.load(\"en_core_web_sm\")\n",
        "\n",
        "    # Define a function to lemmatize a text\n",
        "    def lemmatize_text(text):\n",
        "        doc = nlp(text)\n",
        "        lemmatized_text = \" \".join([token.lemma_ for token in doc])\n",
        "        return lemmatized_text\n",
        "\n",
        "    # =======Preprocessing start========================================================================================\n",
        "    # tokenize\n",
        "    df['tokenize_clean_tweet'] = df['clean_tweet'].apply(lambda x: text_to_word_sequence(x))\n",
        "\n",
        "    # remove stop words\n",
        "#     df['tokenize_clean_tweet'] = df['tokenize_clean_tweet'].apply(lambda x: [w for w in x\n",
        "#                                                                              if w not in stop_words and\n",
        "#                                                                              not w in ENGLISH_STOP_WORDS and\n",
        "#                                                                              not w in gensim_stopwords])\n",
        "    print(\"lemmatize_text here\")\n",
        "    # lemmatizer: to its original form\n",
        "    df['tokenize_clean_tweet'] = df['tokenize_clean_tweet'].apply(lambda x: [lemmatize_text(token) for token in x])\n",
        "\n",
        "    # newly add: because \"gonna\" -> \"go to\"\n",
        "    df['tokenize_clean_tweet'] = df['tokenize_clean_tweet'].apply(lambda x: [word for w in x for word in text_to_word_sequence(w)])\n",
        "\n",
        "    # ========================Keep stopwords====================================================\n",
        "    # remove stop words\n",
        "#     df['tokenize_clean_tweet'] = df['tokenize_clean_tweet'].apply(lambda x: [w for w in x\n",
        "#                                                                              if w not in stop_words and\n",
        "#                                                                              w not in ENGLISH_STOP_WORDS and\n",
        "#                                                                              w not in gensim_stopwords])\n",
        "    # ========================Keep stopwords====================================================\n",
        "\n",
        "    # transfer back to string clean_tweet\n",
        "    df['clean_tweet'] = df['tokenize_clean_tweet'].apply(lambda x: \" \".join(x))\n",
        "\n",
        "    # sort by token_length\n",
        "    df['token_length'] = df['tokenize_clean_tweet'].apply(len)\n",
        "\n",
        "    df.sort_values(by='token_length', ascending=False, inplace=True)\n",
        "\n"
      ]
    },
    {
      "cell_type": "code",
      "execution_count": null,
      "id": "e8306c1b",
      "metadata": {
        "id": "e8306c1b"
      },
      "outputs": [],
      "source": [
        "def text_preprocessing_del_url_keep_stpW(ori_df):\n",
        "    df = text_preprocessing_part3(ori_df)\n",
        "    text_preprocessing_part4(df)\n",
        "    return df"
      ]
    },
    {
      "cell_type": "code",
      "execution_count": null,
      "id": "0a2db247",
      "metadata": {
        "id": "0a2db247"
      },
      "outputs": [],
      "source": [
        "# read\n",
        "game_df = pd.read_csv('game_df_fasttext_en_10k.csv')\n",
        "fifa_df = pd.read_csv('fifa_df_fasttext_en_10k.csv')\n",
        "election_df = pd.read_csv('election_df_fasttext_en_10k.csv')"
      ]
    },
    {
      "cell_type": "code",
      "execution_count": null,
      "id": "92463fa3",
      "metadata": {
        "id": "92463fa3"
      },
      "outputs": [],
      "source": [
        "game_df_machine = pd.read_csv('game_df_machine.csv')\n",
        "fifa_df_machine = pd.read_csv('fifa_df_machine.csv')\n",
        "election_df_machine = pd.read_csv('election_df_machine.csv')"
      ]
    },
    {
      "cell_type": "code",
      "execution_count": null,
      "id": "65fe5688",
      "metadata": {
        "id": "65fe5688"
      },
      "outputs": [],
      "source": [
        "mental_health_df_machine = pd.read_csv('mental_health_df_machine.csv')\n",
        "airline_df_machine = pd.read_csv('airline_df_machine.csv')"
      ]
    },
    {
      "cell_type": "code",
      "execution_count": null,
      "id": "abe5c07c",
      "metadata": {
        "id": "abe5c07c"
      },
      "outputs": [],
      "source": [
        "mental_health_df = pd.read_csv('mental_health_df.csv')\n",
        "airline_df = pd.read_csv('airline_df.csv')"
      ]
    },
    {
      "cell_type": "code",
      "execution_count": null,
      "id": "bcf724e0",
      "metadata": {
        "id": "bcf724e0"
      },
      "outputs": [],
      "source": [
        "fifa_df = text_preprocessing_del_url_keep_stpW(fifa_df)"
      ]
    },
    {
      "cell_type": "code",
      "execution_count": null,
      "id": "1de92345",
      "metadata": {
        "id": "1de92345"
      },
      "outputs": [],
      "source": [
        "fifa_df.to_csv('fifa_df_en_10k_del_url_w_stpw.csv', index=False, encoding='utf-8')"
      ]
    },
    {
      "cell_type": "code",
      "execution_count": null,
      "id": "8308bd40",
      "metadata": {
        "id": "8308bd40",
        "outputId": "9931dc16-975b-4c34-aca6-2314f1c803f7"
      },
      "outputs": [
        {
          "data": {
            "text/html": [
              "<div>\n",
              "<style scoped>\n",
              "    .dataframe tbody tr th:only-of-type {\n",
              "        vertical-align: middle;\n",
              "    }\n",
              "\n",
              "    .dataframe tbody tr th {\n",
              "        vertical-align: top;\n",
              "    }\n",
              "\n",
              "    .dataframe thead th {\n",
              "        text-align: right;\n",
              "    }\n",
              "</style>\n",
              "<table border=\"1\" class=\"dataframe\">\n",
              "  <thead>\n",
              "    <tr style=\"text-align: right;\">\n",
              "      <th></th>\n",
              "      <th>clean_tweet</th>\n",
              "      <th>Topics</th>\n",
              "      <th>Human_generated</th>\n",
              "      <th>count_url</th>\n",
              "      <th>count_emoji</th>\n",
              "      <th>count_profile</th>\n",
              "      <th>clean_tweet_Length</th>\n",
              "      <th>Tweet_Length</th>\n",
              "      <th>Tweet</th>\n",
              "      <th>tokenize_clean_tweet</th>\n",
              "      <th>token_length</th>\n",
              "    </tr>\n",
              "  </thead>\n",
              "  <tbody>\n",
              "    <tr>\n",
              "      <th>0</th>\n",
              "      <td>worldcup2022 gw1 prediction qat 1 2 ecu sen 0 ...</td>\n",
              "      <td>Fifa</td>\n",
              "      <td>1</td>\n",
              "      <td>0</td>\n",
              "      <td>0</td>\n",
              "      <td>0</td>\n",
              "      <td>279</td>\n",
              "      <td>279</td>\n",
              "      <td>#WorldCup2022 GW1 Predictions\\n \\n#Qat 1-2 #Ec...</td>\n",
              "      <td>['worldcup2022', 'gw1', 'prediction', 'qat', '...</td>\n",
              "      <td>67</td>\n",
              "    </tr>\n",
              "    <tr>\n",
              "      <th>1</th>\n",
              "      <td>this world cup be corrupt even more now so it ...</td>\n",
              "      <td>Fifa</td>\n",
              "      <td>1</td>\n",
              "      <td>1</td>\n",
              "      <td>0</td>\n",
              "      <td>0</td>\n",
              "      <td>279</td>\n",
              "      <td>300</td>\n",
              "      <td>This World Cup is corrupt even more now so it’...</td>\n",
              "      <td>['this', 'world', 'cup', 'be', 'corrupt', 'eve...</td>\n",
              "      <td>57</td>\n",
              "    </tr>\n",
              "    <tr>\n",
              "      <th>2</th>\n",
              "      <td>hypocrisy it be sad that all this talk here in...</td>\n",
              "      <td>Fifa</td>\n",
              "      <td>1</td>\n",
              "      <td>0</td>\n",
              "      <td>0</td>\n",
              "      <td>0</td>\n",
              "      <td>271</td>\n",
              "      <td>271</td>\n",
              "      <td>Hypocrisy it is sad that all this talk here in...</td>\n",
              "      <td>['hypocrisy', 'it', 'be', 'sad', 'that', 'all'...</td>\n",
              "      <td>57</td>\n",
              "    </tr>\n",
              "    <tr>\n",
              "      <th>3</th>\n",
              "      <td>it only come every 4 year so even though there...</td>\n",
              "      <td>Fifa</td>\n",
              "      <td>1</td>\n",
              "      <td>0</td>\n",
              "      <td>1</td>\n",
              "      <td>0</td>\n",
              "      <td>273</td>\n",
              "      <td>279</td>\n",
              "      <td>It only comes every 4 years so even though the...</td>\n",
              "      <td>['it', 'only', 'come', 'every', '4', 'year', '...</td>\n",
              "      <td>57</td>\n",
              "    </tr>\n",
              "    <tr>\n",
              "      <th>4</th>\n",
              "      <td>the part about not sell alcohol at worldcup202...</td>\n",
              "      <td>Fifa</td>\n",
              "      <td>1</td>\n",
              "      <td>0</td>\n",
              "      <td>0</td>\n",
              "      <td>0</td>\n",
              "      <td>268</td>\n",
              "      <td>268</td>\n",
              "      <td>The part about not selling alcohol at #WorldCu...</td>\n",
              "      <td>['the', 'part', 'about', 'not', 'sell', 'alcoh...</td>\n",
              "      <td>56</td>\n",
              "    </tr>\n",
              "  </tbody>\n",
              "</table>\n",
              "</div>"
            ],
            "text/plain": [
              "                                         clean_tweet Topics  Human_generated  \\\n",
              "0  worldcup2022 gw1 prediction qat 1 2 ecu sen 0 ...   Fifa                1   \n",
              "1  this world cup be corrupt even more now so it ...   Fifa                1   \n",
              "2  hypocrisy it be sad that all this talk here in...   Fifa                1   \n",
              "3  it only come every 4 year so even though there...   Fifa                1   \n",
              "4  the part about not sell alcohol at worldcup202...   Fifa                1   \n",
              "\n",
              "   count_url  count_emoji  count_profile  clean_tweet_Length  Tweet_Length  \\\n",
              "0          0            0              0                 279           279   \n",
              "1          1            0              0                 279           300   \n",
              "2          0            0              0                 271           271   \n",
              "3          0            1              0                 273           279   \n",
              "4          0            0              0                 268           268   \n",
              "\n",
              "                                               Tweet  \\\n",
              "0  #WorldCup2022 GW1 Predictions\\n \\n#Qat 1-2 #Ec...   \n",
              "1  This World Cup is corrupt even more now so it’...   \n",
              "2  Hypocrisy it is sad that all this talk here in...   \n",
              "3  It only comes every 4 years so even though the...   \n",
              "4  The part about not selling alcohol at #WorldCu...   \n",
              "\n",
              "                                tokenize_clean_tweet  token_length  \n",
              "0  ['worldcup2022', 'gw1', 'prediction', 'qat', '...            67  \n",
              "1  ['this', 'world', 'cup', 'be', 'corrupt', 'eve...            57  \n",
              "2  ['hypocrisy', 'it', 'be', 'sad', 'that', 'all'...            57  \n",
              "3  ['it', 'only', 'come', 'every', '4', 'year', '...            57  \n",
              "4  ['the', 'part', 'about', 'not', 'sell', 'alcoh...            56  "
            ]
          },
          "execution_count": 61,
          "metadata": {},
          "output_type": "execute_result"
        }
      ],
      "source": [
        "fifa_url = pd.read_csv('fifa_df_en_10k_del_url_w_stpw.csv')\n",
        "fifa_url.head()"
      ]
    },
    {
      "cell_type": "code",
      "execution_count": null,
      "id": "2e060d29",
      "metadata": {
        "id": "2e060d29",
        "outputId": "c741dab6-c76c-4d11-e3e4-bd7d93cd21fc"
      },
      "outputs": [
        {
          "name": "stdout",
          "output_type": "stream",
          "text": [
            "lemmatize_text here\n"
          ]
        }
      ],
      "source": [
        "game_df = text_preprocessing_del_url_keep_stpW(game_df)"
      ]
    },
    {
      "cell_type": "code",
      "execution_count": null,
      "id": "9199d7e4",
      "metadata": {
        "id": "9199d7e4"
      },
      "outputs": [],
      "source": [
        "game_df.to_csv('game_df_en_10k_del_url_w_stpw.csv', index=False, encoding='utf-8')"
      ]
    },
    {
      "cell_type": "code",
      "execution_count": null,
      "id": "0efa2d19",
      "metadata": {
        "id": "0efa2d19",
        "outputId": "f2383f58-2ce5-4255-8931-93a288fe7d29"
      },
      "outputs": [
        {
          "name": "stdout",
          "output_type": "stream",
          "text": [
            "lemmatize_text here\n"
          ]
        }
      ],
      "source": [
        "game_df_machine = text_preprocessing_del_url_keep_stpW(game_df_machine)"
      ]
    },
    {
      "cell_type": "code",
      "execution_count": null,
      "id": "a743ed66",
      "metadata": {
        "id": "a743ed66"
      },
      "outputs": [],
      "source": [
        "game_df_machine.to_csv('game_df_machine_en_10k_del_url_w_stpw.csv', index=False, encoding='utf-8')"
      ]
    },
    {
      "cell_type": "code",
      "execution_count": null,
      "id": "cf46dd47",
      "metadata": {
        "id": "cf46dd47",
        "outputId": "a46d1b00-d2f8-4553-d707-5b866d855ef3"
      },
      "outputs": [
        {
          "name": "stdout",
          "output_type": "stream",
          "text": [
            "lemmatize_text here\n"
          ]
        }
      ],
      "source": [
        "election_df_machine = text_preprocessing_del_url_keep_stpW(election_df_machine)"
      ]
    },
    {
      "cell_type": "code",
      "execution_count": null,
      "id": "6c9a4e68",
      "metadata": {
        "id": "6c9a4e68"
      },
      "outputs": [],
      "source": [
        "election_df_machine.to_csv('election_df_machine_en_10k_del_url_w_stpw.csv', index=False, encoding='utf-8')"
      ]
    },
    {
      "cell_type": "code",
      "execution_count": null,
      "id": "6ef7e622",
      "metadata": {
        "id": "6ef7e622",
        "outputId": "981c39b5-43e7-4334-c138-d1cf4f191ddc"
      },
      "outputs": [
        {
          "name": "stdout",
          "output_type": "stream",
          "text": [
            "lemmatize_text here\n"
          ]
        }
      ],
      "source": [
        "fifa_df_machine = text_preprocessing_del_url_keep_stpW(fifa_df_machine)"
      ]
    },
    {
      "cell_type": "code",
      "execution_count": null,
      "id": "12c76a85",
      "metadata": {
        "id": "12c76a85"
      },
      "outputs": [],
      "source": [
        "fifa_df_machine.to_csv('fifa_df_machine_en_10k_del_url_w_stpw.csv', index=False, encoding='utf-8')"
      ]
    },
    {
      "cell_type": "code",
      "execution_count": null,
      "id": "10d6edf0",
      "metadata": {
        "id": "10d6edf0",
        "outputId": "dee1a772-c11d-4940-a224-d5e9e99ed038"
      },
      "outputs": [
        {
          "name": "stdout",
          "output_type": "stream",
          "text": [
            "lemmatize_text here\n"
          ]
        }
      ],
      "source": [
        "airline_df_machine = text_preprocessing_del_url_keep_stpW(airline_df_machine)"
      ]
    },
    {
      "cell_type": "code",
      "execution_count": null,
      "id": "6d3a633b",
      "metadata": {
        "id": "6d3a633b"
      },
      "outputs": [],
      "source": [
        "airline_df_machine.to_csv('airline_df_machine_en_10k_del_url_w_stpw.csv', index=False, encoding='utf-8')"
      ]
    },
    {
      "cell_type": "code",
      "execution_count": null,
      "id": "916d61f8",
      "metadata": {
        "id": "916d61f8",
        "outputId": "e6001d46-3443-46b5-a71f-99dfa47cb534"
      },
      "outputs": [
        {
          "name": "stdout",
          "output_type": "stream",
          "text": [
            "lemmatize_text here\n"
          ]
        }
      ],
      "source": [
        "mental_health_df_machine = text_preprocessing_del_url_keep_stpW(mental_health_df_machine)"
      ]
    },
    {
      "cell_type": "code",
      "execution_count": null,
      "id": "002ac2d5",
      "metadata": {
        "id": "002ac2d5"
      },
      "outputs": [],
      "source": [
        "mental_health_df_machine.to_csv('mental_health_df_machine_en_10k_del_url_w_stpw.csv', index=False, encoding='utf-8')"
      ]
    },
    {
      "cell_type": "code",
      "execution_count": null,
      "id": "44bcc39d",
      "metadata": {
        "id": "44bcc39d",
        "outputId": "56de032b-7a22-4895-e822-b7f07224217b"
      },
      "outputs": [
        {
          "name": "stdout",
          "output_type": "stream",
          "text": [
            "lemmatize_text here\n"
          ]
        }
      ],
      "source": [
        "airline_df = text_preprocessing_del_url_keep_stpW(airline_df)\n",
        "airline_df.to_csv('airline_df_en_10k_del_url_w_stpw.csv', index=False, encoding='utf-8')"
      ]
    },
    {
      "cell_type": "code",
      "execution_count": null,
      "id": "06bc709b",
      "metadata": {
        "id": "06bc709b",
        "outputId": "efd1fe32-1f0e-4189-baee-97caa4d57c00"
      },
      "outputs": [
        {
          "name": "stdout",
          "output_type": "stream",
          "text": [
            "lemmatize_text here\n"
          ]
        }
      ],
      "source": [
        "mental_health_df = text_preprocessing_del_url_keep_stpW(mental_health_df)\n",
        "mental_health_df.to_csv('mental_health_en_10k_del_url_w_stpw.csv', index=False, encoding='utf-8')"
      ]
    },
    {
      "cell_type": "code",
      "execution_count": null,
      "id": "2ebe5e3b",
      "metadata": {
        "id": "2ebe5e3b",
        "outputId": "8c4b6167-6fe9-4e83-9443-9abf4a44b702"
      },
      "outputs": [
        {
          "data": {
            "text/plain": [
              "0     8832\n",
              "1     1117\n",
              "2       33\n",
              "3        7\n",
              "5        6\n",
              "16       1\n",
              "9        1\n",
              "4        1\n",
              "13       1\n",
              "6        1\n",
              "Name: count_url, dtype: int64"
            ]
          },
          "execution_count": 3,
          "metadata": {},
          "output_type": "execute_result"
        }
      ],
      "source": [
        "import pandas as pd\n",
        "\n",
        "airline_df = pd.read_csv('mental_health_en_10k_del_url_w_stpw.csv')\n",
        "airline_df[airline_df['clean_tweet'].str.contains('#url')]\n",
        "airline_df['count_url'].value_counts()"
      ]
    },
    {
      "cell_type": "code",
      "execution_count": null,
      "id": "e0294c3d",
      "metadata": {
        "id": "e0294c3d"
      },
      "outputs": [],
      "source": []
    }
  ],
  "metadata": {
    "kernelspec": {
      "display_name": "Python 3 (ipykernel)",
      "language": "python",
      "name": "python3"
    },
    "language_info": {
      "codemirror_mode": {
        "name": "ipython",
        "version": 3
      },
      "file_extension": ".py",
      "mimetype": "text/x-python",
      "name": "python",
      "nbconvert_exporter": "python",
      "pygments_lexer": "ipython3",
      "version": "3.10.9"
    },
    "colab": {
      "provenance": [],
      "toc_visible": true
    }
  },
  "nbformat": 4,
  "nbformat_minor": 5
}